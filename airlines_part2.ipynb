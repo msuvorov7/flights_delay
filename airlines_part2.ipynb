{
 "cells": [
  {
   "cell_type": "markdown",
   "metadata": {},
   "source": [
    "# Построение моделей"
   ]
  },
  {
   "cell_type": "code",
   "execution_count": 1,
   "metadata": {},
   "outputs": [],
   "source": [
    "import pandas as pd\n",
    "import numpy as np\n",
    "import seaborn as sns\n",
    "import plotly.graph_objs as go\n",
    "from matplotlib import pyplot as plt\n",
    "from tqdm import tqdm\n",
    "from plotly.subplots import make_subplots\n",
    "from sklearn.model_selection import train_test_split\n",
    "from sklearn.preprocessing import StandardScaler\n",
    "%matplotlib inline\n",
    "pd.options.display.max_columns = 50"
   ]
  },
  {
   "cell_type": "code",
   "execution_count": 2,
   "metadata": {},
   "outputs": [],
   "source": [
    "from sklearn.linear_model import LogisticRegression\n",
    "from sklearn.metrics import f1_score, classification_report, precision_recall_curve"
   ]
  },
  {
   "cell_type": "code",
   "execution_count": 3,
   "metadata": {},
   "outputs": [],
   "source": [
    "def plot_pr_curve(y_true, prediction):\n",
    "    precision, recall, thresholds = precision_recall_curve(y_true, prediction)\n",
    "    thresholds = [0] + thresholds.tolist()\n",
    "    plt.plot(thresholds, precision, label='precision');\n",
    "    plt.plot(thresholds, recall, label='recall');\n",
    "    plt.legend(); plt.xlabel('Threshold'); plt.ylabel('Precision or recall');\n",
    "    plt.title('Precision and recall for unbalanced dataset');"
   ]
  },
  {
   "cell_type": "code",
   "execution_count": 4,
   "metadata": {},
   "outputs": [
    {
     "name": "stdout",
     "output_type": "stream",
     "text": [
      "CPU times: user 38 s, sys: 16.1 s, total: 54 s\n",
      "Wall time: 58 s\n"
     ]
    }
   ],
   "source": [
    "%%time\n",
    "flights = pd.read_csv('v3/dep_delay_df.csv')\n",
    "flights.drop(['YEAR','FLIGHTS', 'DEP_DELAY_GROUP'], axis=1, inplace=True)\n",
    "#flights.FIRST_DEP_TIME.fillna(0, inplace=True)\n",
    "#flights.TOTAL_ADD_GTIME.fillna(0, inplace=True)\n",
    "#df.LONGEST_ADD_GTIME.fillna(0, inplace=True)\n",
    "flights.drop('LONGEST_ADD_GTIME', axis=1, inplace=True)\n",
    "flights.drop('TOTAL_ADD_GTIME', axis=1, inplace=True)\n",
    "flights.drop('FIRST_DEP_TIME', axis=1, inplace=True)\n",
    "flights.STD_DELAY.fillna(0, inplace=True)\n",
    "flights.MEAN_DELAY.fillna(0, inplace=True)\n",
    "flights.MAX_DELAY.fillna(0, inplace=True)\n",
    "flights.MIN_DELAY.fillna(0, inplace=True)\n",
    "flights.COUNT.fillna(0, inplace=True)\n",
    "flights['25%_DELAY'].fillna(0, inplace=True)\n",
    "flights['50%_DELAY'].fillna(0, inplace=True)\n",
    "flights['75%_DELAY'].fillna(0, inplace=True)\n",
    "flights.dropna(inplace=True)"
   ]
  },
  {
   "cell_type": "markdown",
   "metadata": {},
   "source": [
    "## Прогнозирование DEPARTURE_DELAY"
   ]
  },
  {
   "cell_type": "code",
   "execution_count": 5,
   "metadata": {},
   "outputs": [
    {
     "name": "stdout",
     "output_type": "stream",
     "text": [
      "<class 'pandas.core.frame.DataFrame'>\n",
      "Int64Index: 4738774 entries, 0 to 5714007\n",
      "Data columns (total 51 columns):\n",
      " #   Column              Dtype  \n",
      "---  ------              -----  \n",
      " 0   MONTH               int64  \n",
      " 1   DAY                 int64  \n",
      " 2   DAY_OF_WEEK         int64  \n",
      " 3   AIRLINE             int64  \n",
      " 4   TAIL_NUM            int64  \n",
      " 5   FLIGHT_MUNBER       int64  \n",
      " 6   ORIGIN              int64  \n",
      " 7   ORIGIN_CITY_NAME    int64  \n",
      " 8   DEST                int64  \n",
      " 9   DEST_CITY_NAME      int64  \n",
      " 10  CRS_DEP_TIME        int64  \n",
      " 11  DEP_DELAY           float64\n",
      " 12  CRS_ARR_TIME        int64  \n",
      " 13  DISTANCE            float64\n",
      " 14  maxtempC            int64  \n",
      " 15  mintempC            int64  \n",
      " 16  totalSnow_cm        float64\n",
      " 17  sunHour             float64\n",
      " 18  uvIndex             int64  \n",
      " 19  moon_illumination   int64  \n",
      " 20  tempC               int64  \n",
      " 21  windspeedKmph       int64  \n",
      " 22  winddirDegree       int64  \n",
      " 23  weatherCode_origin  float64\n",
      " 24  precipMM            float64\n",
      " 25  humidity            int64  \n",
      " 26  visibility          int64  \n",
      " 27  pressure            int64  \n",
      " 28  cloudcover          int64  \n",
      " 29  HeatIndexC          int64  \n",
      " 30  DewPointC           int64  \n",
      " 31  WindChillC          int64  \n",
      " 32  WindGustKmph        int64  \n",
      " 33  FeelsLikeC          int64  \n",
      " 34  weatherCode_dest    float64\n",
      " 35  COUNT               float64\n",
      " 36  MEAN_DELAY          float64\n",
      " 37  STD_DELAY           float64\n",
      " 38  MIN_DELAY           float64\n",
      " 39  25%_DELAY           float64\n",
      " 40  50%_DELAY           float64\n",
      " 41  75%_DELAY           float64\n",
      " 42  MAX_DELAY           float64\n",
      " 43  WEEKEND             int64  \n",
      " 44  LATE_AIRLINE_INDEX  float64\n",
      " 45  LATE_TAIL_INDEX     float64\n",
      " 46  LATE_ARR            float64\n",
      " 47  LATE_DEP_1          float64\n",
      " 48  LATE_DEP_2          float64\n",
      " 49  LATE_DEP_3          float64\n",
      " 50  LATE_DEP_4          float64\n",
      "dtypes: float64(22), int64(29)\n",
      "memory usage: 1.8 GB\n"
     ]
    }
   ],
   "source": [
    "flights.info()"
   ]
  },
  {
   "cell_type": "code",
   "execution_count": 6,
   "metadata": {},
   "outputs": [
    {
     "data": {
      "text/plain": [
       "(4738774, 51)"
      ]
     },
     "execution_count": 6,
     "metadata": {},
     "output_type": "execute_result"
    }
   ],
   "source": [
    "flights.shape"
   ]
  },
  {
   "cell_type": "code",
   "execution_count": 7,
   "metadata": {},
   "outputs": [
    {
     "data": {
      "text/html": [
       "<div>\n",
       "<style scoped>\n",
       "    .dataframe tbody tr th:only-of-type {\n",
       "        vertical-align: middle;\n",
       "    }\n",
       "\n",
       "    .dataframe tbody tr th {\n",
       "        vertical-align: top;\n",
       "    }\n",
       "\n",
       "    .dataframe thead th {\n",
       "        text-align: right;\n",
       "    }\n",
       "</style>\n",
       "<table border=\"1\" class=\"dataframe\">\n",
       "  <thead>\n",
       "    <tr style=\"text-align: right;\">\n",
       "      <th></th>\n",
       "      <th>MONTH</th>\n",
       "      <th>DAY</th>\n",
       "      <th>DAY_OF_WEEK</th>\n",
       "      <th>AIRLINE</th>\n",
       "      <th>TAIL_NUM</th>\n",
       "      <th>FLIGHT_MUNBER</th>\n",
       "      <th>ORIGIN</th>\n",
       "      <th>ORIGIN_CITY_NAME</th>\n",
       "      <th>DEST</th>\n",
       "      <th>DEST_CITY_NAME</th>\n",
       "      <th>CRS_DEP_TIME</th>\n",
       "      <th>DEP_DELAY</th>\n",
       "      <th>CRS_ARR_TIME</th>\n",
       "      <th>DISTANCE</th>\n",
       "      <th>maxtempC</th>\n",
       "      <th>mintempC</th>\n",
       "      <th>totalSnow_cm</th>\n",
       "      <th>sunHour</th>\n",
       "      <th>uvIndex</th>\n",
       "      <th>moon_illumination</th>\n",
       "      <th>tempC</th>\n",
       "      <th>windspeedKmph</th>\n",
       "      <th>winddirDegree</th>\n",
       "      <th>weatherCode_origin</th>\n",
       "      <th>precipMM</th>\n",
       "      <th>...</th>\n",
       "      <th>visibility</th>\n",
       "      <th>pressure</th>\n",
       "      <th>cloudcover</th>\n",
       "      <th>HeatIndexC</th>\n",
       "      <th>DewPointC</th>\n",
       "      <th>WindChillC</th>\n",
       "      <th>WindGustKmph</th>\n",
       "      <th>FeelsLikeC</th>\n",
       "      <th>weatherCode_dest</th>\n",
       "      <th>COUNT</th>\n",
       "      <th>MEAN_DELAY</th>\n",
       "      <th>STD_DELAY</th>\n",
       "      <th>MIN_DELAY</th>\n",
       "      <th>25%_DELAY</th>\n",
       "      <th>50%_DELAY</th>\n",
       "      <th>75%_DELAY</th>\n",
       "      <th>MAX_DELAY</th>\n",
       "      <th>WEEKEND</th>\n",
       "      <th>LATE_AIRLINE_INDEX</th>\n",
       "      <th>LATE_TAIL_INDEX</th>\n",
       "      <th>LATE_ARR</th>\n",
       "      <th>LATE_DEP_1</th>\n",
       "      <th>LATE_DEP_2</th>\n",
       "      <th>LATE_DEP_3</th>\n",
       "      <th>LATE_DEP_4</th>\n",
       "    </tr>\n",
       "  </thead>\n",
       "  <tbody>\n",
       "    <tr>\n",
       "      <th>0</th>\n",
       "      <td>4</td>\n",
       "      <td>23</td>\n",
       "      <td>4</td>\n",
       "      <td>619639</td>\n",
       "      <td>108773</td>\n",
       "      <td>165</td>\n",
       "      <td>640831</td>\n",
       "      <td>323905</td>\n",
       "      <td>795909</td>\n",
       "      <td>376956</td>\n",
       "      <td>1210</td>\n",
       "      <td>-8.0</td>\n",
       "      <td>1414</td>\n",
       "      <td>1440.0</td>\n",
       "      <td>8</td>\n",
       "      <td>3</td>\n",
       "      <td>0.0</td>\n",
       "      <td>13.8</td>\n",
       "      <td>3</td>\n",
       "      <td>29</td>\n",
       "      <td>8</td>\n",
       "      <td>12</td>\n",
       "      <td>324</td>\n",
       "      <td>113.0</td>\n",
       "      <td>0.0</td>\n",
       "      <td>...</td>\n",
       "      <td>10</td>\n",
       "      <td>1018</td>\n",
       "      <td>23</td>\n",
       "      <td>8</td>\n",
       "      <td>-1</td>\n",
       "      <td>5</td>\n",
       "      <td>17</td>\n",
       "      <td>5</td>\n",
       "      <td>200.0</td>\n",
       "      <td>10.0</td>\n",
       "      <td>-1.600000</td>\n",
       "      <td>8.408990</td>\n",
       "      <td>-11.0</td>\n",
       "      <td>-5.5</td>\n",
       "      <td>-3.0</td>\n",
       "      <td>-0.50</td>\n",
       "      <td>20.0</td>\n",
       "      <td>0</td>\n",
       "      <td>0.119103</td>\n",
       "      <td>0.108824</td>\n",
       "      <td>0.0</td>\n",
       "      <td>0.0</td>\n",
       "      <td>0.0</td>\n",
       "      <td>0.0</td>\n",
       "      <td>0.0</td>\n",
       "    </tr>\n",
       "    <tr>\n",
       "      <th>1</th>\n",
       "      <td>4</td>\n",
       "      <td>24</td>\n",
       "      <td>5</td>\n",
       "      <td>619639</td>\n",
       "      <td>246721</td>\n",
       "      <td>165</td>\n",
       "      <td>640831</td>\n",
       "      <td>323905</td>\n",
       "      <td>795909</td>\n",
       "      <td>376956</td>\n",
       "      <td>1210</td>\n",
       "      <td>4.0</td>\n",
       "      <td>1414</td>\n",
       "      <td>1440.0</td>\n",
       "      <td>11</td>\n",
       "      <td>3</td>\n",
       "      <td>0.0</td>\n",
       "      <td>12.2</td>\n",
       "      <td>3</td>\n",
       "      <td>36</td>\n",
       "      <td>11</td>\n",
       "      <td>13</td>\n",
       "      <td>90</td>\n",
       "      <td>116.0</td>\n",
       "      <td>0.0</td>\n",
       "      <td>...</td>\n",
       "      <td>10</td>\n",
       "      <td>1017</td>\n",
       "      <td>46</td>\n",
       "      <td>11</td>\n",
       "      <td>-1</td>\n",
       "      <td>10</td>\n",
       "      <td>22</td>\n",
       "      <td>10</td>\n",
       "      <td>176.0</td>\n",
       "      <td>19.0</td>\n",
       "      <td>22.157895</td>\n",
       "      <td>49.944706</td>\n",
       "      <td>-9.0</td>\n",
       "      <td>-3.0</td>\n",
       "      <td>-1.0</td>\n",
       "      <td>12.00</td>\n",
       "      <td>140.0</td>\n",
       "      <td>0</td>\n",
       "      <td>0.119103</td>\n",
       "      <td>0.123330</td>\n",
       "      <td>0.0</td>\n",
       "      <td>1.0</td>\n",
       "      <td>1.0</td>\n",
       "      <td>0.0</td>\n",
       "      <td>0.0</td>\n",
       "    </tr>\n",
       "    <tr>\n",
       "      <th>2</th>\n",
       "      <td>4</td>\n",
       "      <td>25</td>\n",
       "      <td>6</td>\n",
       "      <td>619639</td>\n",
       "      <td>840720</td>\n",
       "      <td>165</td>\n",
       "      <td>640831</td>\n",
       "      <td>323905</td>\n",
       "      <td>795909</td>\n",
       "      <td>376956</td>\n",
       "      <td>1210</td>\n",
       "      <td>44.0</td>\n",
       "      <td>1414</td>\n",
       "      <td>1440.0</td>\n",
       "      <td>7</td>\n",
       "      <td>4</td>\n",
       "      <td>0.0</td>\n",
       "      <td>9.8</td>\n",
       "      <td>2</td>\n",
       "      <td>44</td>\n",
       "      <td>5</td>\n",
       "      <td>14</td>\n",
       "      <td>60</td>\n",
       "      <td>122.0</td>\n",
       "      <td>0.0</td>\n",
       "      <td>...</td>\n",
       "      <td>10</td>\n",
       "      <td>1009</td>\n",
       "      <td>100</td>\n",
       "      <td>5</td>\n",
       "      <td>4</td>\n",
       "      <td>2</td>\n",
       "      <td>22</td>\n",
       "      <td>2</td>\n",
       "      <td>113.0</td>\n",
       "      <td>11.0</td>\n",
       "      <td>1.636364</td>\n",
       "      <td>16.698938</td>\n",
       "      <td>-7.0</td>\n",
       "      <td>-5.5</td>\n",
       "      <td>-4.0</td>\n",
       "      <td>-0.50</td>\n",
       "      <td>51.0</td>\n",
       "      <td>1</td>\n",
       "      <td>0.119103</td>\n",
       "      <td>0.136511</td>\n",
       "      <td>0.0</td>\n",
       "      <td>0.0</td>\n",
       "      <td>1.0</td>\n",
       "      <td>0.0</td>\n",
       "      <td>0.0</td>\n",
       "    </tr>\n",
       "    <tr>\n",
       "      <th>3</th>\n",
       "      <td>4</td>\n",
       "      <td>26</td>\n",
       "      <td>7</td>\n",
       "      <td>619639</td>\n",
       "      <td>39014</td>\n",
       "      <td>165</td>\n",
       "      <td>640831</td>\n",
       "      <td>323905</td>\n",
       "      <td>795909</td>\n",
       "      <td>376956</td>\n",
       "      <td>1210</td>\n",
       "      <td>-5.0</td>\n",
       "      <td>1414</td>\n",
       "      <td>1440.0</td>\n",
       "      <td>8</td>\n",
       "      <td>3</td>\n",
       "      <td>0.0</td>\n",
       "      <td>13.9</td>\n",
       "      <td>3</td>\n",
       "      <td>52</td>\n",
       "      <td>8</td>\n",
       "      <td>17</td>\n",
       "      <td>15</td>\n",
       "      <td>113.0</td>\n",
       "      <td>0.0</td>\n",
       "      <td>...</td>\n",
       "      <td>10</td>\n",
       "      <td>1017</td>\n",
       "      <td>3</td>\n",
       "      <td>8</td>\n",
       "      <td>2</td>\n",
       "      <td>6</td>\n",
       "      <td>23</td>\n",
       "      <td>6</td>\n",
       "      <td>116.0</td>\n",
       "      <td>22.0</td>\n",
       "      <td>17.272727</td>\n",
       "      <td>37.386249</td>\n",
       "      <td>-8.0</td>\n",
       "      <td>-4.0</td>\n",
       "      <td>-1.5</td>\n",
       "      <td>15.50</td>\n",
       "      <td>128.0</td>\n",
       "      <td>1</td>\n",
       "      <td>0.119103</td>\n",
       "      <td>0.110572</td>\n",
       "      <td>0.0</td>\n",
       "      <td>0.0</td>\n",
       "      <td>1.0</td>\n",
       "      <td>1.0</td>\n",
       "      <td>0.0</td>\n",
       "    </tr>\n",
       "    <tr>\n",
       "      <th>4</th>\n",
       "      <td>4</td>\n",
       "      <td>27</td>\n",
       "      <td>1</td>\n",
       "      <td>619639</td>\n",
       "      <td>854242</td>\n",
       "      <td>165</td>\n",
       "      <td>640831</td>\n",
       "      <td>323905</td>\n",
       "      <td>795909</td>\n",
       "      <td>376956</td>\n",
       "      <td>1210</td>\n",
       "      <td>9.0</td>\n",
       "      <td>1414</td>\n",
       "      <td>1440.0</td>\n",
       "      <td>7</td>\n",
       "      <td>3</td>\n",
       "      <td>0.0</td>\n",
       "      <td>13.9</td>\n",
       "      <td>3</td>\n",
       "      <td>59</td>\n",
       "      <td>7</td>\n",
       "      <td>27</td>\n",
       "      <td>13</td>\n",
       "      <td>113.0</td>\n",
       "      <td>0.0</td>\n",
       "      <td>...</td>\n",
       "      <td>10</td>\n",
       "      <td>1021</td>\n",
       "      <td>14</td>\n",
       "      <td>7</td>\n",
       "      <td>3</td>\n",
       "      <td>3</td>\n",
       "      <td>39</td>\n",
       "      <td>3</td>\n",
       "      <td>113.0</td>\n",
       "      <td>18.0</td>\n",
       "      <td>8.333333</td>\n",
       "      <td>26.648033</td>\n",
       "      <td>-6.0</td>\n",
       "      <td>-4.0</td>\n",
       "      <td>-2.5</td>\n",
       "      <td>2.25</td>\n",
       "      <td>94.0</td>\n",
       "      <td>0</td>\n",
       "      <td>0.119103</td>\n",
       "      <td>0.119418</td>\n",
       "      <td>1.0</td>\n",
       "      <td>1.0</td>\n",
       "      <td>1.0</td>\n",
       "      <td>0.0</td>\n",
       "      <td>0.0</td>\n",
       "    </tr>\n",
       "  </tbody>\n",
       "</table>\n",
       "<p>5 rows × 51 columns</p>\n",
       "</div>"
      ],
      "text/plain": [
       "   MONTH  DAY  DAY_OF_WEEK  AIRLINE  TAIL_NUM  FLIGHT_MUNBER  ORIGIN  \\\n",
       "0      4   23            4   619639    108773            165  640831   \n",
       "1      4   24            5   619639    246721            165  640831   \n",
       "2      4   25            6   619639    840720            165  640831   \n",
       "3      4   26            7   619639     39014            165  640831   \n",
       "4      4   27            1   619639    854242            165  640831   \n",
       "\n",
       "   ORIGIN_CITY_NAME    DEST  DEST_CITY_NAME  CRS_DEP_TIME  DEP_DELAY  \\\n",
       "0            323905  795909          376956          1210       -8.0   \n",
       "1            323905  795909          376956          1210        4.0   \n",
       "2            323905  795909          376956          1210       44.0   \n",
       "3            323905  795909          376956          1210       -5.0   \n",
       "4            323905  795909          376956          1210        9.0   \n",
       "\n",
       "   CRS_ARR_TIME  DISTANCE  maxtempC  mintempC  totalSnow_cm  sunHour  uvIndex  \\\n",
       "0          1414    1440.0         8         3           0.0     13.8        3   \n",
       "1          1414    1440.0        11         3           0.0     12.2        3   \n",
       "2          1414    1440.0         7         4           0.0      9.8        2   \n",
       "3          1414    1440.0         8         3           0.0     13.9        3   \n",
       "4          1414    1440.0         7         3           0.0     13.9        3   \n",
       "\n",
       "   moon_illumination  tempC  windspeedKmph  winddirDegree  weatherCode_origin  \\\n",
       "0                 29      8             12            324               113.0   \n",
       "1                 36     11             13             90               116.0   \n",
       "2                 44      5             14             60               122.0   \n",
       "3                 52      8             17             15               113.0   \n",
       "4                 59      7             27             13               113.0   \n",
       "\n",
       "   precipMM  ...  visibility  pressure  cloudcover  HeatIndexC  DewPointC  \\\n",
       "0       0.0  ...          10      1018          23           8         -1   \n",
       "1       0.0  ...          10      1017          46          11         -1   \n",
       "2       0.0  ...          10      1009         100           5          4   \n",
       "3       0.0  ...          10      1017           3           8          2   \n",
       "4       0.0  ...          10      1021          14           7          3   \n",
       "\n",
       "   WindChillC  WindGustKmph  FeelsLikeC  weatherCode_dest  COUNT  MEAN_DELAY  \\\n",
       "0           5            17           5             200.0   10.0   -1.600000   \n",
       "1          10            22          10             176.0   19.0   22.157895   \n",
       "2           2            22           2             113.0   11.0    1.636364   \n",
       "3           6            23           6             116.0   22.0   17.272727   \n",
       "4           3            39           3             113.0   18.0    8.333333   \n",
       "\n",
       "   STD_DELAY  MIN_DELAY  25%_DELAY  50%_DELAY  75%_DELAY  MAX_DELAY  WEEKEND  \\\n",
       "0   8.408990      -11.0       -5.5       -3.0      -0.50       20.0        0   \n",
       "1  49.944706       -9.0       -3.0       -1.0      12.00      140.0        0   \n",
       "2  16.698938       -7.0       -5.5       -4.0      -0.50       51.0        1   \n",
       "3  37.386249       -8.0       -4.0       -1.5      15.50      128.0        1   \n",
       "4  26.648033       -6.0       -4.0       -2.5       2.25       94.0        0   \n",
       "\n",
       "   LATE_AIRLINE_INDEX  LATE_TAIL_INDEX  LATE_ARR  LATE_DEP_1  LATE_DEP_2  \\\n",
       "0            0.119103         0.108824       0.0         0.0         0.0   \n",
       "1            0.119103         0.123330       0.0         1.0         1.0   \n",
       "2            0.119103         0.136511       0.0         0.0         1.0   \n",
       "3            0.119103         0.110572       0.0         0.0         1.0   \n",
       "4            0.119103         0.119418       1.0         1.0         1.0   \n",
       "\n",
       "   LATE_DEP_3  LATE_DEP_4  \n",
       "0         0.0         0.0  \n",
       "1         0.0         0.0  \n",
       "2         0.0         0.0  \n",
       "3         1.0         0.0  \n",
       "4         0.0         0.0  \n",
       "\n",
       "[5 rows x 51 columns]"
      ]
     },
     "execution_count": 7,
     "metadata": {},
     "output_type": "execute_result"
    }
   ],
   "source": [
    "flights.head()"
   ]
  },
  {
   "cell_type": "code",
   "execution_count": 8,
   "metadata": {},
   "outputs": [],
   "source": [
    "def fill_dep_delay(x):\n",
    "    if x >= 15:\n",
    "        return 1\n",
    "    return 0"
   ]
  },
  {
   "cell_type": "code",
   "execution_count": 9,
   "metadata": {},
   "outputs": [],
   "source": [
    "flights['DEP_DELAY'] = flights['DEP_DELAY'].apply(fill_dep_delay)"
   ]
  },
  {
   "cell_type": "code",
   "execution_count": 10,
   "metadata": {},
   "outputs": [],
   "source": [
    "scaler = StandardScaler()"
   ]
  },
  {
   "cell_type": "code",
   "execution_count": 11,
   "metadata": {},
   "outputs": [],
   "source": [
    "y = flights.DEP_DELAY\n",
    "flights.drop('DEP_DELAY', axis=1, inplace=True)\n",
    "x_train, x_test, y_train, y_test = train_test_split(flights, y, random_state=42, stratify=y)\n",
    "x_train = scaler.fit_transform(x_train)\n",
    "x_test = scaler.transform(x_test)"
   ]
  },
  {
   "cell_type": "markdown",
   "metadata": {},
   "source": [
    "### Линейные модели регрессии"
   ]
  },
  {
   "cell_type": "markdown",
   "metadata": {},
   "source": [
    "Главное преимущество линейных моделей в том, что они быстро обучаются даже на большой выборке. Это решение можно смело назвать базовым для широкого спектра задач, которое позволяет получить неплохой ответ уже на старте. \n",
    "\n",
    "Lasso регрессия вряд ли даст лучший результат, так как у нас нет большого количества мультиколлинеарных значений. По той же причине не стоит ожидать прорыва от Ridge и ElasticNet. Но мы всё же это проверим."
   ]
  },
  {
   "cell_type": "code",
   "execution_count": 11,
   "metadata": {},
   "outputs": [],
   "source": [
    "from sklearn.linear_model import LogisticRegression"
   ]
  },
  {
   "cell_type": "code",
   "execution_count": 13,
   "metadata": {
    "scrolled": true
   },
   "outputs": [
    {
     "name": "stdout",
     "output_type": "stream",
     "text": [
      "              precision    recall  f1-score   support\n",
      "\n",
      "           0       0.88      0.96      0.92    968346\n",
      "           1       0.69      0.40      0.51    216348\n",
      "\n",
      "    accuracy                           0.86   1184694\n",
      "   macro avg       0.79      0.68      0.71   1184694\n",
      "weighted avg       0.84      0.86      0.84   1184694\n",
      "\n",
      "CPU times: user 57 s, sys: 1.08 s, total: 58.1 s\n",
      "Wall time: 1min\n"
     ]
    }
   ],
   "source": [
    "%%time\n",
    "logit = LogisticRegression(max_iter=200)\n",
    "logit.fit(x_train, y_train)\n",
    "print(classification_report(y_test, logit.predict(x_test)))"
   ]
  },
  {
   "cell_type": "code",
   "execution_count": 17,
   "metadata": {},
   "outputs": [
    {
     "data": {
      "image/png": "[encoded data removed]",
      "text/plain": [
       "<Figure size 432x288 with 1 Axes>"
      ]
     },
     "metadata": {
      "needs_background": "light"
     },
     "output_type": "display_data"
    }
   ],
   "source": [
    "plot_pr_curve(y_test, logit.predict_proba(x_test)[:,1])"
   ]
  },
  {
   "cell_type": "markdown",
   "metadata": {},
   "source": [
    "### Сбалансированные веса"
   ]
  },
  {
   "cell_type": "code",
   "execution_count": 20,
   "metadata": {},
   "outputs": [
    {
     "name": "stdout",
     "output_type": "stream",
     "text": [
      "              precision    recall  f1-score   support\n",
      "\n",
      "           0       0.92      0.81      0.86    968346\n",
      "           1       0.45      0.69      0.54    216348\n",
      "\n",
      "    accuracy                           0.79   1184694\n",
      "   macro avg       0.68      0.75      0.70   1184694\n",
      "weighted avg       0.83      0.79      0.80   1184694\n",
      "\n",
      "CPU times: user 1min 12s, sys: 408 ms, total: 1min 12s\n",
      "Wall time: 1min 13s\n"
     ]
    }
   ],
   "source": [
    "%%time\n",
    "logit = LogisticRegression(class_weight='balanced', max_iter=200)\n",
    "logit.fit(x_train, y_train)\n",
    "print(classification_report(y_test, logit.predict(x_test)))"
   ]
  },
  {
   "cell_type": "code",
   "execution_count": 22,
   "metadata": {},
   "outputs": [
    {
     "data": {
      "image/png": "[encoded data removed]",
      "text/plain": [
       "<Figure size 432x288 with 1 Axes>"
      ]
     },
     "metadata": {
      "needs_background": "light"
     },
     "output_type": "display_data"
    }
   ],
   "source": [
    "plot_pr_curve(y_test, logit.predict_proba(x_test)[:,1])"
   ]
  },
  {
   "cell_type": "markdown",
   "metadata": {},
   "source": [
    "### Нейросетевая регрессия"
   ]
  },
  {
   "cell_type": "code",
   "execution_count": 15,
   "metadata": {},
   "outputs": [],
   "source": [
    "from keras.models import Sequential\n",
    "from keras.layers import Dense, ReLU"
   ]
  },
  {
   "cell_type": "code",
   "execution_count": 17,
   "metadata": {},
   "outputs": [],
   "source": [
    "network = Sequential()\n",
    "network.add(Dense(32, input_dim=x_train.shape[1], kernel_initializer='he_normal', activation='relu'))\n",
    "network.add(Dense(32, activation='relu', kernel_initializer='he_normal'))\n",
    "#network.add(Dense(32, activation='relu', kernel_initializer='he_normal'))\n",
    "network.add(Dense(1, activation='sigmoid', kernel_initializer='glorot_normal'))\n",
    "\n",
    "network.compile(optimizer=\"rmsprop\", loss=\"binary_crossentropy\")"
   ]
  },
  {
   "cell_type": "code",
   "execution_count": 19,
   "metadata": {
    "scrolled": false
   },
   "outputs": [
    {
     "name": "stdout",
     "output_type": "stream",
     "text": [
      "Epoch 1/10\n",
      "13884/13884 [==============================] - 28s 2ms/step - loss: 0.3559\n",
      "Epoch 2/10\n",
      "13884/13884 [==============================] - 27s 2ms/step - loss: 0.3552\n",
      "Epoch 3/10\n",
      "13884/13884 [==============================] - 28s 2ms/step - loss: 0.3547\n",
      "Epoch 4/10\n",
      "13884/13884 [==============================] - 27s 2ms/step - loss: 0.3543\n",
      "Epoch 5/10\n",
      "13884/13884 [==============================] - 28s 2ms/step - loss: 0.3540\n",
      "Epoch 6/10\n",
      "13884/13884 [==============================] - 28s 2ms/step - loss: 0.3538\n",
      "Epoch 7/10\n",
      "13884/13884 [==============================] - 28s 2ms/step - loss: 0.3535\n",
      "Epoch 8/10\n",
      "13884/13884 [==============================] - 28s 2ms/step - loss: 0.3534\n",
      "Epoch 9/10\n",
      "13884/13884 [==============================] - 28s 2ms/step - loss: 0.3534\n",
      "Epoch 10/10\n",
      "13884/13884 [==============================] - 28s 2ms/step - loss: 0.3533\n",
      "CPU times: user 8min 36s, sys: 45.3 s, total: 9min 21s\n",
      "Wall time: 4min 42s\n"
     ]
    },
    {
     "data": {
      "text/plain": [
       "<tensorflow.python.keras.callbacks.History at 0x7f8504061160>"
      ]
     },
     "execution_count": 19,
     "metadata": {},
     "output_type": "execute_result"
    }
   ],
   "source": [
    "%%time\n",
    "network.fit(x_train, y_train, epochs=10, batch_size=256)"
   ]
  },
  {
   "cell_type": "code",
   "execution_count": 20,
   "metadata": {},
   "outputs": [],
   "source": [
    "p_network = network.predict(x_test)"
   ]
  },
  {
   "cell_type": "code",
   "execution_count": 23,
   "metadata": {},
   "outputs": [],
   "source": [
    "def threshhold(x):\n",
    "    if x >= 0.5:\n",
    "        return 1\n",
    "    return 0"
   ]
  },
  {
   "cell_type": "code",
   "execution_count": 24,
   "metadata": {},
   "outputs": [
    {
     "name": "stderr",
     "output_type": "stream",
     "text": [
      "100%|██████████| 1184694/1184694 [00:04<00:00, 272745.52it/s]\n"
     ]
    },
    {
     "name": "stdout",
     "output_type": "stream",
     "text": [
      "              precision    recall  f1-score   support\n",
      "\n",
      "           0       0.88      0.96      0.92    968346\n",
      "           1       0.71      0.43      0.53    216348\n",
      "\n",
      "    accuracy                           0.86   1184694\n",
      "   macro avg       0.79      0.69      0.73   1184694\n",
      "weighted avg       0.85      0.86      0.85   1184694\n",
      "\n"
     ]
    }
   ],
   "source": [
    "test_score = []\n",
    "for i in tqdm(range(len(y_test))):\n",
    "    test_score.append(threshhold(p_network[i]))\n",
    "\n",
    "print(classification_report(y_test, test_score))"
   ]
  },
  {
   "cell_type": "code",
   "execution_count": 40,
   "metadata": {
    "scrolled": true
   },
   "outputs": [
    {
     "data": {
      "image/png": "[encoded data removed]",
      "text/plain": [
       "<Figure size 432x288 with 1 Axes>"
      ]
     },
     "metadata": {
      "needs_background": "light"
     },
     "output_type": "display_data"
    }
   ],
   "source": [
    "plot_pr_curve(y_test, p_network)"
   ]
  },
  {
   "cell_type": "markdown",
   "metadata": {},
   "source": [
    "### Метод опорных векторов"
   ]
  },
  {
   "cell_type": "code",
   "execution_count": 12,
   "metadata": {},
   "outputs": [],
   "source": [
    "from sklearn.svm import LinearSVC"
   ]
  },
  {
   "cell_type": "code",
   "execution_count": null,
   "metadata": {
    "scrolled": true
   },
   "outputs": [],
   "source": [
    "%%time\n",
    "svc = LinearSVC()\n",
    "svc.fit(x_train, y_train)"
   ]
  },
  {
   "cell_type": "code",
   "execution_count": null,
   "metadata": {},
   "outputs": [],
   "source": [
    "print(classification_report(y_test, svc.predict(x_test)))"
   ]
  },
  {
   "cell_type": "markdown",
   "metadata": {},
   "source": [
    "### K-ближайщих соседей"
   ]
  },
  {
   "cell_type": "code",
   "execution_count": 13,
   "metadata": {},
   "outputs": [],
   "source": [
    "from sklearn.neighbors import KNeighborsClassifier"
   ]
  },
  {
   "cell_type": "code",
   "execution_count": null,
   "metadata": {},
   "outputs": [],
   "source": [
    "%%time\n",
    "knn = KNeighborsClassifier(n_neighbors=20, n_jobs=6)\n",
    "knn.fit(x_train, y_train)"
   ]
  },
  {
   "cell_type": "code",
   "execution_count": 107,
   "metadata": {
    "scrolled": true
   },
   "outputs": [
    {
     "data": {
      "text/plain": [
       "17.408651338472527"
      ]
     },
     "execution_count": 107,
     "metadata": {},
     "output_type": "execute_result"
    }
   ],
   "source": [
    "#%%script False\n",
    "prediction = knn.predict(x_test)"
   ]
  },
  {
   "cell_type": "code",
   "execution_count": 12,
   "metadata": {},
   "outputs": [
    {
     "data": {
      "text/plain": [
       "<matplotlib.legend.Legend at 0x7f0b106bef10>"
      ]
     },
     "execution_count": 12,
     "metadata": {},
     "output_type": "execute_result"
    },
    {
     "data": {
      "image/png": "[encoded data removed]",
      "text/plain": [
       "<Figure size 432x288 with 1 Axes>"
      ]
     },
     "metadata": {
      "needs_background": "light"
     },
     "output_type": "display_data"
    }
   ],
   "source": [
    "print(classification_report(y_test, prediction))"
   ]
  },
  {
   "cell_type": "markdown",
   "metadata": {},
   "source": [
    "### Дерево решений"
   ]
  },
  {
   "cell_type": "markdown",
   "metadata": {},
   "source": [
    "Достаточно непростой алгоритм с точки зрения подбора гиперпараметров. Ограничим количество признаков и его максимальную глубину"
   ]
  },
  {
   "cell_type": "code",
   "execution_count": 14,
   "metadata": {},
   "outputs": [],
   "source": [
    "from sklearn.tree import DecisionTreeClassifier"
   ]
  },
  {
   "cell_type": "code",
   "execution_count": 12,
   "metadata": {},
   "outputs": [
    {
     "name": "stdout",
     "output_type": "stream",
     "text": [
      "CPU times: user 1min 13s, sys: 344 ms, total: 1min 14s\n",
      "Wall time: 1min 14s\n"
     ]
    },
    {
     "data": {
      "text/plain": [
       "DecisionTreeClassifier(max_depth=10, max_features=13, random_state=42)"
      ]
     },
     "execution_count": 12,
     "metadata": {},
     "output_type": "execute_result"
    }
   ],
   "source": [
    "%%time\n",
    "tree = DecisionTreeClassifier(max_depth=10, max_features=13, random_state=42)\n",
    "tree.fit(x_train, y_train)"
   ]
  },
  {
   "cell_type": "code",
   "execution_count": 16,
   "metadata": {
    "scrolled": false
   },
   "outputs": [
    {
     "name": "stdout",
     "output_type": "stream",
     "text": [
      "              precision    recall  f1-score   support\n",
      "\n",
      "           0       0.89      0.95      0.92    968346\n",
      "           1       0.68      0.49      0.57    216348\n",
      "\n",
      "    accuracy                           0.86   1184694\n",
      "   macro avg       0.79      0.72      0.74   1184694\n",
      "weighted avg       0.85      0.86      0.86   1184694\n",
      "\n"
     ]
    }
   ],
   "source": [
    "print(classification_report(y_test, tree.predict(x_test)))"
   ]
  },
  {
   "cell_type": "code",
   "execution_count": 17,
   "metadata": {
    "scrolled": true
   },
   "outputs": [
    {
     "data": {
      "image/png": "[encoded data removed]",
      "text/plain": [
       "<Figure size 432x288 with 1 Axes>"
      ]
     },
     "metadata": {
      "needs_background": "light"
     },
     "output_type": "display_data"
    }
   ],
   "source": [
    "plot_pr_curve(y_test, tree.predict_proba(x_test)[:, 1])"
   ]
  },
  {
   "cell_type": "markdown",
   "metadata": {},
   "source": [
    "Неплохой результат. Сохраним получившееся дерево"
   ]
  },
  {
   "cell_type": "code",
   "execution_count": 135,
   "metadata": {},
   "outputs": [],
   "source": [
    "from sklearn.tree import export_graphviz"
   ]
  },
  {
   "cell_type": "code",
   "execution_count": 136,
   "metadata": {},
   "outputs": [],
   "source": [
    "# для этого понадобится библиотека pydot, graphviz (pip3 install pydot graphviz)\n",
    "export_graphviz(tree, feature_names=X.columns, out_file='tree.dot', filled=True)\n",
    "# !dot -Tpng 'tree.dot' -o 'tree.png'"
   ]
  },
  {
   "cell_type": "markdown",
   "metadata": {},
   "source": [
    "### Ансамблевые модели"
   ]
  },
  {
   "cell_type": "markdown",
   "metadata": {},
   "source": [
    "Начнём со случайного леса. Ограничим количество деревьев, глубину, набор признаков для сокращения времени обучения"
   ]
  },
  {
   "cell_type": "code",
   "execution_count": 12,
   "metadata": {},
   "outputs": [],
   "source": [
    "from sklearn.ensemble import RandomForestClassifier"
   ]
  },
  {
   "cell_type": "code",
   "execution_count": 19,
   "metadata": {},
   "outputs": [
    {
     "name": "stderr",
     "output_type": "stream",
     "text": [
      "[Parallel(n_jobs=6)]: Using backend ThreadingBackend with 6 concurrent workers.\n"
     ]
    },
    {
     "name": "stdout",
     "output_type": "stream",
     "text": [
      "CPU times: user 14min 59s, sys: 7.2 s, total: 15min 6s\n",
      "Wall time: 3min 1s\n"
     ]
    },
    {
     "name": "stderr",
     "output_type": "stream",
     "text": [
      "[Parallel(n_jobs=6)]: Done  20 out of  20 | elapsed:  3.0min finished\n"
     ]
    },
    {
     "data": {
      "text/plain": [
       "RandomForestClassifier(max_depth=10, max_features=10, n_estimators=20, n_jobs=6,\n",
       "                       random_state=42, verbose=True)"
      ]
     },
     "execution_count": 19,
     "metadata": {},
     "output_type": "execute_result"
    }
   ],
   "source": [
    "%%time\n",
    "forest = RandomForestClassifier(n_estimators=20, max_depth=10, max_features=10, verbose=True, n_jobs=6, random_state=42)\n",
    "forest.fit(x_train, y_train)"
   ]
  },
  {
   "cell_type": "code",
   "execution_count": 23,
   "metadata": {
    "scrolled": true
   },
   "outputs": [
    {
     "name": "stderr",
     "output_type": "stream",
     "text": [
      "[Parallel(n_jobs=6)]: Using backend ThreadingBackend with 6 concurrent workers.\n",
      "[Parallel(n_jobs=6)]: Done  38 tasks      | elapsed:    2.4s\n",
      "[Parallel(n_jobs=6)]: Done  50 out of  50 | elapsed:    3.1s finished\n"
     ]
    },
    {
     "name": "stdout",
     "output_type": "stream",
     "text": [
      "              precision    recall  f1-score   support\n",
      "\n",
      "           0       0.88      0.96      0.92    968346\n",
      "           1       0.72      0.43      0.54    216348\n",
      "\n",
      "    accuracy                           0.87   1184694\n",
      "   macro avg       0.80      0.70      0.73   1184694\n",
      "weighted avg       0.85      0.87      0.85   1184694\n",
      "\n"
     ]
    }
   ],
   "source": [
    "print(classification_report(y_test, forest.predict(x_test)))"
   ]
  },
  {
   "cell_type": "code",
   "execution_count": 20,
   "metadata": {
    "scrolled": false
   },
   "outputs": [
    {
     "name": "stderr",
     "output_type": "stream",
     "text": [
      "[Parallel(n_jobs=6)]: Using backend ThreadingBackend with 6 concurrent workers.\n",
      "[Parallel(n_jobs=6)]: Done  20 out of  20 | elapsed:    1.0s finished\n"
     ]
    },
    {
     "data": {
      "image/png": "[encoded data removed]",
      "text/plain": [
       "<Figure size 432x288 with 1 Axes>"
      ]
     },
     "metadata": {
      "needs_background": "light"
     },
     "output_type": "display_data"
    }
   ],
   "source": [
    "plot_pr_curve(y_test, forest.predict_proba(x_test)[:, 1])"
   ]
  },
  {
   "cell_type": "markdown",
   "metadata": {},
   "source": [
    "Попробуем увеличить число деревьев"
   ]
  },
  {
   "cell_type": "code",
   "execution_count": 13,
   "metadata": {},
   "outputs": [
    {
     "name": "stderr",
     "output_type": "stream",
     "text": [
      "[Parallel(n_jobs=6)]: Using backend ThreadingBackend with 6 concurrent workers.\n",
      "[Parallel(n_jobs=6)]: Done  38 tasks      | elapsed:  7.0min\n"
     ]
    },
    {
     "name": "stdout",
     "output_type": "stream",
     "text": [
      "CPU times: user 1h 39min 32s, sys: 27.1 s, total: 1h 39min 59s\n",
      "Wall time: 17min 3s\n"
     ]
    },
    {
     "name": "stderr",
     "output_type": "stream",
     "text": [
      "[Parallel(n_jobs=6)]: Done 100 out of 100 | elapsed: 17.0min finished\n"
     ]
    },
    {
     "data": {
      "text/plain": [
       "RandomForestClassifier(n_jobs=6, random_state=42, verbose=True)"
      ]
     },
     "execution_count": 13,
     "metadata": {},
     "output_type": "execute_result"
    }
   ],
   "source": [
    "%%time\n",
    "forest = RandomForestClassifier(n_estimators=100, verbose=True, n_jobs=6, random_state=42)\n",
    "forest.fit(x_train, y_train)"
   ]
  },
  {
   "cell_type": "code",
   "execution_count": 14,
   "metadata": {
    "scrolled": true
   },
   "outputs": [
    {
     "name": "stderr",
     "output_type": "stream",
     "text": [
      "[Parallel(n_jobs=6)]: Using backend ThreadingBackend with 6 concurrent workers.\n",
      "[Parallel(n_jobs=6)]: Done  38 tasks      | elapsed:   22.1s\n",
      "[Parallel(n_jobs=6)]: Done 100 out of 100 | elapsed:   55.4s finished\n"
     ]
    },
    {
     "name": "stdout",
     "output_type": "stream",
     "text": [
      "              precision    recall  f1-score   support\n",
      "\n",
      "           0       0.89      0.96      0.92    968346\n",
      "           1       0.71      0.45      0.55    216348\n",
      "\n",
      "    accuracy                           0.87   1184694\n",
      "   macro avg       0.80      0.71      0.74   1184694\n",
      "weighted avg       0.85      0.87      0.85   1184694\n",
      "\n"
     ]
    }
   ],
   "source": [
    "print(classification_report(y_test, forest.predict(x_test)))"
   ]
  },
  {
   "cell_type": "markdown",
   "metadata": {},
   "source": [
    "Есть небольшая надежда в уменьшении ошибки за счёт усложнения модели, что приведёт к существенному увеличению времени. Решением этой проблемы мы займемся позже."
   ]
  },
  {
   "cell_type": "markdown",
   "metadata": {},
   "source": [
    "Испытаем градиентный бустинг"
   ]
  },
  {
   "cell_type": "code",
   "execution_count": 12,
   "metadata": {},
   "outputs": [],
   "source": [
    "from xgboost import XGBClassifier"
   ]
  },
  {
   "cell_type": "code",
   "execution_count": 13,
   "metadata": {},
   "outputs": [
    {
     "name": "stderr",
     "output_type": "stream",
     "text": [
      "/home/max/anaconda3/lib/python3.8/site-packages/xgboost/sklearn.py:892: UserWarning: The use of label encoder in XGBClassifier is deprecated and will be removed in a future release. To remove this warning, do the following: 1) Pass option use_label_encoder=False when constructing XGBClassifier object; and 2) Encode your labels (y) as integers starting with 0, i.e. 0, 1, 2, ..., [num_class - 1].\n",
      "  warnings.warn(label_encoder_deprecation_msg, UserWarning)\n"
     ]
    },
    {
     "name": "stdout",
     "output_type": "stream",
     "text": [
      "[13:40:19] WARNING: ../src/learner.cc:1061: Starting in XGBoost 1.3.0, the default evaluation metric used with the objective 'binary:logistic' was changed from 'error' to 'logloss'. Explicitly set eval_metric if you'd like to restore the old behavior.\n",
      "CPU times: user 1h 39min 9s, sys: 21.9 s, total: 1h 39min 31s\n",
      "Wall time: 16min 42s\n"
     ]
    },
    {
     "data": {
      "text/plain": [
       "XGBClassifier(base_score=0.5, booster='gbtree', colsample_bylevel=1,\n",
       "              colsample_bynode=1, colsample_bytree=1, gamma=0, gpu_id=-1,\n",
       "              importance_type='gain', interaction_constraints='',\n",
       "              learning_rate=0.300000012, max_delta_step=0, max_depth=6,\n",
       "              min_child_weight=1, missing=nan, monotone_constraints='()',\n",
       "              n_estimators=100, n_jobs=6, num_parallel_tree=1, random_state=42,\n",
       "              reg_alpha=0, reg_lambda=1, scale_pos_weight=1, subsample=1,\n",
       "              tree_method='exact', validate_parameters=1, verbosity=None)"
      ]
     },
     "execution_count": 13,
     "metadata": {},
     "output_type": "execute_result"
    }
   ],
   "source": [
    "%%time\n",
    "grad = XGBClassifier(n_estimators=100, random_state=42, n_jobs=6)\n",
    "grad.fit(x_train, y_train)"
   ]
  },
  {
   "cell_type": "code",
   "execution_count": 14,
   "metadata": {
    "scrolled": false
   },
   "outputs": [
    {
     "name": "stdout",
     "output_type": "stream",
     "text": [
      "              precision    recall  f1-score   support\n",
      "\n",
      "           0       0.89      0.96      0.92    968346\n",
      "           1       0.70      0.47      0.56    216348\n",
      "\n",
      "    accuracy                           0.87   1184694\n",
      "   macro avg       0.80      0.71      0.74   1184694\n",
      "weighted avg       0.85      0.87      0.86   1184694\n",
      "\n"
     ]
    }
   ],
   "source": [
    "print(classification_report(y_test, grad.predict(x_test)))"
   ]
  },
  {
   "cell_type": "code",
   "execution_count": 34,
   "metadata": {
    "scrolled": false
   },
   "outputs": [
    {
     "data": {
      "image/png": "[encoded data removed]",
      "text/plain": [
       "<Figure size 432x288 with 1 Axes>"
      ]
     },
     "metadata": {
      "needs_background": "light"
     },
     "output_type": "display_data"
    }
   ],
   "source": [
    "plot_pr_curve(y_test, grad.predict_proba(x_test)[:, 1])"
   ]
  },
  {
   "cell_type": "markdown",
   "metadata": {},
   "source": [
    "По умолчанию глубина деревьев не больше пяти, а число признаков - произвольное. Вероятно, что усложнение модели улучшит текущий результат"
   ]
  },
  {
   "cell_type": "markdown",
   "metadata": {},
   "source": [
    "## Модель для одной авиалинии и всех аэропортов"
   ]
  },
  {
   "cell_type": "code",
   "execution_count": 3,
   "metadata": {},
   "outputs": [
    {
     "name": "stdout",
     "output_type": "stream",
     "text": [
      "CPU times: user 33.3 s, sys: 7.83 s, total: 41.2 s\n",
      "Wall time: 42.4 s\n"
     ]
    }
   ],
   "source": [
    "%%time\n",
    "flights = pd.read_csv('v3/dep_delay_df.csv')\n",
    "flights.drop(['YEAR','FLIGHTS', 'DEP_DELAY_GROUP'], axis=1, inplace=True)\n",
    "#flights.FIRST_DEP_TIME.fillna(0, inplace=True)\n",
    "#flights.TOTAL_ADD_GTIME.fillna(0, inplace=True)\n",
    "#df.LONGEST_ADD_GTIME.fillna(0, inplace=True)\n",
    "flights.drop('LONGEST_ADD_GTIME', axis=1, inplace=True)\n",
    "flights.drop('TOTAL_ADD_GTIME', axis=1, inplace=True)\n",
    "flights.drop('FIRST_DEP_TIME', axis=1, inplace=True)\n",
    "flights.STD_DELAY.fillna(0, inplace=True)\n",
    "flights.MEAN_DELAY.fillna(0, inplace=True)\n",
    "flights.MAX_DELAY.fillna(0, inplace=True)\n",
    "flights.MIN_DELAY.fillna(0, inplace=True)\n",
    "flights.COUNT.fillna(0, inplace=True)\n",
    "flights['25%_DELAY'].fillna(0, inplace=True)\n",
    "flights['50%_DELAY'].fillna(0, inplace=True)\n",
    "flights['75%_DELAY'].fillna(0, inplace=True)\n",
    "flights.dropna(inplace=True)"
   ]
  },
  {
   "cell_type": "code",
   "execution_count": 8,
   "metadata": {},
   "outputs": [],
   "source": [
    "flights['DEP_DELAY'] = flights['DEP_DELAY'].apply(fill_dep_delay)"
   ]
  },
  {
   "cell_type": "code",
   "execution_count": 17,
   "metadata": {
    "scrolled": true
   },
   "outputs": [
    {
     "data": {
      "text/plain": [
       "405545    1040313\n",
       "746972     759461\n",
       "301074     587621\n",
       "217754     510081\n",
       "650940     488886\n",
       "864772     417377\n",
       "6004       260328\n",
       "602088     185924\n",
       "434        158780\n",
       "993966     157382\n",
       "121797      65643\n",
       "164258      59318\n",
       "222509      47660\n",
       "Name: AIRLINE, dtype: int64"
      ]
     },
     "execution_count": 17,
     "metadata": {},
     "output_type": "execute_result"
    }
   ],
   "source": [
    "flights.AIRLINE.value_counts()"
   ]
  },
  {
   "cell_type": "code",
   "execution_count": 18,
   "metadata": {},
   "outputs": [],
   "source": [
    "df = flights[flights.AIRLINE == 864772].copy()\n",
    "df.drop('AIRLINE', axis=1, inplace=True)"
   ]
  },
  {
   "cell_type": "code",
   "execution_count": 19,
   "metadata": {},
   "outputs": [],
   "source": [
    "X = df.drop('DEP_DELAY', axis=1)\n",
    "y = df.DEP_DELAY\n",
    "X_train, X_test, y_train, y_test = train_test_split(X, y, shuffle=True, random_state=42)"
   ]
  },
  {
   "cell_type": "code",
   "execution_count": 20,
   "metadata": {},
   "outputs": [],
   "source": [
    "X_train = scaler.fit_transform(X_train)\n",
    "X_test = scaler.transform(X_test)"
   ]
  },
  {
   "cell_type": "code",
   "execution_count": 21,
   "metadata": {},
   "outputs": [],
   "source": [
    "# Takes in a model, trains the model, and evaluates the model on the test set\n",
    "def fit_and_evaluate(model):\n",
    "    \n",
    "    # Train the model\n",
    "    model.fit(X_train, y_train)\n",
    "    \n",
    "    # Make predictions and evalute\n",
    "    model_pred = model.predict(X_test)\n",
    "    model_f1 = f1_score(y_test, model_pred)\n",
    "    \n",
    "    # Return the performance metric\n",
    "    return model_f1"
   ]
  },
  {
   "cell_type": "markdown",
   "metadata": {},
   "source": [
    "По традиции начнем с линейной регрессии"
   ]
  },
  {
   "cell_type": "code",
   "execution_count": 22,
   "metadata": {},
   "outputs": [
    {
     "name": "stdout",
     "output_type": "stream",
     "text": [
      "Logistc Regression Performance on the test set: F1 = 0.4916\n",
      "CPU times: user 8.52 s, sys: 3.27 ms, total: 8.52 s\n",
      "Wall time: 8.54 s\n"
     ]
    }
   ],
   "source": [
    "%%time\n",
    "logit = LogisticRegression(max_iter=200)\n",
    "logit_f1 = fit_and_evaluate(logit)\n",
    "print('Logistc Regression Performance on the test set: F1 = %0.4f' % logit_f1)"
   ]
  },
  {
   "cell_type": "markdown",
   "metadata": {},
   "source": [
    "Посмотрим на дерево решений"
   ]
  },
  {
   "cell_type": "code",
   "execution_count": 23,
   "metadata": {},
   "outputs": [
    {
     "name": "stdout",
     "output_type": "stream",
     "text": [
      "DecisionTreeRegressor Performance on the test set: F1 = 0.5336\n",
      "CPU times: user 3.3 s, sys: 20.6 ms, total: 3.32 s\n",
      "Wall time: 3.37 s\n"
     ]
    }
   ],
   "source": [
    "%%time\n",
    "tree = DecisionTreeClassifier(max_depth=10, max_features=13, random_state=42)\n",
    "tree_f1 = fit_and_evaluate(tree)\n",
    "print('DecisionTreeRegressor Performance on the test set: F1 = %0.4f' % tree_f1)"
   ]
  },
  {
   "cell_type": "markdown",
   "metadata": {},
   "source": [
    "Случайный лес"
   ]
  },
  {
   "cell_type": "code",
   "execution_count": 24,
   "metadata": {},
   "outputs": [
    {
     "name": "stdout",
     "output_type": "stream",
     "text": [
      "Random Forest Regression Performance on the test set: F1 = 0.5167\n",
      "CPU times: user 1min 44s, sys: 981 ms, total: 1min 45s\n",
      "Wall time: 18.5 s\n"
     ]
    }
   ],
   "source": [
    "%%time\n",
    "forest = RandomForestClassifier(n_estimators=50, n_jobs=6, max_depth=7, max_features=10, random_state=42)\n",
    "forest_f1 = fit_and_evaluate(forest)\n",
    "print('Random Forest Regression Performance on the test set: F1 = %0.4f' % forest_f1)"
   ]
  },
  {
   "cell_type": "markdown",
   "metadata": {},
   "source": [
    "Градиентный бустинг"
   ]
  },
  {
   "cell_type": "code",
   "execution_count": 25,
   "metadata": {},
   "outputs": [
    {
     "name": "stdout",
     "output_type": "stream",
     "text": [
      "[21:51:41] WARNING: ../src/learner.cc:1061: Starting in XGBoost 1.3.0, the default evaluation metric used with the objective 'binary:logistic' was changed from 'error' to 'logloss'. Explicitly set eval_metric if you'd like to restore the old behavior.\n",
      "Gradient Boosted Regression Performance on the test set: F1 = 0.5601\n",
      "CPU times: user 3min 27s, sys: 1.14 s, total: 3min 28s\n",
      "Wall time: 35.9 s\n"
     ]
    }
   ],
   "source": [
    "%%time\n",
    "gradient = XGBClassifier(n_estimators=100, n_jobs=6, random_state=42, use_label_encoder=False)\n",
    "gradient_f1 = fit_and_evaluate(gradient)\n",
    "print('Gradient Boosted Regression Performance on the test set: F1 = %0.4f' % gradient_f1)"
   ]
  },
  {
   "cell_type": "markdown",
   "metadata": {},
   "source": [
    "Метод опорных векторов"
   ]
  },
  {
   "cell_type": "code",
   "execution_count": 26,
   "metadata": {},
   "outputs": [
    {
     "name": "stdout",
     "output_type": "stream",
     "text": [
      "LinearSVC Performance on the test set: F1 = 0.4771\n",
      "CPU times: user 5min 19s, sys: 85.1 ms, total: 5min 19s\n",
      "Wall time: 5min 19s\n"
     ]
    },
    {
     "name": "stderr",
     "output_type": "stream",
     "text": [
      "/home/max/anaconda3/lib/python3.8/site-packages/sklearn/svm/_base.py:976: ConvergenceWarning: Liblinear failed to converge, increase the number of iterations.\n",
      "  warnings.warn(\"Liblinear failed to converge, increase \"\n"
     ]
    }
   ],
   "source": [
    "%%time\n",
    "svc = LinearSVC()\n",
    "svc_f1 = fit_and_evaluate(svc)\n",
    "print('LinearSVC Performance on the test set: F1 = %0.4f' % svc_f1)"
   ]
  },
  {
   "cell_type": "code",
   "execution_count": 27,
   "metadata": {},
   "outputs": [
    {
     "data": {
      "image/png": "[encoded data removed]",
      "text/plain": [
       "<Figure size 1152x432 with 1 Axes>"
      ]
     },
     "metadata": {
      "needs_background": "light"
     },
     "output_type": "display_data"
    }
   ],
   "source": [
    "#plt.style.use('fivethirtyeight')\n",
    "# Dataframe to hold the results\n",
    "plt.figure(figsize=(16,6))\n",
    "model_comparison = pd.DataFrame({'model': ['Logistic Regression', 'Random Forest', 'XGBoost',\n",
    "                                            'LinearSVC'],\n",
    "                                 'f1': [logit_f1, forest_f1, gradient_f1, svc_f1]})\n",
    "\n",
    "# Horizontal bar chart of test mae\n",
    "model_comparison = model_comparison.sort_values('f1', ascending = True)\n",
    "plt.bar(model_comparison['model'], model_comparison['f1'], color = 'red', edgecolor = 'black', width=0.5)\n",
    "\n",
    "# Plot formatting\n",
    "plt.ylabel('F1'); plt.yticks(size = 14); plt.xlabel('Algorithms'); plt.xticks(size = 14)\n",
    "plt.title('Model Comparison on Test F1', size = 15);"
   ]
  },
  {
   "cell_type": "markdown",
   "metadata": {},
   "source": [
    "## Анализ результатов"
   ]
  },
  {
   "cell_type": "markdown",
   "metadata": {},
   "source": [
    "В ходе данной части были построены основные модели регрессий для предсказания задержки вылета. В среднем, все модели показывают одинаковый результат: средняя абсолютная ошибка находится в районе 13 минут. Что касается времени обучения, то тут не всё так однозначно. \n",
    "\n",
    "Рекордсменом по времени обучения стала линейная регрессия. За ней же идут и её регуляризованные аналоги. Также удачным оказался метод опорных векторов и нейросетевая регрессия. Ансамблевые модели имеют традиционно медленное время обучения на большой выборке, но являются чуть ли не универсальным средством для многих задач. \n",
    "\n",
    "Плохо показал себя алгоритм К-ближайших соседей. Во-первых, качество самое худшее. Во-вторых неприемлемо большое время для обучения и построения прогноза. От этого алгоритма мы однозначно откажемся.\n",
    "\n",
    "В последующей части мы проведём более точную настройку для каждого из следующих методов:\n",
    "- Линейная регрессия\n",
    "- Метод опорных векторов\n",
    "- Градиентный бустинг\n",
    "- Нейросетевая регрессия\n",
    "\n",
    "Удачным оказался подход в разделении выборки на отдельные авиалинии. Это позволило получить чуть лучшее качество и сократить время обучения. Данный подход оправдан не только большим объёмом выборки, но и значительным количеством аномально долгих задержек."
   ]
  },
  {
   "cell_type": "code",
   "execution_count": null,
   "metadata": {},
   "outputs": [],
   "source": []
  }
 ],
 "metadata": {
  "kernelspec": {
   "display_name": "Python 3",
   "language": "python",
   "name": "python3"
  },
  "language_info": {
   "codemirror_mode": {
    "name": "ipython",
    "version": 3
   },
   "file_extension": ".py",
   "mimetype": "text/x-python",
   "name": "python",
   "nbconvert_exporter": "python",
   "pygments_lexer": "ipython3",
   "version": "3.8.5"
  }
 },
 "nbformat": 4,
 "nbformat_minor": 4
}
