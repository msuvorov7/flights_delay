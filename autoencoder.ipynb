{
 "cells": [
  {
   "cell_type": "code",
   "execution_count": 1,
   "metadata": {},
   "outputs": [],
   "source": [
    "import numpy as np\n",
    "import pandas as pd\n",
    "from matplotlib import pyplot as plt\n",
    "from keras.layers import Input, Dense, Flatten, Reshape\n",
    "from keras.models import Model, Sequential\n",
    "from sklearn.metrics import mean_squared_error, classification_report, precision_recall_curve\n",
    "import seaborn as sns\n",
    "from tqdm import tqdm\n",
    "from xgboost import XGBClassifier"
   ]
  },
  {
   "cell_type": "code",
   "execution_count": 2,
   "metadata": {},
   "outputs": [
    {
     "name": "stdout",
     "output_type": "stream",
     "text": [
      "CPU times: user 32.2 s, sys: 15.6 s, total: 47.8 s\n",
      "Wall time: 53.7 s\n"
     ]
    }
   ],
   "source": [
    "%%time\n",
    "df = pd.read_csv('dep_delay_df.csv')\n",
    "df.drop(['YEAR','FLIGHTS', 'DEP_DELAY_GROUP'], axis=1, inplace=True)\n",
    "df.FIRST_DEP_TIME.fillna(0, inplace=True)\n",
    "df.TOTAL_ADD_GTIME.fillna(0, inplace=True)\n",
    "df.LONGEST_ADD_GTIME.fillna(0, inplace=True)\n",
    "df.STD_DELAY.fillna(0, inplace=True)\n",
    "df.MEAN_DELAY.fillna(0, inplace=True)\n",
    "df.MAX_DELAY.fillna(0, inplace=True)\n",
    "df.MIN_DELAY.fillna(0, inplace=True)\n",
    "df.COUNT.fillna(0, inplace=True)\n",
    "df['25%_DELAY'].fillna(0, inplace=True)\n",
    "df['50%_DELAY'].fillna(0, inplace=True)\n",
    "df['75%_DELAY'].fillna(0, inplace=True)\n",
    "df.dropna(inplace=True)"
   ]
  },
  {
   "cell_type": "code",
   "execution_count": 3,
   "metadata": {},
   "outputs": [
    {
     "data": {
      "text/plain": [
       "(4738774, 54)"
      ]
     },
     "execution_count": 3,
     "metadata": {},
     "output_type": "execute_result"
    }
   ],
   "source": [
    "df.shape"
   ]
  },
  {
   "cell_type": "code",
   "execution_count": 4,
   "metadata": {},
   "outputs": [
    {
     "data": {
      "text/html": [
       "<div>\n",
       "<style scoped>\n",
       "    .dataframe tbody tr th:only-of-type {\n",
       "        vertical-align: middle;\n",
       "    }\n",
       "\n",
       "    .dataframe tbody tr th {\n",
       "        vertical-align: top;\n",
       "    }\n",
       "\n",
       "    .dataframe thead th {\n",
       "        text-align: right;\n",
       "    }\n",
       "</style>\n",
       "<table border=\"1\" class=\"dataframe\">\n",
       "  <thead>\n",
       "    <tr style=\"text-align: right;\">\n",
       "      <th></th>\n",
       "      <th>MONTH</th>\n",
       "      <th>DAY</th>\n",
       "      <th>DAY_OF_WEEK</th>\n",
       "      <th>AIRLINE</th>\n",
       "      <th>TAIL_NUM</th>\n",
       "      <th>FLIGHT_MUNBER</th>\n",
       "      <th>ORIGIN</th>\n",
       "      <th>ORIGIN_CITY_NAME</th>\n",
       "      <th>DEST</th>\n",
       "      <th>DEST_CITY_NAME</th>\n",
       "      <th>...</th>\n",
       "      <th>75%_DELAY</th>\n",
       "      <th>MAX_DELAY</th>\n",
       "      <th>WEEKEND</th>\n",
       "      <th>LATE_AIRLINE_INDEX</th>\n",
       "      <th>LATE_TAIL_INDEX</th>\n",
       "      <th>LATE_ARR</th>\n",
       "      <th>LATE_DEP_1</th>\n",
       "      <th>LATE_DEP_2</th>\n",
       "      <th>LATE_DEP_3</th>\n",
       "      <th>LATE_DEP_4</th>\n",
       "    </tr>\n",
       "  </thead>\n",
       "  <tbody>\n",
       "    <tr>\n",
       "      <th>0</th>\n",
       "      <td>4</td>\n",
       "      <td>23</td>\n",
       "      <td>4</td>\n",
       "      <td>630622</td>\n",
       "      <td>364063</td>\n",
       "      <td>165</td>\n",
       "      <td>593194</td>\n",
       "      <td>626612</td>\n",
       "      <td>901400</td>\n",
       "      <td>738857</td>\n",
       "      <td>...</td>\n",
       "      <td>-0.50</td>\n",
       "      <td>20.0</td>\n",
       "      <td>0</td>\n",
       "      <td>0.239771</td>\n",
       "      <td>0.233333</td>\n",
       "      <td>0.0</td>\n",
       "      <td>0.0</td>\n",
       "      <td>0.0</td>\n",
       "      <td>0.0</td>\n",
       "      <td>0.0</td>\n",
       "    </tr>\n",
       "    <tr>\n",
       "      <th>1</th>\n",
       "      <td>4</td>\n",
       "      <td>24</td>\n",
       "      <td>5</td>\n",
       "      <td>630622</td>\n",
       "      <td>879451</td>\n",
       "      <td>165</td>\n",
       "      <td>593194</td>\n",
       "      <td>626612</td>\n",
       "      <td>901400</td>\n",
       "      <td>738857</td>\n",
       "      <td>...</td>\n",
       "      <td>12.00</td>\n",
       "      <td>140.0</td>\n",
       "      <td>0</td>\n",
       "      <td>0.239771</td>\n",
       "      <td>0.270298</td>\n",
       "      <td>0.0</td>\n",
       "      <td>1.0</td>\n",
       "      <td>1.0</td>\n",
       "      <td>0.0</td>\n",
       "      <td>0.0</td>\n",
       "    </tr>\n",
       "    <tr>\n",
       "      <th>2</th>\n",
       "      <td>4</td>\n",
       "      <td>25</td>\n",
       "      <td>6</td>\n",
       "      <td>630622</td>\n",
       "      <td>833150</td>\n",
       "      <td>165</td>\n",
       "      <td>593194</td>\n",
       "      <td>626612</td>\n",
       "      <td>901400</td>\n",
       "      <td>738857</td>\n",
       "      <td>...</td>\n",
       "      <td>-0.50</td>\n",
       "      <td>51.0</td>\n",
       "      <td>1</td>\n",
       "      <td>0.239771</td>\n",
       "      <td>0.257855</td>\n",
       "      <td>0.0</td>\n",
       "      <td>0.0</td>\n",
       "      <td>1.0</td>\n",
       "      <td>0.0</td>\n",
       "      <td>0.0</td>\n",
       "    </tr>\n",
       "    <tr>\n",
       "      <th>3</th>\n",
       "      <td>4</td>\n",
       "      <td>26</td>\n",
       "      <td>7</td>\n",
       "      <td>630622</td>\n",
       "      <td>784414</td>\n",
       "      <td>165</td>\n",
       "      <td>593194</td>\n",
       "      <td>626612</td>\n",
       "      <td>901400</td>\n",
       "      <td>738857</td>\n",
       "      <td>...</td>\n",
       "      <td>15.50</td>\n",
       "      <td>128.0</td>\n",
       "      <td>1</td>\n",
       "      <td>0.239771</td>\n",
       "      <td>0.269641</td>\n",
       "      <td>0.0</td>\n",
       "      <td>0.0</td>\n",
       "      <td>1.0</td>\n",
       "      <td>1.0</td>\n",
       "      <td>0.0</td>\n",
       "    </tr>\n",
       "    <tr>\n",
       "      <th>4</th>\n",
       "      <td>4</td>\n",
       "      <td>27</td>\n",
       "      <td>1</td>\n",
       "      <td>630622</td>\n",
       "      <td>923562</td>\n",
       "      <td>165</td>\n",
       "      <td>593194</td>\n",
       "      <td>626612</td>\n",
       "      <td>901400</td>\n",
       "      <td>738857</td>\n",
       "      <td>...</td>\n",
       "      <td>2.25</td>\n",
       "      <td>94.0</td>\n",
       "      <td>0</td>\n",
       "      <td>0.239771</td>\n",
       "      <td>0.229491</td>\n",
       "      <td>1.0</td>\n",
       "      <td>1.0</td>\n",
       "      <td>1.0</td>\n",
       "      <td>0.0</td>\n",
       "      <td>0.0</td>\n",
       "    </tr>\n",
       "  </tbody>\n",
       "</table>\n",
       "<p>5 rows × 54 columns</p>\n",
       "</div>"
      ],
      "text/plain": [
       "   MONTH  DAY  DAY_OF_WEEK  AIRLINE  TAIL_NUM  FLIGHT_MUNBER  ORIGIN  \\\n",
       "0      4   23            4   630622    364063            165  593194   \n",
       "1      4   24            5   630622    879451            165  593194   \n",
       "2      4   25            6   630622    833150            165  593194   \n",
       "3      4   26            7   630622    784414            165  593194   \n",
       "4      4   27            1   630622    923562            165  593194   \n",
       "\n",
       "   ORIGIN_CITY_NAME    DEST  DEST_CITY_NAME  ...  75%_DELAY  MAX_DELAY  \\\n",
       "0            626612  901400          738857  ...      -0.50       20.0   \n",
       "1            626612  901400          738857  ...      12.00      140.0   \n",
       "2            626612  901400          738857  ...      -0.50       51.0   \n",
       "3            626612  901400          738857  ...      15.50      128.0   \n",
       "4            626612  901400          738857  ...       2.25       94.0   \n",
       "\n",
       "   WEEKEND  LATE_AIRLINE_INDEX  LATE_TAIL_INDEX  LATE_ARR  LATE_DEP_1  \\\n",
       "0        0            0.239771         0.233333       0.0         0.0   \n",
       "1        0            0.239771         0.270298       0.0         1.0   \n",
       "2        1            0.239771         0.257855       0.0         0.0   \n",
       "3        1            0.239771         0.269641       0.0         0.0   \n",
       "4        0            0.239771         0.229491       1.0         1.0   \n",
       "\n",
       "   LATE_DEP_2  LATE_DEP_3  LATE_DEP_4  \n",
       "0         0.0         0.0         0.0  \n",
       "1         1.0         0.0         0.0  \n",
       "2         1.0         0.0         0.0  \n",
       "3         1.0         1.0         0.0  \n",
       "4         1.0         0.0         0.0  \n",
       "\n",
       "[5 rows x 54 columns]"
      ]
     },
     "execution_count": 4,
     "metadata": {},
     "output_type": "execute_result"
    }
   ],
   "source": [
    "df.head()"
   ]
  },
  {
   "cell_type": "code",
   "execution_count": 5,
   "metadata": {},
   "outputs": [],
   "source": [
    "def fill_dep_delay(x):\n",
    "    if x >= 15:\n",
    "        return 1\n",
    "    return 0"
   ]
  },
  {
   "cell_type": "code",
   "execution_count": 6,
   "metadata": {},
   "outputs": [],
   "source": [
    "df['DEP_DELAY'] = df['DEP_DELAY'].apply(fill_dep_delay)"
   ]
  },
  {
   "cell_type": "code",
   "execution_count": 7,
   "metadata": {},
   "outputs": [],
   "source": [
    "from sklearn.model_selection import train_test_split\n",
    "from sklearn.preprocessing import MinMaxScaler, StandardScaler\n",
    "\n",
    "scaler = MinMaxScaler()\n",
    "#scaler = StandardScaler()\n",
    "\n",
    "#df = df[df.DEP_DELAY==0]\n",
    "y = df.DEP_DELAY\n",
    "df.drop('DEP_DELAY', axis=1, inplace=True)\n",
    "#y = df.CANCELLED\n",
    "#df.drop('CANCELLED', axis=1, inplace=True)\n",
    "\n",
    "df = scaler.fit_transform(df)\n",
    "\n",
    "x_train, x_test, y_train, y_test = train_test_split(df, y, shuffle=True, random_state=42, stratify=y)\n",
    "x_train, x_val, y_train, y_val = train_test_split(x_train, y_train, shuffle=True, random_state=42, stratify=y_train)"
   ]
  },
  {
   "cell_type": "code",
   "execution_count": 8,
   "metadata": {},
   "outputs": [
    {
     "data": {
      "text/plain": [
       "(2665560, 53)"
      ]
     },
     "execution_count": 8,
     "metadata": {},
     "output_type": "execute_result"
    }
   ],
   "source": [
    "x_train.shape"
   ]
  },
  {
   "cell_type": "code",
   "execution_count": 9,
   "metadata": {},
   "outputs": [
    {
     "data": {
      "text/plain": [
       "(2178776, 53)"
      ]
     },
     "execution_count": 9,
     "metadata": {},
     "output_type": "execute_result"
    }
   ],
   "source": [
    "x_train[y_train==0].shape"
   ]
  },
  {
   "cell_type": "code",
   "execution_count": 23,
   "metadata": {},
   "outputs": [],
   "source": [
    "def create_dense_ae():\n",
    "    encoding_dim = 25\n",
    "\n",
    "    # Энкодер\n",
    "    input_img = Input(shape=(x_train.shape[1],))\n",
    "    flat_img = Flatten()(input_img)\n",
    "    encoded = Dense(encoding_dim, activation='relu')(flat_img)\n",
    "    \n",
    "    # Декодер\n",
    "    input_encoded = Input(shape=(encoding_dim,))\n",
    "    flat_decoded = Dense(x_train.shape[1], activation='sigmoid')(input_encoded)\n",
    "    decoded = Reshape((x_train.shape[1],))(flat_decoded)\n",
    "\n",
    "    encoder = Model(input_img, encoded, name=\"encoder\")\n",
    "    decoder = Model(input_encoded, decoded, name=\"decoder\")\n",
    "    autoencoder = Model(input_img, decoder(encoder(input_img)), name=\"autoencoder\")\n",
    "    return encoder, decoder, autoencoder"
   ]
  },
  {
   "cell_type": "code",
   "execution_count": 24,
   "metadata": {},
   "outputs": [],
   "source": [
    "encoder, decoder, autoencoder = create_dense_ae()\n",
    "autoencoder.compile(optimizer='adam', loss='binary_crossentropy')"
   ]
  },
  {
   "cell_type": "code",
   "execution_count": 25,
   "metadata": {},
   "outputs": [
    {
     "name": "stdout",
     "output_type": "stream",
     "text": [
      "Model: \"autoencoder\"\n",
      "_________________________________________________________________\n",
      "Layer (type)                 Output Shape              Param #   \n",
      "=================================================================\n",
      "input_3 (InputLayer)         [(None, 50)]              0         \n",
      "_________________________________________________________________\n",
      "encoder (Functional)         (None, 25)                1275      \n",
      "_________________________________________________________________\n",
      "decoder (Functional)         (None, 50)                1300      \n",
      "=================================================================\n",
      "Total params: 2,575\n",
      "Trainable params: 2,575\n",
      "Non-trainable params: 0\n",
      "_________________________________________________________________\n"
     ]
    }
   ],
   "source": [
    "autoencoder.summary()"
   ]
  },
  {
   "cell_type": "code",
   "execution_count": 26,
   "metadata": {
    "scrolled": true
   },
   "outputs": [
    {
     "name": "stdout",
     "output_type": "stream",
     "text": [
      "Epoch 1/50\n",
      "7700/7700 [==============================] - 14s 2ms/step - loss: 0.4013 - val_loss: 0.3656\n",
      "Epoch 2/50\n",
      "7700/7700 [==============================] - 14s 2ms/step - loss: 0.3660 - val_loss: 0.3653\n",
      "Epoch 3/50\n",
      "7700/7700 [==============================] - 13s 2ms/step - loss: 0.3657 - val_loss: 0.3652\n",
      "Epoch 4/50\n",
      "7700/7700 [==============================] - 13s 2ms/step - loss: 0.3656 - val_loss: 0.3651\n",
      "Epoch 5/50\n",
      "7700/7700 [==============================] - 13s 2ms/step - loss: 0.3655 - val_loss: 0.3650\n",
      "Epoch 6/50\n",
      "7700/7700 [==============================] - 13s 2ms/step - loss: 0.3654 - val_loss: 0.3650\n",
      "Epoch 7/50\n",
      "7700/7700 [==============================] - 13s 2ms/step - loss: 0.3654 - val_loss: 0.3650\n",
      "Epoch 8/50\n",
      "7700/7700 [==============================] - 13s 2ms/step - loss: 0.3654 - val_loss: 0.3650\n",
      "Epoch 9/50\n",
      "7700/7700 [==============================] - 13s 2ms/step - loss: 0.3654 - val_loss: 0.3650\n",
      "Epoch 10/50\n",
      "7700/7700 [==============================] - 13s 2ms/step - loss: 0.3654 - val_loss: 0.3650\n",
      "Epoch 11/50\n",
      "7700/7700 [==============================] - 14s 2ms/step - loss: 0.3654 - val_loss: 0.3650\n",
      "Epoch 12/50\n",
      "7700/7700 [==============================] - 14s 2ms/step - loss: 0.3654 - val_loss: 0.3650\n",
      "Epoch 13/50\n",
      "7700/7700 [==============================] - 14s 2ms/step - loss: 0.3654 - val_loss: 0.3650\n",
      "Epoch 14/50\n",
      "7700/7700 [==============================] - 14s 2ms/step - loss: 0.3654 - val_loss: 0.3650\n",
      "Epoch 15/50\n",
      "7700/7700 [==============================] - 16s 2ms/step - loss: 0.3654 - val_loss: 0.3650\n",
      "Epoch 16/50\n",
      "7700/7700 [==============================] - 16s 2ms/step - loss: 0.3654 - val_loss: 0.3650\n",
      "Epoch 17/50\n",
      "7700/7700 [==============================] - 16s 2ms/step - loss: 0.3654 - val_loss: 0.3650\n",
      "Epoch 18/50\n",
      "7700/7700 [==============================] - 16s 2ms/step - loss: 0.3654 - val_loss: 0.3650\n",
      "Epoch 19/50\n",
      "7700/7700 [==============================] - 18s 2ms/step - loss: 0.3653 - val_loss: 0.3650\n",
      "Epoch 20/50\n",
      "7700/7700 [==============================] - 17s 2ms/step - loss: 0.3654 - val_loss: 0.3650\n",
      "Epoch 21/50\n",
      "7700/7700 [==============================] - 17s 2ms/step - loss: 0.3654 - val_loss: 0.3650\n",
      "Epoch 22/50\n",
      "7700/7700 [==============================] - 17s 2ms/step - loss: 0.3654 - val_loss: 0.3650\n",
      "Epoch 23/50\n",
      "7700/7700 [==============================] - 16s 2ms/step - loss: 0.3654 - val_loss: 0.3649\n",
      "Epoch 24/50\n",
      "7700/7700 [==============================] - 16s 2ms/step - loss: 0.3654 - val_loss: 0.3650\n",
      "Epoch 25/50\n",
      "7700/7700 [==============================] - 17s 2ms/step - loss: 0.3653 - val_loss: 0.3650\n",
      "Epoch 26/50\n",
      "7700/7700 [==============================] - 15s 2ms/step - loss: 0.3653 - val_loss: 0.3650\n",
      "Epoch 27/50\n",
      "7700/7700 [==============================] - 14s 2ms/step - loss: 0.3653 - val_loss: 0.3650\n",
      "Epoch 28/50\n",
      "7700/7700 [==============================] - 14s 2ms/step - loss: 0.3653 - val_loss: 0.3650\n",
      "Epoch 29/50\n",
      "7700/7700 [==============================] - 14s 2ms/step - loss: 0.3654 - val_loss: 0.3650\n",
      "Epoch 30/50\n",
      "7700/7700 [==============================] - 14s 2ms/step - loss: 0.3653 - val_loss: 0.3649\n",
      "Epoch 31/50\n",
      "7700/7700 [==============================] - 14s 2ms/step - loss: 0.3653 - val_loss: 0.3650\n",
      "Epoch 32/50\n",
      "7700/7700 [==============================] - 14s 2ms/step - loss: 0.3654 - val_loss: 0.3649\n",
      "Epoch 33/50\n",
      "7700/7700 [==============================] - 14s 2ms/step - loss: 0.3653 - val_loss: 0.3649\n",
      "Epoch 34/50\n",
      "7700/7700 [==============================] - 14s 2ms/step - loss: 0.3654 - val_loss: 0.3650\n",
      "Epoch 35/50\n",
      "7700/7700 [==============================] - 14s 2ms/step - loss: 0.3653 - val_loss: 0.3649\n",
      "Epoch 36/50\n",
      "7700/7700 [==============================] - 14s 2ms/step - loss: 0.3653 - val_loss: 0.3649\n",
      "Epoch 37/50\n",
      "7700/7700 [==============================] - 14s 2ms/step - loss: 0.3653 - val_loss: 0.3650\n",
      "Epoch 38/50\n",
      "7700/7700 [==============================] - 14s 2ms/step - loss: 0.3654 - val_loss: 0.3649\n",
      "Epoch 39/50\n",
      "7700/7700 [==============================] - 14s 2ms/step - loss: 0.3654 - val_loss: 0.3649\n",
      "Epoch 40/50\n",
      "7700/7700 [==============================] - 14s 2ms/step - loss: 0.3653 - val_loss: 0.3649\n",
      "Epoch 41/50\n",
      "7700/7700 [==============================] - 14s 2ms/step - loss: 0.3654 - val_loss: 0.3649\n",
      "Epoch 42/50\n",
      "7700/7700 [==============================] - 14s 2ms/step - loss: 0.3654 - val_loss: 0.3649\n",
      "Epoch 43/50\n",
      "7700/7700 [==============================] - 14s 2ms/step - loss: 0.3654 - val_loss: 0.3650\n",
      "Epoch 44/50\n",
      "7700/7700 [==============================] - 14s 2ms/step - loss: 0.3654 - val_loss: 0.3649\n",
      "Epoch 45/50\n",
      "7700/7700 [==============================] - 14s 2ms/step - loss: 0.3653 - val_loss: 0.3649\n",
      "Epoch 46/50\n",
      "7700/7700 [==============================] - 14s 2ms/step - loss: 0.3654 - val_loss: 0.3649\n",
      "Epoch 47/50\n",
      "7700/7700 [==============================] - 14s 2ms/step - loss: 0.3653 - val_loss: 0.3650\n",
      "Epoch 48/50\n",
      "7700/7700 [==============================] - 14s 2ms/step - loss: 0.3654 - val_loss: 0.3649\n",
      "Epoch 49/50\n",
      "7700/7700 [==============================] - 14s 2ms/step - loss: 0.3654 - val_loss: 0.3649\n",
      "Epoch 50/50\n",
      "7700/7700 [==============================] - 15s 2ms/step - loss: 0.3653 - val_loss: 0.3650\n"
     ]
    }
   ],
   "source": [
    "history = autoencoder.fit(x_train, x_train,\n",
    "                epochs=50,\n",
    "                batch_size=256,\n",
    "                shuffle=True,\n",
    "                validation_data=(x_test[y_test==0], x_test[y_test==0]))"
   ]
  },
  {
   "cell_type": "code",
   "execution_count": 27,
   "metadata": {},
   "outputs": [
    {
     "data": {
      "text/plain": [
       "<matplotlib.legend.Legend at 0x7ff46c9dfee0>"
      ]
     },
     "execution_count": 27,
     "metadata": {},
     "output_type": "execute_result"
    },
    {
     "data": {
      "image/png": "[encoded data removed]",
      "text/plain": [
       "<Figure size 432x288 with 1 Axes>"
      ]
     },
     "metadata": {
      "needs_background": "light"
     },
     "output_type": "display_data"
    }
   ],
   "source": [
    "history_dict = history.history\n",
    "loss_values = history_dict['loss']\n",
    "val_loss_values = history_dict['val_loss']\n",
    "epochs = range(1, 50 + 1)\n",
    "\n",
    "plt.plot(epochs, loss_values, 'bo', label='Training loss')\n",
    "plt.plot(epochs, val_loss_values, 'b', label='Validation loss')\n",
    "\n",
    "plt.title('Training and validation loss')\n",
    "plt.xlabel('Epochs')\n",
    "plt.ylabel('Loss')\n",
    "plt.legend()\n",
    "#plt.show()"
   ]
  },
  {
   "cell_type": "code",
   "execution_count": null,
   "metadata": {},
   "outputs": [],
   "source": []
  },
  {
   "cell_type": "code",
   "execution_count": 9,
   "metadata": {
    "scrolled": true
   },
   "outputs": [
    {
     "name": "stdout",
     "output_type": "stream",
     "text": [
      "Epoch 1/15\n",
      "8511/8511 [==============================] - 35s 4ms/step - loss: 0.3939 - val_loss: 0.3681\n",
      "Epoch 2/15\n",
      "8511/8511 [==============================] - 30s 4ms/step - loss: 0.3676 - val_loss: 0.3664\n",
      "Epoch 3/15\n",
      "8511/8511 [==============================] - 30s 4ms/step - loss: 0.3658 - val_loss: 0.3650\n",
      "Epoch 4/15\n",
      "8511/8511 [==============================] - 31s 4ms/step - loss: 0.3650 - val_loss: 0.3648\n",
      "Epoch 5/15\n",
      "8511/8511 [==============================] - 31s 4ms/step - loss: 0.3648 - val_loss: 0.3648\n",
      "Epoch 6/15\n",
      "8511/8511 [==============================] - 31s 4ms/step - loss: 0.3648 - val_loss: 0.3647\n",
      "Epoch 7/15\n",
      "8511/8511 [==============================] - 31s 4ms/step - loss: 0.3648 - val_loss: 0.3647\n",
      "Epoch 8/15\n",
      "8511/8511 [==============================] - 31s 4ms/step - loss: 0.3649 - val_loss: 0.3646\n",
      "Epoch 9/15\n",
      "8511/8511 [==============================] - 31s 4ms/step - loss: 0.3648 - val_loss: 0.3647\n",
      "Epoch 10/15\n",
      "8511/8511 [==============================] - 31s 4ms/step - loss: 0.3646 - val_loss: 0.3649\n",
      "Epoch 11/15\n",
      "8511/8511 [==============================] - 31s 4ms/step - loss: 0.3646 - val_loss: 0.3643\n",
      "Epoch 12/15\n",
      "8511/8511 [==============================] - 31s 4ms/step - loss: 0.3639 - val_loss: 0.3639\n",
      "Epoch 13/15\n",
      "8511/8511 [==============================] - 31s 4ms/step - loss: 0.3640 - val_loss: 0.3637\n",
      "Epoch 14/15\n",
      "8511/8511 [==============================] - 32s 4ms/step - loss: 0.3639 - val_loss: 0.3644\n",
      "Epoch 15/15\n",
      "8511/8511 [==============================] - 31s 4ms/step - loss: 0.3641 - val_loss: 0.3635\n"
     ]
    },
    {
     "data": {
      "text/plain": [
       "<tensorflow.python.keras.callbacks.History at 0x7fec61b2d400>"
      ]
     },
     "execution_count": 9,
     "metadata": {},
     "output_type": "execute_result"
    }
   ],
   "source": [
    "model = Sequential()\n",
    "model.add(Dense(32, activation='relu', input_shape=(x_train.shape[1],)))\n",
    "model.add(Dense(16, activation='relu'))\n",
    "model.add(Dense(32, activation='relu'))\n",
    "model.add(Dense(x_train.shape[1], activation='sigmoid'))\n",
    "model.compile(optimizer='adam', loss='binary_crossentropy')\n",
    "model.fit(x_train[y_train==0], x_train[y_train==0], epochs=15, batch_size=256,\n",
    "         validation_data=(x_test[y_test==0], x_test[y_test==0]))"
   ]
  },
  {
   "cell_type": "code",
   "execution_count": 26,
   "metadata": {},
   "outputs": [
    {
     "data": {
      "image/png": "[encoded data removed]",
      "text/plain": [
       "<Figure size 432x288 with 1 Axes>"
      ]
     },
     "metadata": {
      "needs_background": "light"
     },
     "output_type": "display_data"
    }
   ],
   "source": [
    "valid_x_predictions = model.predict(x_val)\n",
    "mse = np.mean(np.power(x_val - valid_x_predictions, 2), axis=1)\n",
    "error_df = pd.DataFrame({'Reconstruction_error': mse,\n",
    "                        'True_class': y_val})\n",
    "precision_rt, recall_rt, threshold_rt = precision_recall_curve(error_df.True_class, error_df.Reconstruction_error)\n",
    "plt.plot(threshold_rt, precision_rt[1:], label=\"Precision\",linewidth=5)\n",
    "plt.plot(threshold_rt, recall_rt[1:], label=\"Recall\",linewidth=5)\n",
    "plt.title('Precision and recall for different threshold values')\n",
    "plt.xlabel('Threshold')\n",
    "plt.ylabel('Precision/Recall')\n",
    "plt.legend()\n",
    "plt.show()"
   ]
  },
  {
   "cell_type": "code",
   "execution_count": 10,
   "metadata": {},
   "outputs": [],
   "source": [
    "test_x_predictions = model.predict(x_test)\n",
    "mse = x_test - test_x_predictions"
   ]
  },
  {
   "cell_type": "code",
   "execution_count": 11,
   "metadata": {},
   "outputs": [
    {
     "data": {
      "text/plain": [
       "(1184694, 53)"
      ]
     },
     "execution_count": 11,
     "metadata": {},
     "output_type": "execute_result"
    }
   ],
   "source": [
    "mse.shape"
   ]
  },
  {
   "cell_type": "code",
   "execution_count": 12,
   "metadata": {},
   "outputs": [
    {
     "name": "stdout",
     "output_type": "stream",
     "text": [
      "[22:17:10] WARNING: ../src/learner.cc:1061: Starting in XGBoost 1.3.0, the default evaluation metric used with the objective 'binary:logistic' was changed from 'error' to 'logloss'. Explicitly set eval_metric if you'd like to restore the old behavior.\n",
      "CPU times: user 54min 17s, sys: 2.64 s, total: 54min 20s\n",
      "Wall time: 9min 3s\n"
     ]
    },
    {
     "data": {
      "text/plain": [
       "XGBClassifier(base_score=0.5, booster='gbtree', colsample_bylevel=1,\n",
       "              colsample_bynode=1, colsample_bytree=1, gamma=0, gpu_id=-1,\n",
       "              importance_type='gain', interaction_constraints='',\n",
       "              learning_rate=0.300000012, max_delta_step=0, max_depth=6,\n",
       "              min_child_weight=1, missing=nan, monotone_constraints='()',\n",
       "              n_estimators=100, n_jobs=6, num_parallel_tree=1, random_state=42,\n",
       "              reg_alpha=0, reg_lambda=1, scale_pos_weight=1, subsample=1,\n",
       "              tree_method='exact', use_label_encoder=False,\n",
       "              validate_parameters=1, verbosity=None)"
      ]
     },
     "execution_count": 12,
     "metadata": {},
     "output_type": "execute_result"
    }
   ],
   "source": [
    "%%time\n",
    "grad = XGBClassifier(random_state=42, n_jobs=6, use_label_encoder=False)\n",
    "grad.fit(mse, y_test)"
   ]
  },
  {
   "cell_type": "code",
   "execution_count": 13,
   "metadata": {},
   "outputs": [
    {
     "name": "stdout",
     "output_type": "stream",
     "text": [
      "              precision    recall  f1-score   support\n",
      "\n",
      "           0       0.88      0.95      0.91    726259\n",
      "           1       0.65      0.42      0.51    162261\n",
      "\n",
      "    accuracy                           0.85    888520\n",
      "   macro avg       0.77      0.68      0.71    888520\n",
      "weighted avg       0.84      0.85      0.84    888520\n",
      "\n"
     ]
    }
   ],
   "source": [
    "valid_x_predictions = model.predict(x_val)\n",
    "mse = x_val - valid_x_predictions\n",
    "print(classification_report(y_val, grad.predict(mse)))"
   ]
  },
  {
   "cell_type": "code",
   "execution_count": 14,
   "metadata": {},
   "outputs": [
    {
     "data": {
      "image/png": "[encoded data removed]",
      "text/plain": [
       "<Figure size 432x288 with 1 Axes>"
      ]
     },
     "metadata": {
      "needs_background": "light"
     },
     "output_type": "display_data"
    }
   ],
   "source": [
    "precision, recall, thresholds = precision_recall_curve(y_val, grad.predict_proba(mse)[:, 1])\n",
    "thresholds = [0] + thresholds.tolist()\n",
    "plt.plot(thresholds, precision, label='precision');\n",
    "plt.plot(thresholds, recall, label='recall');\n",
    "plt.legend(); plt.xlabel('Threshold'); plt.ylabel('Precision or recall');\n",
    "plt.title('Precision and recall for balanced dataset');"
   ]
  },
  {
   "cell_type": "code",
   "execution_count": 15,
   "metadata": {},
   "outputs": [],
   "source": [
    "def asd(x):\n",
    "    if x > 0.3:\n",
    "        return 1\n",
    "    return 0"
   ]
  },
  {
   "cell_type": "code",
   "execution_count": 16,
   "metadata": {},
   "outputs": [],
   "source": [
    "p_network = grad.predict_proba(mse)[:, 1]"
   ]
  },
  {
   "cell_type": "code",
   "execution_count": 23,
   "metadata": {},
   "outputs": [
    {
     "name": "stderr",
     "output_type": "stream",
     "text": [
      "100%|██████████| 888520/888520 [00:03<00:00, 254504.42it/s]\n"
     ]
    }
   ],
   "source": [
    "prediction = []\n",
    "for i in tqdm(range(len(x_val))):\n",
    "    if p_network[i] < 0.3:\n",
    "        prediction.append(0)\n",
    "    else:\n",
    "        prediction.append(1)"
   ]
  },
  {
   "cell_type": "code",
   "execution_count": 24,
   "metadata": {},
   "outputs": [
    {
     "name": "stdout",
     "output_type": "stream",
     "text": [
      "              precision    recall  f1-score   support\n",
      "\n",
      "           0       0.91      0.89      0.90    726259\n",
      "           1       0.55      0.60      0.58    162261\n",
      "\n",
      "    accuracy                           0.84    888520\n",
      "   macro avg       0.73      0.75      0.74    888520\n",
      "weighted avg       0.84      0.84      0.84    888520\n",
      "\n"
     ]
    }
   ],
   "source": [
    "print(classification_report(y_val, prediction))"
   ]
  },
  {
   "cell_type": "code",
   "execution_count": null,
   "metadata": {},
   "outputs": [],
   "source": []
  },
  {
   "cell_type": "code",
   "execution_count": null,
   "metadata": {},
   "outputs": [],
   "source": []
  },
  {
   "cell_type": "code",
   "execution_count": 18,
   "metadata": {
    "scrolled": true
   },
   "outputs": [
    {
     "name": "stdout",
     "output_type": "stream",
     "text": [
      "Epoch 1/50\n",
      "17022/17022 [==============================] - 37s 2ms/step - loss: 0.3643\n",
      "Epoch 2/50\n",
      "17022/17022 [==============================] - 37s 2ms/step - loss: 0.3461\n",
      "Epoch 3/50\n",
      "17022/17022 [==============================] - 37s 2ms/step - loss: 0.3460\n",
      "Epoch 4/50\n",
      "17022/17022 [==============================] - 36s 2ms/step - loss: 0.3459\n",
      "Epoch 5/50\n",
      "17022/17022 [==============================] - 36s 2ms/step - loss: 0.3459\n",
      "Epoch 6/50\n",
      "17022/17022 [==============================] - 36s 2ms/step - loss: 0.3459\n",
      "Epoch 7/50\n",
      "17022/17022 [==============================] - 36s 2ms/step - loss: 0.3459\n",
      "Epoch 8/50\n",
      "17022/17022 [==============================] - 36s 2ms/step - loss: 0.3458\n",
      "Epoch 9/50\n",
      "17022/17022 [==============================] - 37s 2ms/step - loss: 0.3458\n",
      "Epoch 10/50\n",
      "17022/17022 [==============================] - 36s 2ms/step - loss: 0.3458\n",
      "Epoch 11/50\n",
      "17022/17022 [==============================] - 36s 2ms/step - loss: 0.3458\n",
      "Epoch 12/50\n",
      "17022/17022 [==============================] - 36s 2ms/step - loss: 0.3458\n",
      "Epoch 13/50\n",
      "17022/17022 [==============================] - 36s 2ms/step - loss: 0.3458\n",
      "Epoch 14/50\n",
      "17022/17022 [==============================] - 36s 2ms/step - loss: 0.3458\n",
      "Epoch 15/50\n",
      "17022/17022 [==============================] - 36s 2ms/step - loss: 0.3458\n",
      "Epoch 16/50\n",
      "17022/17022 [==============================] - 36s 2ms/step - loss: 0.3458\n",
      "Epoch 17/50\n",
      "17022/17022 [==============================] - 36s 2ms/step - loss: 0.3458\n",
      "Epoch 18/50\n",
      "17022/17022 [==============================] - 36s 2ms/step - loss: 0.3458\n",
      "Epoch 19/50\n",
      "17022/17022 [==============================] - 36s 2ms/step - loss: 0.3458\n",
      "Epoch 20/50\n",
      "17022/17022 [==============================] - 36s 2ms/step - loss: 0.3458\n",
      "Epoch 21/50\n",
      "17022/17022 [==============================] - 37s 2ms/step - loss: 0.3458\n",
      "Epoch 22/50\n",
      "17022/17022 [==============================] - 36s 2ms/step - loss: 0.3457\n",
      "Epoch 23/50\n",
      "17022/17022 [==============================] - 36s 2ms/step - loss: 0.3458\n",
      "Epoch 24/50\n",
      "17022/17022 [==============================] - 36s 2ms/step - loss: 0.3457\n",
      "Epoch 25/50\n",
      "17022/17022 [==============================] - 36s 2ms/step - loss: 0.3458\n",
      "Epoch 26/50\n",
      "17022/17022 [==============================] - 36s 2ms/step - loss: 0.3457\n",
      "Epoch 27/50\n",
      "17022/17022 [==============================] - 36s 2ms/step - loss: 0.3457\n",
      "Epoch 28/50\n",
      "17022/17022 [==============================] - 35s 2ms/step - loss: 0.3456\n",
      "Epoch 29/50\n",
      "17022/17022 [==============================] - 36s 2ms/step - loss: 0.3456\n",
      "Epoch 30/50\n",
      "17022/17022 [==============================] - 36s 2ms/step - loss: 0.3456\n",
      "Epoch 31/50\n",
      "17022/17022 [==============================] - 36s 2ms/step - loss: 0.3456\n",
      "Epoch 32/50\n",
      "17022/17022 [==============================] - 36s 2ms/step - loss: 0.3456\n",
      "Epoch 33/50\n",
      "17022/17022 [==============================] - 36s 2ms/step - loss: 0.3456\n",
      "Epoch 34/50\n",
      "17022/17022 [==============================] - 36s 2ms/step - loss: 0.3455\n",
      "Epoch 35/50\n",
      "17022/17022 [==============================] - 35s 2ms/step - loss: 0.3456\n",
      "Epoch 36/50\n",
      "17022/17022 [==============================] - 36s 2ms/step - loss: 0.3455\n",
      "Epoch 37/50\n",
      "17022/17022 [==============================] - 35s 2ms/step - loss: 0.3456\n",
      "Epoch 38/50\n",
      "17022/17022 [==============================] - 34s 2ms/step - loss: 0.3455\n",
      "Epoch 39/50\n",
      "17022/17022 [==============================] - 36s 2ms/step - loss: 0.3456\n",
      "Epoch 40/50\n",
      "17022/17022 [==============================] - 36s 2ms/step - loss: 0.3456\n",
      "Epoch 41/50\n",
      "17022/17022 [==============================] - 37s 2ms/step - loss: 0.3456\n",
      "Epoch 42/50\n",
      "17022/17022 [==============================] - 37s 2ms/step - loss: 0.3456\n",
      "Epoch 43/50\n",
      "17022/17022 [==============================] - 37s 2ms/step - loss: 0.3456\n",
      "Epoch 44/50\n",
      "17022/17022 [==============================] - 37s 2ms/step - loss: 0.3456\n",
      "Epoch 45/50\n",
      "17022/17022 [==============================] - 37s 2ms/step - loss: 0.3456\n",
      "Epoch 46/50\n",
      "17022/17022 [==============================] - 35s 2ms/step - loss: 0.3456\n",
      "Epoch 47/50\n",
      "17022/17022 [==============================] - 36s 2ms/step - loss: 0.3456\n",
      "Epoch 48/50\n",
      "17022/17022 [==============================] - 36s 2ms/step - loss: 0.3456\n",
      "Epoch 49/50\n",
      "17022/17022 [==============================] - 36s 2ms/step - loss: 0.3456\n",
      "Epoch 50/50\n",
      "17022/17022 [==============================] - 36s 2ms/step - loss: 0.3456\n"
     ]
    },
    {
     "data": {
      "text/plain": [
       "<tensorflow.python.keras.callbacks.History at 0x7fbbb5c67550>"
      ]
     },
     "execution_count": 18,
     "metadata": {},
     "output_type": "execute_result"
    }
   ],
   "source": [
    "from keras.layers import Input, Dense\n",
    "from keras.models import Model\n",
    "from keras import regularizers\n",
    "from keras.datasets import mnist\n",
    "from keras import backend as K\n",
    "import numpy as np\n",
    "import matplotlib.pyplot as plt\n",
    "import pickle\n",
    "\n",
    "use_regularizer = True\n",
    "my_regularizer = None\n",
    "my_epochs = 15\n",
    "features_path = 'simple_autoe_features.pickle'\n",
    "labels_path = 'simple_autoe_labels.pickle'\n",
    "\n",
    "if use_regularizer:\n",
    "    my_regularizer = regularizers.l1(10e-8)\n",
    "    my_epochs = 50\n",
    "    features_path = 'sparse_autoe_features.pickle'\n",
    "    labels_path = 'sparse_autoe_labels.pickle'\n",
    "\n",
    "encoding_dim = 25\n",
    "\n",
    "input_img = Input(shape=(x_train.shape[1], ))\n",
    "\n",
    "encoded = Dense(encoding_dim, activation='relu', activity_regularizer=my_regularizer)(input_img)\n",
    "\n",
    "decoded = Dense(x_train.shape[1], activation='sigmoid')(encoded)\n",
    "\n",
    "autoencoder = Model(input_img, decoded)\n",
    "\n",
    "encoder = Model(input_img, encoded)\n",
    "\n",
    "encoded_input = Input(shape=(encoding_dim,))\n",
    "decoder_layer = autoencoder.layers[-1]\n",
    "decoder = Model(encoded_input, decoder_layer(encoded_input))\n",
    "\n",
    "autoencoder.compile(optimizer='rmsprop', loss='binary_crossentropy')\n",
    "\n",
    "autoencoder.fit(x_train[y_train==0], x_train[y_train==0], \n",
    "                epochs=my_epochs, batch_size=128, shuffle=True)#, validation_data=(x_test, x_test))"
   ]
  },
  {
   "cell_type": "code",
   "execution_count": 19,
   "metadata": {},
   "outputs": [],
   "source": [
    "test_x_predictions = autoencoder.predict(x_test)\n",
    "mse = x_test - test_x_predictions"
   ]
  },
  {
   "cell_type": "code",
   "execution_count": 20,
   "metadata": {},
   "outputs": [
    {
     "name": "stdout",
     "output_type": "stream",
     "text": [
      "[18:02:14] WARNING: ../src/learner.cc:1061: Starting in XGBoost 1.3.0, the default evaluation metric used with the objective 'binary:logistic' was changed from 'error' to 'logloss'. Explicitly set eval_metric if you'd like to restore the old behavior.\n",
      "CPU times: user 57min 13s, sys: 5.43 s, total: 57min 19s\n",
      "Wall time: 9min 35s\n"
     ]
    },
    {
     "data": {
      "text/plain": [
       "XGBClassifier(base_score=0.5, booster='gbtree', colsample_bylevel=1,\n",
       "              colsample_bynode=1, colsample_bytree=1, gamma=0, gpu_id=-1,\n",
       "              importance_type='gain', interaction_constraints='',\n",
       "              learning_rate=0.300000012, max_delta_step=0, max_depth=6,\n",
       "              min_child_weight=1, missing=nan, monotone_constraints='()',\n",
       "              n_estimators=100, n_jobs=6, num_parallel_tree=1, random_state=42,\n",
       "              reg_alpha=0, reg_lambda=1, scale_pos_weight=1, subsample=1,\n",
       "              tree_method='exact', use_label_encoder=False,\n",
       "              validate_parameters=1, verbosity=None)"
      ]
     },
     "execution_count": 20,
     "metadata": {},
     "output_type": "execute_result"
    }
   ],
   "source": [
    "%%time\n",
    "grad = XGBClassifier(random_state=42, n_jobs=6, use_label_encoder=False)\n",
    "grad.fit(mse, y_test)"
   ]
  },
  {
   "cell_type": "code",
   "execution_count": 21,
   "metadata": {},
   "outputs": [
    {
     "name": "stdout",
     "output_type": "stream",
     "text": [
      "              precision    recall  f1-score   support\n",
      "\n",
      "           0       0.87      0.96      0.91    726259\n",
      "           1       0.66      0.37      0.47    162261\n",
      "\n",
      "    accuracy                           0.85    888520\n",
      "   macro avg       0.76      0.66      0.69    888520\n",
      "weighted avg       0.83      0.85      0.83    888520\n",
      "\n"
     ]
    }
   ],
   "source": [
    "valid_x_predictions = autoencoder.predict(x_val)\n",
    "mse = x_val - valid_x_predictions\n",
    "print(classification_report(y_val, grad.predict(mse)))"
   ]
  },
  {
   "cell_type": "code",
   "execution_count": 22,
   "metadata": {},
   "outputs": [
    {
     "data": {
      "image/png": "[encoded data removed]",
      "text/plain": [
       "<Figure size 432x288 with 1 Axes>"
      ]
     },
     "metadata": {
      "needs_background": "light"
     },
     "output_type": "display_data"
    }
   ],
   "source": [
    "precision, recall, thresholds = precision_recall_curve(y_val, grad.predict_proba(mse)[:, 1])\n",
    "thresholds = [0] + thresholds.tolist()\n",
    "plt.plot(thresholds, precision, label='precision');\n",
    "plt.plot(thresholds, recall, label='recall');\n",
    "plt.legend(); plt.xlabel('Threshold'); plt.ylabel('Precision or recall');\n",
    "plt.title('Precision and recall for balanced dataset');"
   ]
  },
  {
   "cell_type": "code",
   "execution_count": 23,
   "metadata": {},
   "outputs": [],
   "source": [
    "p_network = grad.predict_proba(mse)[:, 1]"
   ]
  },
  {
   "cell_type": "code",
   "execution_count": 24,
   "metadata": {},
   "outputs": [
    {
     "name": "stderr",
     "output_type": "stream",
     "text": [
      "100%|██████████| 888520/888520 [00:03<00:00, 241161.08it/s]\n"
     ]
    }
   ],
   "source": [
    "prediction = []\n",
    "for i in tqdm(range(len(x_val))):\n",
    "    if p_network[i] < 0.31:\n",
    "        prediction.append(0)\n",
    "    else:\n",
    "        prediction.append(1)"
   ]
  },
  {
   "cell_type": "code",
   "execution_count": 25,
   "metadata": {},
   "outputs": [
    {
     "name": "stdout",
     "output_type": "stream",
     "text": [
      "              precision    recall  f1-score   support\n",
      "\n",
      "           0       0.91      0.89      0.90    726259\n",
      "           1       0.54      0.59      0.56    162261\n",
      "\n",
      "    accuracy                           0.83    888520\n",
      "   macro avg       0.72      0.74      0.73    888520\n",
      "weighted avg       0.84      0.83      0.84    888520\n",
      "\n"
     ]
    }
   ],
   "source": [
    "print(classification_report(y_val, prediction))"
   ]
  }
 ],
 "metadata": {
  "kernelspec": {
   "display_name": "Python 3",
   "language": "python",
   "name": "python3"
  },
  "language_info": {
   "codemirror_mode": {
    "name": "ipython",
    "version": 3
   },
   "file_extension": ".py",
   "mimetype": "text/x-python",
   "name": "python",
   "nbconvert_exporter": "python",
   "pygments_lexer": "ipython3",
   "version": "3.8.5"
  }
 },
 "nbformat": 4,
 "nbformat_minor": 4
}
