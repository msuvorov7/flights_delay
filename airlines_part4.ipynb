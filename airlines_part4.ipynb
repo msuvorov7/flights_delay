{
 "cells": [
  {
   "cell_type": "markdown",
   "metadata": {},
   "source": [
    "## Классификация по задержкам отправления"
   ]
  },
  {
   "cell_type": "markdown",
   "metadata": {},
   "source": [
    "В ходе проделанной работы по предсказанию DEPARTURE_DELAY мы достигли потолка, поскольку нет явных признаков, позволяющих спрогнозировать задержку. В связи с этим было принято решение вернуться к самому началу - конструированию признаков и составлению работего датасета.\n",
    "\n",
    "Углубившись в проблемматику авиаперевозок, были выделены следующие основные причины опозданий авиарейсов:\n",
    "1) Плохие погодные условия\n",
    "\n",
    "2) Поздний прилёт самолёта с предыдущего рейса\n",
    "\n",
    "3) Неисправности самих самолётов\n",
    "\n",
    "4) Тенденции отдельных авиакомпаний задерживать рейсы\n",
    "\n",
    "Для учёта этих факторов были приняты следующие меры:"
   ]
  },
  {
   "cell_type": "markdown",
   "metadata": {},
   "source": [
    "### Индекс задержек для авиакомпаний"
   ]
  },
  {
   "cell_type": "markdown",
   "metadata": {},
   "source": [
    "Были собраны аналогичные данные по 2014 году, что позволило собрать небольшую историческую статистику по авиаперевозкам. Индекс задержек авиакомпаний высчитывался как отношение задержанных рейсов к общему количеству рейсов в течении года. По собственным соображениям, рейс будем считать задержанным, если DEPARTURE_DELAY > 5 минут"
   ]
  },
  {
   "cell_type": "markdown",
   "metadata": {},
   "source": [
    "### Является ли день выходным"
   ]
  },
  {
   "cell_type": "markdown",
   "metadata": {},
   "source": [
    "Как было видно из разведовательного анализа данных, больше всего вылетов было совершено в выходные дни. Логично предположить, что вероятность задержки рейсов в эти дни выше"
   ]
  },
  {
   "cell_type": "markdown",
   "metadata": {},
   "source": [
    "### Статистика городов"
   ]
  },
  {
   "cell_type": "markdown",
   "metadata": {},
   "source": [
    "Благодаря статистике за предыдущий год, можем посмотреть на тенденции задержек авиарейсов, сгруппированных по отдельным городам, месяцам и дням недели. Предполагаем, что, если в каком-то городе был задержан один рейс (например, из-за плохих погодных условий), то и последующие рейсы в этом городе так же могут быть отложены"
   ]
  },
  {
   "cell_type": "markdown",
   "metadata": {},
   "source": [
    "### Прилёт самолёта с опозданием"
   ]
  },
  {
   "cell_type": "markdown",
   "metadata": {},
   "source": [
    "Обычно, авиакомпании распределяют рейсы так, чтобы между ними был примерно час времени, для подготовки самолёта к следующему вылету. Соответственно, если самолёт прилетел позже запланированного времени, то и шансы на его опоздание к отлёту на следующий рейс повышаются"
   ]
  },
  {
   "cell_type": "markdown",
   "metadata": {},
   "source": [
    "### Индекс опозданий самолётов"
   ]
  },
  {
   "cell_type": "markdown",
   "metadata": {},
   "source": [
    "Воспользовавшись данными за предыдущий год, был подсчитан индекс опозданий для самолётов. Делается это в предположении, что некоторые самолёты старые, поэтому часто нуждаются в техническом обслуживании. Из-за этого повышается вероятность задержки рейса у конкретного самолёта"
   ]
  },
  {
   "cell_type": "markdown",
   "metadata": {},
   "source": [
    "### Погода"
   ]
  },
  {
   "cell_type": "markdown",
   "metadata": {},
   "source": [
    "Со стороннего ресурса были скачаны данные погоды за 2015 год по кажжому из городов отправления с периодичностью в 1 час"
   ]
  },
  {
   "cell_type": "code",
   "execution_count": 2,
   "metadata": {},
   "outputs": [],
   "source": [
    "import pandas as pd\n",
    "import numpy as np\n",
    "import seaborn as sns\n",
    "import plotly.graph_objs as go\n",
    "from matplotlib import pyplot as plt\n",
    "from plotly.subplots import make_subplots\n",
    "from sklearn.model_selection import train_test_split\n",
    "from sklearn.preprocessing import StandardScaler\n",
    "from IPython.display import display\n",
    "from tqdm import tqdm\n",
    "%matplotlib inline\n",
    "pd.options.display.max_columns = 50"
   ]
  },
  {
   "cell_type": "code",
   "execution_count": 1,
   "metadata": {},
   "outputs": [],
   "source": [
    "from sklearn.metrics import classification_report, confusion_matrix, plot_confusion_matrix, precision_recall_curve\n",
    "from xgboost import XGBClassifier\n",
    "from sklearn.linear_model import LogisticRegression, LinearRegression, ARDRegression\n",
    "from sklearn.svm import LinearSVR, SVC, LinearSVC\n",
    "from keras.models import Sequential\n",
    "from keras.layers import Dense, ReLU\n",
    "from sklearn.metrics import mean_absolute_error\n",
    "from sklearn.ensemble import VotingClassifier"
   ]
  },
  {
   "cell_type": "code",
   "execution_count": 3,
   "metadata": {},
   "outputs": [],
   "source": [
    "def plot_train_val_loss(history, epochs):\n",
    "    history_dict = history.history\n",
    "    loss_values = history_dict['loss']\n",
    "    val_loss_values = history_dict['val_loss']\n",
    "    \n",
    "    epochs = range(1, epochs + 1)\n",
    "\n",
    "    plt.plot(epochs, loss_values, 'bo', label='Training loss')\n",
    "    plt.plot(epochs, val_loss_values, 'b', label='Validation loss')\n",
    "\n",
    "    plt.title('Training and validation loss')\n",
    "    plt.xlabel('Epochs')\n",
    "    plt.ylabel('Loss')\n",
    "    plt.legend()"
   ]
  },
  {
   "cell_type": "code",
   "execution_count": 4,
   "metadata": {},
   "outputs": [],
   "source": [
    "def plot_pr_curve(y_true, prediction):\n",
    "    precision, recall, thresholds = precision_recall_curve(y_true, prediction)\n",
    "    thresholds = [0] + thresholds.tolist()\n",
    "    plt.plot(thresholds, precision, label='precision');\n",
    "    plt.plot(thresholds, recall, label='recall');\n",
    "    plt.legend(); plt.xlabel('Threshold'); plt.ylabel('Precision or recall');\n",
    "    plt.title('Precision and recall for unbalanced dataset');"
   ]
  },
  {
   "cell_type": "code",
   "execution_count": 5,
   "metadata": {},
   "outputs": [
    {
     "name": "stdout",
     "output_type": "stream",
     "text": [
      "CPU times: user 37.3 s, sys: 27.3 s, total: 1min 4s\n",
      "Wall time: 1min 20s\n"
     ]
    }
   ],
   "source": [
    "%%time\n",
    "flights = pd.read_csv('dep_delay_df.csv')\n",
    "flights.drop(['YEAR','FLIGHTS', 'DEP_DELAY_GROUP'], axis=1, inplace=True)\n",
    "flights.FIRST_DEP_TIME.fillna(0, inplace=True)\n",
    "#flights.TOTAL_ADD_GTIME.fillna(0, inplace=True)\n",
    "flights.LONGEST_ADD_GTIME.fillna(0, inplace=True)\n",
    "#df.drop('LONGEST_ADD_GTIME', axis=1, inplace=True)\n",
    "flights.drop('TOTAL_ADD_GTIME', axis=1, inplace=True)\n",
    "#df.drop('FIRST_DEP_TIME', axis=1, inplace=True)\n",
    "flights.STD_DELAY.fillna(0, inplace=True)\n",
    "flights.MEAN_DELAY.fillna(0, inplace=True)\n",
    "flights.MAX_DELAY.fillna(0, inplace=True)\n",
    "flights.MIN_DELAY.fillna(0, inplace=True)\n",
    "flights.COUNT.fillna(0, inplace=True)\n",
    "flights['25%_DELAY'].fillna(0, inplace=True)\n",
    "flights['50%_DELAY'].fillna(0, inplace=True)\n",
    "flights['75%_DELAY'].fillna(0, inplace=True)\n",
    "flights.dropna(inplace=True)"
   ]
  },
  {
   "cell_type": "code",
   "execution_count": 6,
   "metadata": {},
   "outputs": [
    {
     "data": {
      "text/html": [
       "<div>\n",
       "<style scoped>\n",
       "    .dataframe tbody tr th:only-of-type {\n",
       "        vertical-align: middle;\n",
       "    }\n",
       "\n",
       "    .dataframe tbody tr th {\n",
       "        vertical-align: top;\n",
       "    }\n",
       "\n",
       "    .dataframe thead th {\n",
       "        text-align: right;\n",
       "    }\n",
       "</style>\n",
       "<table border=\"1\" class=\"dataframe\">\n",
       "  <thead>\n",
       "    <tr style=\"text-align: right;\">\n",
       "      <th></th>\n",
       "      <th>MONTH</th>\n",
       "      <th>DAY</th>\n",
       "      <th>DAY_OF_WEEK</th>\n",
       "      <th>AIRLINE</th>\n",
       "      <th>TAIL_NUM</th>\n",
       "      <th>FLIGHT_MUNBER</th>\n",
       "      <th>ORIGIN</th>\n",
       "      <th>ORIGIN_CITY_NAME</th>\n",
       "      <th>DEST</th>\n",
       "      <th>DEST_CITY_NAME</th>\n",
       "      <th>CRS_DEP_TIME</th>\n",
       "      <th>DEP_DELAY</th>\n",
       "      <th>CRS_ARR_TIME</th>\n",
       "      <th>DISTANCE</th>\n",
       "      <th>FIRST_DEP_TIME</th>\n",
       "      <th>LONGEST_ADD_GTIME</th>\n",
       "      <th>maxtempC</th>\n",
       "      <th>mintempC</th>\n",
       "      <th>totalSnow_cm</th>\n",
       "      <th>sunHour</th>\n",
       "      <th>uvIndex</th>\n",
       "      <th>moon_illumination</th>\n",
       "      <th>tempC</th>\n",
       "      <th>windspeedKmph</th>\n",
       "      <th>winddirDegree</th>\n",
       "      <th>...</th>\n",
       "      <th>cloudcover</th>\n",
       "      <th>HeatIndexC</th>\n",
       "      <th>DewPointC</th>\n",
       "      <th>WindChillC</th>\n",
       "      <th>WindGustKmph</th>\n",
       "      <th>FeelsLikeC</th>\n",
       "      <th>weatherCode_dest</th>\n",
       "      <th>COUNT</th>\n",
       "      <th>MEAN_DELAY</th>\n",
       "      <th>STD_DELAY</th>\n",
       "      <th>MIN_DELAY</th>\n",
       "      <th>25%_DELAY</th>\n",
       "      <th>50%_DELAY</th>\n",
       "      <th>75%_DELAY</th>\n",
       "      <th>MAX_DELAY</th>\n",
       "      <th>WEEKEND</th>\n",
       "      <th>LATE_AIRLINE_INDEX</th>\n",
       "      <th>LATE_TAIL_INDEX</th>\n",
       "      <th>LATE_ARR</th>\n",
       "      <th>IN_FLIGHTS_H</th>\n",
       "      <th>OUT_FLIGHTS_H</th>\n",
       "      <th>LATE_DEP_1</th>\n",
       "      <th>LATE_DEP_2</th>\n",
       "      <th>LATE_DEP_3</th>\n",
       "      <th>LATE_DEP_4</th>\n",
       "    </tr>\n",
       "  </thead>\n",
       "  <tbody>\n",
       "    <tr>\n",
       "      <th>0</th>\n",
       "      <td>4</td>\n",
       "      <td>23</td>\n",
       "      <td>4</td>\n",
       "      <td>805608</td>\n",
       "      <td>907675</td>\n",
       "      <td>165</td>\n",
       "      <td>786276</td>\n",
       "      <td>86124</td>\n",
       "      <td>230321</td>\n",
       "      <td>679992</td>\n",
       "      <td>1210</td>\n",
       "      <td>-8.0</td>\n",
       "      <td>1414</td>\n",
       "      <td>1440.0</td>\n",
       "      <td>0.0</td>\n",
       "      <td>0.0</td>\n",
       "      <td>8</td>\n",
       "      <td>3</td>\n",
       "      <td>0.0</td>\n",
       "      <td>13.8</td>\n",
       "      <td>3</td>\n",
       "      <td>29</td>\n",
       "      <td>8</td>\n",
       "      <td>12</td>\n",
       "      <td>324</td>\n",
       "      <td>...</td>\n",
       "      <td>23</td>\n",
       "      <td>8</td>\n",
       "      <td>-1</td>\n",
       "      <td>5</td>\n",
       "      <td>17</td>\n",
       "      <td>5</td>\n",
       "      <td>200.0</td>\n",
       "      <td>10.0</td>\n",
       "      <td>-1.600000</td>\n",
       "      <td>8.408990</td>\n",
       "      <td>-11.0</td>\n",
       "      <td>-5.5</td>\n",
       "      <td>-3.0</td>\n",
       "      <td>-0.50</td>\n",
       "      <td>20.0</td>\n",
       "      <td>0</td>\n",
       "      <td>0.119103</td>\n",
       "      <td>0.108824</td>\n",
       "      <td>0.0</td>\n",
       "      <td>38</td>\n",
       "      <td>66</td>\n",
       "      <td>0.0</td>\n",
       "      <td>0.0</td>\n",
       "      <td>0.0</td>\n",
       "      <td>0.0</td>\n",
       "    </tr>\n",
       "    <tr>\n",
       "      <th>1</th>\n",
       "      <td>4</td>\n",
       "      <td>24</td>\n",
       "      <td>5</td>\n",
       "      <td>805608</td>\n",
       "      <td>625140</td>\n",
       "      <td>165</td>\n",
       "      <td>786276</td>\n",
       "      <td>86124</td>\n",
       "      <td>230321</td>\n",
       "      <td>679992</td>\n",
       "      <td>1210</td>\n",
       "      <td>4.0</td>\n",
       "      <td>1414</td>\n",
       "      <td>1440.0</td>\n",
       "      <td>0.0</td>\n",
       "      <td>0.0</td>\n",
       "      <td>11</td>\n",
       "      <td>3</td>\n",
       "      <td>0.0</td>\n",
       "      <td>12.2</td>\n",
       "      <td>3</td>\n",
       "      <td>36</td>\n",
       "      <td>11</td>\n",
       "      <td>13</td>\n",
       "      <td>90</td>\n",
       "      <td>...</td>\n",
       "      <td>46</td>\n",
       "      <td>11</td>\n",
       "      <td>-1</td>\n",
       "      <td>10</td>\n",
       "      <td>22</td>\n",
       "      <td>10</td>\n",
       "      <td>176.0</td>\n",
       "      <td>19.0</td>\n",
       "      <td>22.157895</td>\n",
       "      <td>49.944706</td>\n",
       "      <td>-9.0</td>\n",
       "      <td>-3.0</td>\n",
       "      <td>-1.0</td>\n",
       "      <td>12.00</td>\n",
       "      <td>140.0</td>\n",
       "      <td>0</td>\n",
       "      <td>0.119103</td>\n",
       "      <td>0.123330</td>\n",
       "      <td>0.0</td>\n",
       "      <td>37</td>\n",
       "      <td>65</td>\n",
       "      <td>1.0</td>\n",
       "      <td>1.0</td>\n",
       "      <td>0.0</td>\n",
       "      <td>0.0</td>\n",
       "    </tr>\n",
       "    <tr>\n",
       "      <th>2</th>\n",
       "      <td>4</td>\n",
       "      <td>25</td>\n",
       "      <td>6</td>\n",
       "      <td>805608</td>\n",
       "      <td>140380</td>\n",
       "      <td>165</td>\n",
       "      <td>786276</td>\n",
       "      <td>86124</td>\n",
       "      <td>230321</td>\n",
       "      <td>679992</td>\n",
       "      <td>1210</td>\n",
       "      <td>44.0</td>\n",
       "      <td>1414</td>\n",
       "      <td>1440.0</td>\n",
       "      <td>0.0</td>\n",
       "      <td>0.0</td>\n",
       "      <td>7</td>\n",
       "      <td>4</td>\n",
       "      <td>0.0</td>\n",
       "      <td>9.8</td>\n",
       "      <td>2</td>\n",
       "      <td>44</td>\n",
       "      <td>5</td>\n",
       "      <td>14</td>\n",
       "      <td>60</td>\n",
       "      <td>...</td>\n",
       "      <td>100</td>\n",
       "      <td>5</td>\n",
       "      <td>4</td>\n",
       "      <td>2</td>\n",
       "      <td>22</td>\n",
       "      <td>2</td>\n",
       "      <td>113.0</td>\n",
       "      <td>11.0</td>\n",
       "      <td>1.636364</td>\n",
       "      <td>16.698938</td>\n",
       "      <td>-7.0</td>\n",
       "      <td>-5.5</td>\n",
       "      <td>-4.0</td>\n",
       "      <td>-0.50</td>\n",
       "      <td>51.0</td>\n",
       "      <td>1</td>\n",
       "      <td>0.119103</td>\n",
       "      <td>0.136511</td>\n",
       "      <td>0.0</td>\n",
       "      <td>33</td>\n",
       "      <td>53</td>\n",
       "      <td>0.0</td>\n",
       "      <td>1.0</td>\n",
       "      <td>0.0</td>\n",
       "      <td>0.0</td>\n",
       "    </tr>\n",
       "    <tr>\n",
       "      <th>3</th>\n",
       "      <td>4</td>\n",
       "      <td>26</td>\n",
       "      <td>7</td>\n",
       "      <td>805608</td>\n",
       "      <td>869737</td>\n",
       "      <td>165</td>\n",
       "      <td>786276</td>\n",
       "      <td>86124</td>\n",
       "      <td>230321</td>\n",
       "      <td>679992</td>\n",
       "      <td>1210</td>\n",
       "      <td>-5.0</td>\n",
       "      <td>1414</td>\n",
       "      <td>1440.0</td>\n",
       "      <td>0.0</td>\n",
       "      <td>0.0</td>\n",
       "      <td>8</td>\n",
       "      <td>3</td>\n",
       "      <td>0.0</td>\n",
       "      <td>13.9</td>\n",
       "      <td>3</td>\n",
       "      <td>52</td>\n",
       "      <td>8</td>\n",
       "      <td>17</td>\n",
       "      <td>15</td>\n",
       "      <td>...</td>\n",
       "      <td>3</td>\n",
       "      <td>8</td>\n",
       "      <td>2</td>\n",
       "      <td>6</td>\n",
       "      <td>23</td>\n",
       "      <td>6</td>\n",
       "      <td>116.0</td>\n",
       "      <td>22.0</td>\n",
       "      <td>17.272727</td>\n",
       "      <td>37.386249</td>\n",
       "      <td>-8.0</td>\n",
       "      <td>-4.0</td>\n",
       "      <td>-1.5</td>\n",
       "      <td>15.50</td>\n",
       "      <td>128.0</td>\n",
       "      <td>1</td>\n",
       "      <td>0.119103</td>\n",
       "      <td>0.110572</td>\n",
       "      <td>0.0</td>\n",
       "      <td>37</td>\n",
       "      <td>63</td>\n",
       "      <td>0.0</td>\n",
       "      <td>1.0</td>\n",
       "      <td>1.0</td>\n",
       "      <td>0.0</td>\n",
       "    </tr>\n",
       "    <tr>\n",
       "      <th>4</th>\n",
       "      <td>4</td>\n",
       "      <td>27</td>\n",
       "      <td>1</td>\n",
       "      <td>805608</td>\n",
       "      <td>556272</td>\n",
       "      <td>165</td>\n",
       "      <td>786276</td>\n",
       "      <td>86124</td>\n",
       "      <td>230321</td>\n",
       "      <td>679992</td>\n",
       "      <td>1210</td>\n",
       "      <td>9.0</td>\n",
       "      <td>1414</td>\n",
       "      <td>1440.0</td>\n",
       "      <td>0.0</td>\n",
       "      <td>0.0</td>\n",
       "      <td>7</td>\n",
       "      <td>3</td>\n",
       "      <td>0.0</td>\n",
       "      <td>13.9</td>\n",
       "      <td>3</td>\n",
       "      <td>59</td>\n",
       "      <td>7</td>\n",
       "      <td>27</td>\n",
       "      <td>13</td>\n",
       "      <td>...</td>\n",
       "      <td>14</td>\n",
       "      <td>7</td>\n",
       "      <td>3</td>\n",
       "      <td>3</td>\n",
       "      <td>39</td>\n",
       "      <td>3</td>\n",
       "      <td>113.0</td>\n",
       "      <td>18.0</td>\n",
       "      <td>8.333333</td>\n",
       "      <td>26.648033</td>\n",
       "      <td>-6.0</td>\n",
       "      <td>-4.0</td>\n",
       "      <td>-2.5</td>\n",
       "      <td>2.25</td>\n",
       "      <td>94.0</td>\n",
       "      <td>0</td>\n",
       "      <td>0.119103</td>\n",
       "      <td>0.119418</td>\n",
       "      <td>1.0</td>\n",
       "      <td>38</td>\n",
       "      <td>66</td>\n",
       "      <td>1.0</td>\n",
       "      <td>1.0</td>\n",
       "      <td>0.0</td>\n",
       "      <td>0.0</td>\n",
       "    </tr>\n",
       "  </tbody>\n",
       "</table>\n",
       "<p>5 rows × 55 columns</p>\n",
       "</div>"
      ],
      "text/plain": [
       "   MONTH  DAY  DAY_OF_WEEK  AIRLINE  TAIL_NUM  FLIGHT_MUNBER  ORIGIN  \\\n",
       "0      4   23            4   805608    907675            165  786276   \n",
       "1      4   24            5   805608    625140            165  786276   \n",
       "2      4   25            6   805608    140380            165  786276   \n",
       "3      4   26            7   805608    869737            165  786276   \n",
       "4      4   27            1   805608    556272            165  786276   \n",
       "\n",
       "   ORIGIN_CITY_NAME    DEST  DEST_CITY_NAME  CRS_DEP_TIME  DEP_DELAY  \\\n",
       "0             86124  230321          679992          1210       -8.0   \n",
       "1             86124  230321          679992          1210        4.0   \n",
       "2             86124  230321          679992          1210       44.0   \n",
       "3             86124  230321          679992          1210       -5.0   \n",
       "4             86124  230321          679992          1210        9.0   \n",
       "\n",
       "   CRS_ARR_TIME  DISTANCE  FIRST_DEP_TIME  LONGEST_ADD_GTIME  maxtempC  \\\n",
       "0          1414    1440.0             0.0                0.0         8   \n",
       "1          1414    1440.0             0.0                0.0        11   \n",
       "2          1414    1440.0             0.0                0.0         7   \n",
       "3          1414    1440.0             0.0                0.0         8   \n",
       "4          1414    1440.0             0.0                0.0         7   \n",
       "\n",
       "   mintempC  totalSnow_cm  sunHour  uvIndex  moon_illumination  tempC  \\\n",
       "0         3           0.0     13.8        3                 29      8   \n",
       "1         3           0.0     12.2        3                 36     11   \n",
       "2         4           0.0      9.8        2                 44      5   \n",
       "3         3           0.0     13.9        3                 52      8   \n",
       "4         3           0.0     13.9        3                 59      7   \n",
       "\n",
       "   windspeedKmph  winddirDegree  ...  cloudcover  HeatIndexC  DewPointC  \\\n",
       "0             12            324  ...          23           8         -1   \n",
       "1             13             90  ...          46          11         -1   \n",
       "2             14             60  ...         100           5          4   \n",
       "3             17             15  ...           3           8          2   \n",
       "4             27             13  ...          14           7          3   \n",
       "\n",
       "   WindChillC  WindGustKmph  FeelsLikeC  weatherCode_dest  COUNT  MEAN_DELAY  \\\n",
       "0           5            17           5             200.0   10.0   -1.600000   \n",
       "1          10            22          10             176.0   19.0   22.157895   \n",
       "2           2            22           2             113.0   11.0    1.636364   \n",
       "3           6            23           6             116.0   22.0   17.272727   \n",
       "4           3            39           3             113.0   18.0    8.333333   \n",
       "\n",
       "   STD_DELAY  MIN_DELAY  25%_DELAY  50%_DELAY  75%_DELAY  MAX_DELAY  WEEKEND  \\\n",
       "0   8.408990      -11.0       -5.5       -3.0      -0.50       20.0        0   \n",
       "1  49.944706       -9.0       -3.0       -1.0      12.00      140.0        0   \n",
       "2  16.698938       -7.0       -5.5       -4.0      -0.50       51.0        1   \n",
       "3  37.386249       -8.0       -4.0       -1.5      15.50      128.0        1   \n",
       "4  26.648033       -6.0       -4.0       -2.5       2.25       94.0        0   \n",
       "\n",
       "   LATE_AIRLINE_INDEX  LATE_TAIL_INDEX  LATE_ARR  IN_FLIGHTS_H  OUT_FLIGHTS_H  \\\n",
       "0            0.119103         0.108824       0.0            38             66   \n",
       "1            0.119103         0.123330       0.0            37             65   \n",
       "2            0.119103         0.136511       0.0            33             53   \n",
       "3            0.119103         0.110572       0.0            37             63   \n",
       "4            0.119103         0.119418       1.0            38             66   \n",
       "\n",
       "   LATE_DEP_1  LATE_DEP_2  LATE_DEP_3  LATE_DEP_4  \n",
       "0         0.0         0.0         0.0         0.0  \n",
       "1         1.0         1.0         0.0         0.0  \n",
       "2         0.0         1.0         0.0         0.0  \n",
       "3         0.0         1.0         1.0         0.0  \n",
       "4         1.0         1.0         0.0         0.0  \n",
       "\n",
       "[5 rows x 55 columns]"
      ]
     },
     "execution_count": 6,
     "metadata": {},
     "output_type": "execute_result"
    }
   ],
   "source": [
    "flights.head()"
   ]
  },
  {
   "cell_type": "code",
   "execution_count": 7,
   "metadata": {},
   "outputs": [],
   "source": [
    "# Function to calculate missing values by column\n",
    "def missing_values_table(df):\n",
    "        # Total missing values\n",
    "        mis_val = df.isnull().sum()\n",
    "        \n",
    "        # Percentage of missing values\n",
    "        mis_val_percent = 100 * df.isnull().sum() / len(df)\n",
    "        \n",
    "        # Make a table with the results\n",
    "        mis_val_table = pd.concat([mis_val, mis_val_percent], axis=1)\n",
    "        \n",
    "        # Rename the columns\n",
    "        mis_val_table_ren_columns = mis_val_table.rename(\n",
    "        columns = {0 : 'Missing Values', 1 : '% of Total Values'})\n",
    "        \n",
    "        # Sort the table by percentage of missing descending\n",
    "        mis_val_table_ren_columns = mis_val_table_ren_columns[\n",
    "            mis_val_table_ren_columns.iloc[:,1] != 0].sort_values(\n",
    "        '% of Total Values', ascending=False).round(1)\n",
    "        \n",
    "        # Print some summary information\n",
    "        print (\"Your selected dataframe has \" + str(df.shape[1]) + \" columns.\\n\"      \n",
    "            \"There are \" + str(mis_val_table_ren_columns.shape[0]) +\n",
    "              \" columns that have missing values.\")\n",
    "        \n",
    "        # Return the dataframe with missing information\n",
    "        return mis_val_table_ren_columns"
   ]
  },
  {
   "cell_type": "code",
   "execution_count": 8,
   "metadata": {},
   "outputs": [
    {
     "name": "stdout",
     "output_type": "stream",
     "text": [
      "Your selected dataframe has 55 columns.\n",
      "There are 0 columns that have missing values.\n"
     ]
    },
    {
     "data": {
      "text/html": [
       "<div>\n",
       "<style scoped>\n",
       "    .dataframe tbody tr th:only-of-type {\n",
       "        vertical-align: middle;\n",
       "    }\n",
       "\n",
       "    .dataframe tbody tr th {\n",
       "        vertical-align: top;\n",
       "    }\n",
       "\n",
       "    .dataframe thead th {\n",
       "        text-align: right;\n",
       "    }\n",
       "</style>\n",
       "<table border=\"1\" class=\"dataframe\">\n",
       "  <thead>\n",
       "    <tr style=\"text-align: right;\">\n",
       "      <th></th>\n",
       "      <th>Missing Values</th>\n",
       "      <th>% of Total Values</th>\n",
       "    </tr>\n",
       "  </thead>\n",
       "  <tbody>\n",
       "  </tbody>\n",
       "</table>\n",
       "</div>"
      ],
      "text/plain": [
       "Empty DataFrame\n",
       "Columns: [Missing Values, % of Total Values]\n",
       "Index: []"
      ]
     },
     "execution_count": 8,
     "metadata": {},
     "output_type": "execute_result"
    }
   ],
   "source": [
    "missing_values_table(flights)"
   ]
  },
  {
   "cell_type": "code",
   "execution_count": 9,
   "metadata": {},
   "outputs": [],
   "source": [
    "scaler = StandardScaler()"
   ]
  },
  {
   "cell_type": "code",
   "execution_count": 10,
   "metadata": {},
   "outputs": [
    {
     "data": {
      "text/plain": [
       "(4738774, 55)"
      ]
     },
     "execution_count": 10,
     "metadata": {},
     "output_type": "execute_result"
    }
   ],
   "source": [
    "flights.shape"
   ]
  },
  {
   "cell_type": "markdown",
   "metadata": {},
   "source": [
    "### Пробуем найти основную часть задержек"
   ]
  },
  {
   "cell_type": "code",
   "execution_count": 12,
   "metadata": {},
   "outputs": [],
   "source": [
    "# Calculate first and third quartile\n",
    "first_quartile = flights['DEP_DELAY'].describe()['25%']\n",
    "third_quartile = flights['DEP_DELAY'].describe()['75%']\n",
    "\n",
    "# Interquartile range\n",
    "iqr = third_quartile - first_quartile\n",
    "\n",
    "# Remove outliers\n",
    "data = flights[(flights['DEP_DELAY'] > (first_quartile - 3/2 * iqr)) &\n",
    "            (flights['DEP_DELAY'] < (third_quartile + 3/2 * iqr))].copy()"
   ]
  },
  {
   "cell_type": "code",
   "execution_count": 13,
   "metadata": {},
   "outputs": [
    {
     "data": {
      "text/plain": [
       "<AxesSubplot:xlabel='DEP_DELAY', ylabel='Count'>"
      ]
     },
     "execution_count": 13,
     "metadata": {},
     "output_type": "execute_result"
    },
    {
     "data": {
      "image/png": "[encoded data removed]",
      "text/plain": [
       "<Figure size 720x504 with 1 Axes>"
      ]
     },
     "metadata": {
      "needs_background": "light"
     },
     "output_type": "display_data"
    }
   ],
   "source": [
    "plt.figure(figsize=(10,7))\n",
    "sns.histplot(data.DEP_DELAY, bins=50)"
   ]
  },
  {
   "cell_type": "code",
   "execution_count": 14,
   "metadata": {},
   "outputs": [
    {
     "data": {
      "text/plain": [
       "(2631868, 55)"
      ]
     },
     "execution_count": 14,
     "metadata": {},
     "output_type": "execute_result"
    }
   ],
   "source": [
    "data.shape"
   ]
  },
  {
   "cell_type": "markdown",
   "metadata": {},
   "source": [
    "На гистограмме хорошо видно, что большая часть задержек находится левее нуля. Это значит, что самолёт вылетел чуть раньше запланированного. Поэтому, попробуем разбить выборку на 2 класса: DEPARTURE_DELAY < 15 минут и DEPARTURE_DELAY >= 15 минут."
   ]
  },
  {
   "cell_type": "markdown",
   "metadata": {},
   "source": [
    "Забегая вперёд, попробуем построить линейную регрессию на полученных данных и посмотреть на результат."
   ]
  },
  {
   "cell_type": "code",
   "execution_count": 14,
   "metadata": {},
   "outputs": [],
   "source": [
    "data.dropna(inplace=True)\n",
    "X = data.drop(['DEP_DELAY', 'DEP_DELAY_GROUP'], axis=1)\n",
    "y = data.DEP_DELAY\n",
    "X_train, X_test, y_train, y_test = train_test_split(X, y, random_state=42, shuffle=True)\n",
    "X_train = scaler.fit_transform(X_train)\n",
    "X_test = scaler.transform(X_test)"
   ]
  },
  {
   "cell_type": "code",
   "execution_count": 15,
   "metadata": {},
   "outputs": [
    {
     "name": "stdout",
     "output_type": "stream",
     "text": [
      "CPU times: user 15.2 s, sys: 1.65 s, total: 16.8 s\n",
      "Wall time: 5.82 s\n"
     ]
    },
    {
     "data": {
      "text/plain": [
       "LinearRegression()"
      ]
     },
     "execution_count": 15,
     "metadata": {},
     "output_type": "execute_result"
    }
   ],
   "source": [
    "%%time\n",
    "lin = LinearRegression()\n",
    "lin.fit(X_train, y_train)"
   ]
  },
  {
   "cell_type": "code",
   "execution_count": 16,
   "metadata": {},
   "outputs": [
    {
     "data": {
      "text/plain": [
       "5.061955725299539"
      ]
     },
     "execution_count": 16,
     "metadata": {},
     "output_type": "execute_result"
    }
   ],
   "source": [
    "prediction = lin.predict(X_test)\n",
    "mean_absolute_error(y_test, prediction)"
   ]
  },
  {
   "cell_type": "code",
   "execution_count": 17,
   "metadata": {},
   "outputs": [
    {
     "data": {
      "text/plain": [
       "<matplotlib.legend.Legend at 0x7fe3e61c8460>"
      ]
     },
     "execution_count": 17,
     "metadata": {},
     "output_type": "execute_result"
    },
    {
     "data": {
      "image/png": "[encoded data removed]",
      "text/plain": [
       "<Figure size 792x576 with 1 Axes>"
      ]
     },
     "metadata": {
      "needs_background": "light"
     },
     "output_type": "display_data"
    }
   ],
   "source": [
    "plt.figure(figsize=(11,8))\n",
    "plt.scatter(range(100), y_test[:100], label='test')\n",
    "plt.scatter(range(100), prediction[:100], color='red', label='prediction')\n",
    "plt.legend()"
   ]
  },
  {
   "cell_type": "markdown",
   "metadata": {},
   "source": [
    "Ещё одна регрессия"
   ]
  },
  {
   "cell_type": "code",
   "execution_count": 18,
   "metadata": {},
   "outputs": [
    {
     "name": "stdout",
     "output_type": "stream",
     "text": [
      "CPU times: user 3min 17s, sys: 9.9 s, total: 3min 26s\n",
      "Wall time: 1min 1s\n"
     ]
    },
    {
     "data": {
      "text/plain": [
       "ARDRegression()"
      ]
     },
     "execution_count": 18,
     "metadata": {},
     "output_type": "execute_result"
    }
   ],
   "source": [
    "%%time\n",
    "ard = ARDRegression()\n",
    "ard.fit(X_train, y_train)"
   ]
  },
  {
   "cell_type": "code",
   "execution_count": 19,
   "metadata": {},
   "outputs": [
    {
     "data": {
      "text/plain": [
       "5.06194819973043"
      ]
     },
     "execution_count": 19,
     "metadata": {},
     "output_type": "execute_result"
    }
   ],
   "source": [
    "prediction = ard.predict(X_test)\n",
    "mean_absolute_error(y_test, prediction)"
   ]
  },
  {
   "cell_type": "code",
   "execution_count": 20,
   "metadata": {},
   "outputs": [
    {
     "data": {
      "text/plain": [
       "<matplotlib.legend.Legend at 0x7fe349598f10>"
      ]
     },
     "execution_count": 20,
     "metadata": {},
     "output_type": "execute_result"
    },
    {
     "data": {
      "image/png": "[encoded data removed]",
      "text/plain": [
       "<Figure size 792x576 with 1 Axes>"
      ]
     },
     "metadata": {
      "needs_background": "light"
     },
     "output_type": "display_data"
    }
   ],
   "source": [
    "plt.figure(figsize=(11,8))\n",
    "plt.scatter(range(100), y_test[:100], label='test')\n",
    "plt.scatter(range(100), prediction[:100], color='red', label='prediction')\n",
    "plt.legend()"
   ]
  },
  {
   "cell_type": "markdown",
   "metadata": {},
   "source": [
    "Посмотрим на фаворита - метод опорных векторов"
   ]
  },
  {
   "cell_type": "code",
   "execution_count": 22,
   "metadata": {},
   "outputs": [
    {
     "name": "stdout",
     "output_type": "stream",
     "text": [
      "CPU times: user 22min 5s, sys: 1.69 s, total: 22min 7s\n",
      "Wall time: 22min 10s\n"
     ]
    },
    {
     "data": {
      "text/plain": [
       "LinearSVR()"
      ]
     },
     "execution_count": 22,
     "metadata": {},
     "output_type": "execute_result"
    }
   ],
   "source": [
    "%%time\n",
    "svr = LinearSVR()\n",
    "svr.fit(X_train, y_train)"
   ]
  },
  {
   "cell_type": "code",
   "execution_count": 23,
   "metadata": {},
   "outputs": [
    {
     "data": {
      "text/plain": [
       "4.694620644280556"
      ]
     },
     "execution_count": 23,
     "metadata": {},
     "output_type": "execute_result"
    }
   ],
   "source": [
    "prediction = svr.predict(X_test)\n",
    "mean_absolute_error(y_test, prediction)"
   ]
  },
  {
   "cell_type": "code",
   "execution_count": 24,
   "metadata": {},
   "outputs": [
    {
     "data": {
      "text/plain": [
       "<matplotlib.legend.Legend at 0x7f851cd76a60>"
      ]
     },
     "execution_count": 24,
     "metadata": {},
     "output_type": "execute_result"
    },
    {
     "data": {
      "image/png": "[encoded data removed]",
      "text/plain": [
       "<Figure size 792x576 with 1 Axes>"
      ]
     },
     "metadata": {
      "needs_background": "light"
     },
     "output_type": "display_data"
    }
   ],
   "source": [
    "plt.figure(figsize=(11,8))\n",
    "plt.scatter(range(100), y_test[:100], label='test')\n",
    "plt.scatter(range(100), prediction[:100], color='red', label='prediction')\n",
    "plt.legend()"
   ]
  },
  {
   "cell_type": "markdown",
   "metadata": {},
   "source": [
    "Нейросетевая регрессия"
   ]
  },
  {
   "cell_type": "code",
   "execution_count": 24,
   "metadata": {},
   "outputs": [
    {
     "name": "stdout",
     "output_type": "stream",
     "text": [
      "Epoch 1/15\n",
      "6169/6169 [==============================] - 17s 3ms/step - loss: 46.3779 - val_loss: 44.1868\n",
      "Epoch 2/15\n",
      "6169/6169 [==============================] - 16s 3ms/step - loss: 44.0350 - val_loss: 43.6300\n",
      "Epoch 3/15\n",
      "6169/6169 [==============================] - 16s 3ms/step - loss: 43.6236 - val_loss: 43.3655\n",
      "Epoch 4/15\n",
      "6169/6169 [==============================] - 16s 3ms/step - loss: 43.4271 - val_loss: 43.2875\n",
      "Epoch 5/15\n",
      "6169/6169 [==============================] - 16s 3ms/step - loss: 43.2631 - val_loss: 43.3206\n",
      "Epoch 6/15\n",
      "6169/6169 [==============================] - 16s 3ms/step - loss: 43.1354 - val_loss: 43.1100\n",
      "Epoch 7/15\n",
      "6169/6169 [==============================] - 16s 3ms/step - loss: 42.9762 - val_loss: 43.0654\n",
      "Epoch 8/15\n",
      "6169/6169 [==============================] - 16s 3ms/step - loss: 42.8592 - val_loss: 43.0075\n",
      "Epoch 9/15\n",
      "6169/6169 [==============================] - 17s 3ms/step - loss: 42.9499 - val_loss: 42.9555\n",
      "Epoch 10/15\n",
      "6169/6169 [==============================] - 16s 3ms/step - loss: 42.8258 - val_loss: 42.9089\n",
      "Epoch 11/15\n",
      "6169/6169 [==============================] - 16s 3ms/step - loss: 42.9007 - val_loss: 42.8649\n",
      "Epoch 12/15\n",
      "6169/6169 [==============================] - 17s 3ms/step - loss: 42.8476 - val_loss: 42.8711\n",
      "Epoch 13/15\n",
      "6169/6169 [==============================] - 16s 3ms/step - loss: 42.8361 - val_loss: 42.8289\n",
      "Epoch 14/15\n",
      "6169/6169 [==============================] - 16s 3ms/step - loss: 42.7870 - val_loss: 42.7990\n",
      "Epoch 15/15\n",
      "6169/6169 [==============================] - 16s 3ms/step - loss: 42.7444 - val_loss: 42.7766\n"
     ]
    }
   ],
   "source": [
    "network = Sequential()\n",
    "network.add(Dense(32, input_dim=X_train.shape[1], activation='relu', kernel_initializer='he_normal'))\n",
    "network.add(Dense(32, activation='relu', kernel_initializer='he_normal'))\n",
    "network.add(Dense(32, activation='relu', kernel_initializer='he_normal'))\n",
    "network.add(Dense(1))\n",
    "\n",
    "network.compile(optimizer=\"adam\", loss=\"mse\")\n",
    "\n",
    "history = network.fit(X_train, y_train, epochs=15, validation_split=0.2, batch_size=256)"
   ]
  },
  {
   "cell_type": "code",
   "execution_count": 25,
   "metadata": {},
   "outputs": [
    {
     "data": {
      "image/png": "[encoded data removed]",
      "text/plain": [
       "<Figure size 432x288 with 1 Axes>"
      ]
     },
     "metadata": {
      "needs_background": "light"
     },
     "output_type": "display_data"
    }
   ],
   "source": [
    "plot_train_val_loss(history, 15)"
   ]
  },
  {
   "cell_type": "code",
   "execution_count": 26,
   "metadata": {},
   "outputs": [
    {
     "data": {
      "text/plain": [
       "4.701193863679527"
      ]
     },
     "execution_count": 26,
     "metadata": {},
     "output_type": "execute_result"
    }
   ],
   "source": [
    "prediction = network.predict(X_test)\n",
    "mean_absolute_error(y_test, prediction)"
   ]
  },
  {
   "cell_type": "code",
   "execution_count": 27,
   "metadata": {},
   "outputs": [
    {
     "data": {
      "text/plain": [
       "<matplotlib.legend.Legend at 0x7fe338180970>"
      ]
     },
     "execution_count": 27,
     "metadata": {},
     "output_type": "execute_result"
    },
    {
     "data": {
      "image/png": "[encoded data removed]",
      "text/plain": [
       "<Figure size 792x576 with 1 Axes>"
      ]
     },
     "metadata": {
      "needs_background": "light"
     },
     "output_type": "display_data"
    }
   ],
   "source": [
    "plt.figure(figsize=(11,8))\n",
    "plt.scatter(range(100), y_test[:100], label='test')\n",
    "plt.scatter(range(100), prediction[:100], color='red', label='prediction')\n",
    "plt.legend()"
   ]
  },
  {
   "cell_type": "markdown",
   "metadata": {},
   "source": [
    "## Разметка данных"
   ]
  },
  {
   "cell_type": "code",
   "execution_count": 11,
   "metadata": {},
   "outputs": [],
   "source": [
    "def mark_outliers(x):\n",
    "    if (x >= 15):\n",
    "        return 1\n",
    "    else:\n",
    "        return 0"
   ]
  },
  {
   "cell_type": "code",
   "execution_count": 12,
   "metadata": {},
   "outputs": [],
   "source": [
    "flights['target'] = flights.DEP_DELAY.apply(mark_outliers)"
   ]
  },
  {
   "cell_type": "code",
   "execution_count": 13,
   "metadata": {},
   "outputs": [
    {
     "data": {
      "text/plain": [
       "0    3873381\n",
       "1     865393\n",
       "Name: target, dtype: int64"
      ]
     },
     "execution_count": 13,
     "metadata": {},
     "output_type": "execute_result"
    }
   ],
   "source": [
    "flights.target.value_counts()"
   ]
  },
  {
   "cell_type": "code",
   "execution_count": 14,
   "metadata": {},
   "outputs": [
    {
     "data": {
      "text/plain": [
       "<AxesSubplot:xlabel='DEP_DELAY', ylabel='Count'>"
      ]
     },
     "execution_count": 14,
     "metadata": {},
     "output_type": "execute_result"
    },
    {
     "data": {
      "image/png": "[encoded data removed]",
      "text/plain": [
       "<Figure size 432x288 with 1 Axes>"
      ]
     },
     "metadata": {
      "needs_background": "light"
     },
     "output_type": "display_data"
    }
   ],
   "source": [
    "sns.histplot(data=flights[flights.target == 1], x='DEP_DELAY', bins=100)"
   ]
  },
  {
   "cell_type": "code",
   "execution_count": 15,
   "metadata": {},
   "outputs": [
    {
     "data": {
      "text/plain": [
       "<AxesSubplot:xlabel='DEP_DELAY', ylabel='Count'>"
      ]
     },
     "execution_count": 15,
     "metadata": {},
     "output_type": "execute_result"
    },
    {
     "data": {
      "image/png": "[encoded data removed]",
      "text/plain": [
       "<Figure size 432x288 with 1 Axes>"
      ]
     },
     "metadata": {
      "needs_background": "light"
     },
     "output_type": "display_data"
    }
   ],
   "source": [
    "sns.histplot(data=flights[flights.target == 0], x='DEP_DELAY', bins=100)"
   ]
  },
  {
   "cell_type": "markdown",
   "metadata": {},
   "source": [
    "## Прогноз"
   ]
  },
  {
   "cell_type": "code",
   "execution_count": 16,
   "metadata": {},
   "outputs": [],
   "source": [
    "flights.target = flights.target.map(int)"
   ]
  },
  {
   "cell_type": "code",
   "execution_count": 17,
   "metadata": {},
   "outputs": [],
   "source": [
    "def fit_model(model, X, y):\n",
    "    X_train, X_test, y_train, y_test = train_test_split(X, y, random_state=42, shuffle=True)\n",
    "    X_train = scaler.fit_transform(X_train)\n",
    "    X_test = scaler.transform(X_test)\n",
    "    model.fit(X_train, y_train)\n",
    "    print(classification_report(y_test, model.predict(X_test)))\n",
    "    return model"
   ]
  },
  {
   "cell_type": "code",
   "execution_count": 18,
   "metadata": {},
   "outputs": [
    {
     "name": "stdout",
     "output_type": "stream",
     "text": [
      "              precision    recall  f1-score   support\n",
      "\n",
      "           0       0.88      0.96      0.92    968190\n",
      "           1       0.69      0.40      0.51    216504\n",
      "\n",
      "    accuracy                           0.86   1184694\n",
      "   macro avg       0.79      0.68      0.71   1184694\n",
      "weighted avg       0.84      0.86      0.84   1184694\n",
      "\n",
      "CPU times: user 1min 47s, sys: 26.1 s, total: 2min 13s\n",
      "Wall time: 2min 41s\n"
     ]
    }
   ],
   "source": [
    "%%time\n",
    "logit = fit_model(LogisticRegression(max_iter=200), \n",
    "                  flights.drop(['DEP_DELAY', 'target', 'LONGEST_ADD_GTIME'], axis=1),\n",
    "                  flights.target)"
   ]
  },
  {
   "cell_type": "code",
   "execution_count": 19,
   "metadata": {
    "scrolled": true
   },
   "outputs": [
    {
     "data": {
      "text/html": [
       "<style  type=\"text/css\" >\n",
       "#T_a4932694_9fbc_11eb_a88f_91b431191c18row0_col1,#T_a4932694_9fbc_11eb_a88f_91b431191c18row2_col1{\n",
       "            background-color:  #c6cce3;\n",
       "            color:  #000000;\n",
       "        }#T_a4932694_9fbc_11eb_a88f_91b431191c18row1_col1,#T_a4932694_9fbc_11eb_a88f_91b431191c18row7_col1,#T_a4932694_9fbc_11eb_a88f_91b431191c18row42_col1,#T_a4932694_9fbc_11eb_a88f_91b431191c18row43_col1{\n",
       "            background-color:  #cacee5;\n",
       "            color:  #000000;\n",
       "        }#T_a4932694_9fbc_11eb_a88f_91b431191c18row3_col1,#T_a4932694_9fbc_11eb_a88f_91b431191c18row19_col1,#T_a4932694_9fbc_11eb_a88f_91b431191c18row23_col1,#T_a4932694_9fbc_11eb_a88f_91b431191c18row47_col1{\n",
       "            background-color:  #c1cae2;\n",
       "            color:  #000000;\n",
       "        }#T_a4932694_9fbc_11eb_a88f_91b431191c18row4_col1,#T_a4932694_9fbc_11eb_a88f_91b431191c18row26_col1,#T_a4932694_9fbc_11eb_a88f_91b431191c18row27_col1{\n",
       "            background-color:  #c8cde4;\n",
       "            color:  #000000;\n",
       "        }#T_a4932694_9fbc_11eb_a88f_91b431191c18row5_col1{\n",
       "            background-color:  #d5d5e8;\n",
       "            color:  #000000;\n",
       "        }#T_a4932694_9fbc_11eb_a88f_91b431191c18row6_col1,#T_a4932694_9fbc_11eb_a88f_91b431191c18row9_col1{\n",
       "            background-color:  #c9cee4;\n",
       "            color:  #000000;\n",
       "        }#T_a4932694_9fbc_11eb_a88f_91b431191c18row8_col1{\n",
       "            background-color:  #bdc8e1;\n",
       "            color:  #000000;\n",
       "        }#T_a4932694_9fbc_11eb_a88f_91b431191c18row10_col1{\n",
       "            background-color:  #60a1ca;\n",
       "            color:  #000000;\n",
       "        }#T_a4932694_9fbc_11eb_a88f_91b431191c18row11_col1{\n",
       "            background-color:  #abbfdc;\n",
       "            color:  #000000;\n",
       "        }#T_a4932694_9fbc_11eb_a88f_91b431191c18row12_col1,#T_a4932694_9fbc_11eb_a88f_91b431191c18row48_col1{\n",
       "            background-color:  #b9c6e0;\n",
       "            color:  #000000;\n",
       "        }#T_a4932694_9fbc_11eb_a88f_91b431191c18row13_col1{\n",
       "            background-color:  #04649d;\n",
       "            color:  #f1f1f1;\n",
       "        }#T_a4932694_9fbc_11eb_a88f_91b431191c18row14_col1{\n",
       "            background-color:  #fef6fb;\n",
       "            color:  #000000;\n",
       "        }#T_a4932694_9fbc_11eb_a88f_91b431191c18row15_col1{\n",
       "            background-color:  #ebe6f2;\n",
       "            color:  #000000;\n",
       "        }#T_a4932694_9fbc_11eb_a88f_91b431191c18row16_col1,#T_a4932694_9fbc_11eb_a88f_91b431191c18row22_col1,#T_a4932694_9fbc_11eb_a88f_91b431191c18row28_col1{\n",
       "            background-color:  #bfc9e1;\n",
       "            color:  #000000;\n",
       "        }#T_a4932694_9fbc_11eb_a88f_91b431191c18row17_col1{\n",
       "            background-color:  #c5cce3;\n",
       "            color:  #000000;\n",
       "        }#T_a4932694_9fbc_11eb_a88f_91b431191c18row18_col1,#T_a4932694_9fbc_11eb_a88f_91b431191c18row40_col1{\n",
       "            background-color:  #c2cbe2;\n",
       "            color:  #000000;\n",
       "        }#T_a4932694_9fbc_11eb_a88f_91b431191c18row20_col1{\n",
       "            background-color:  #1e80b8;\n",
       "            color:  #000000;\n",
       "        }#T_a4932694_9fbc_11eb_a88f_91b431191c18row21_col1{\n",
       "            background-color:  #91b5d6;\n",
       "            color:  #000000;\n",
       "        }#T_a4932694_9fbc_11eb_a88f_91b431191c18row24_col1{\n",
       "            background-color:  #bbc7e0;\n",
       "            color:  #000000;\n",
       "        }#T_a4932694_9fbc_11eb_a88f_91b431191c18row25_col1{\n",
       "            background-color:  #adc1dd;\n",
       "            color:  #000000;\n",
       "        }#T_a4932694_9fbc_11eb_a88f_91b431191c18row29_col1{\n",
       "            background-color:  #3b92c1;\n",
       "            color:  #000000;\n",
       "        }#T_a4932694_9fbc_11eb_a88f_91b431191c18row30_col1{\n",
       "            background-color:  #e2dfee;\n",
       "            color:  #000000;\n",
       "        }#T_a4932694_9fbc_11eb_a88f_91b431191c18row31_col1{\n",
       "            background-color:  #fff7fb;\n",
       "            color:  #000000;\n",
       "        }#T_a4932694_9fbc_11eb_a88f_91b431191c18row32_col1{\n",
       "            background-color:  #ede7f2;\n",
       "            color:  #000000;\n",
       "        }#T_a4932694_9fbc_11eb_a88f_91b431191c18row33_col1{\n",
       "            background-color:  #b3c3de;\n",
       "            color:  #000000;\n",
       "        }#T_a4932694_9fbc_11eb_a88f_91b431191c18row34_col1{\n",
       "            background-color:  #b5c4df;\n",
       "            color:  #000000;\n",
       "        }#T_a4932694_9fbc_11eb_a88f_91b431191c18row35_col1,#T_a4932694_9fbc_11eb_a88f_91b431191c18row41_col1{\n",
       "            background-color:  #d2d2e7;\n",
       "            color:  #000000;\n",
       "        }#T_a4932694_9fbc_11eb_a88f_91b431191c18row36_col1{\n",
       "            background-color:  #a4bcda;\n",
       "            color:  #000000;\n",
       "        }#T_a4932694_9fbc_11eb_a88f_91b431191c18row37_col1,#T_a4932694_9fbc_11eb_a88f_91b431191c18row39_col1{\n",
       "            background-color:  #d0d1e6;\n",
       "            color:  #000000;\n",
       "        }#T_a4932694_9fbc_11eb_a88f_91b431191c18row38_col1{\n",
       "            background-color:  #d1d2e6;\n",
       "            color:  #000000;\n",
       "        }#T_a4932694_9fbc_11eb_a88f_91b431191c18row44_col1,#T_a4932694_9fbc_11eb_a88f_91b431191c18row50_col1{\n",
       "            background-color:  #9ebad9;\n",
       "            color:  #000000;\n",
       "        }#T_a4932694_9fbc_11eb_a88f_91b431191c18row45_col1,#T_a4932694_9fbc_11eb_a88f_91b431191c18row49_col1{\n",
       "            background-color:  #9cb9d9;\n",
       "            color:  #000000;\n",
       "        }#T_a4932694_9fbc_11eb_a88f_91b431191c18row46_col1{\n",
       "            background-color:  #023858;\n",
       "            color:  #f1f1f1;\n",
       "        }#T_a4932694_9fbc_11eb_a88f_91b431191c18row51_col1,#T_a4932694_9fbc_11eb_a88f_91b431191c18row52_col1{\n",
       "            background-color:  #a1bbda;\n",
       "            color:  #000000;\n",
       "        }</style><table id=\"T_a4932694_9fbc_11eb_a88f_91b431191c18\" ><thead>    <tr>        <th class=\"blank level0\" ></th>        <th class=\"col_heading level0 col0\" >features</th>        <th class=\"col_heading level0 col1\" >col</th>    </tr></thead><tbody>\n",
       "                <tr>\n",
       "                        <th id=\"T_a4932694_9fbc_11eb_a88f_91b431191c18level0_row0\" class=\"row_heading level0 row0\" >0</th>\n",
       "                        <td id=\"T_a4932694_9fbc_11eb_a88f_91b431191c18row0_col0\" class=\"data row0 col0\" >MONTH</td>\n",
       "                        <td id=\"T_a4932694_9fbc_11eb_a88f_91b431191c18row0_col1\" class=\"data row0 col1\" >0.000619</td>\n",
       "            </tr>\n",
       "            <tr>\n",
       "                        <th id=\"T_a4932694_9fbc_11eb_a88f_91b431191c18level0_row1\" class=\"row_heading level0 row1\" >1</th>\n",
       "                        <td id=\"T_a4932694_9fbc_11eb_a88f_91b431191c18row1_col0\" class=\"data row1 col0\" >DAY</td>\n",
       "                        <td id=\"T_a4932694_9fbc_11eb_a88f_91b431191c18row1_col1\" class=\"data row1 col1\" >-0.013609</td>\n",
       "            </tr>\n",
       "            <tr>\n",
       "                        <th id=\"T_a4932694_9fbc_11eb_a88f_91b431191c18level0_row2\" class=\"row_heading level0 row2\" >2</th>\n",
       "                        <td id=\"T_a4932694_9fbc_11eb_a88f_91b431191c18row2_col0\" class=\"data row2 col0\" >DAY_OF_WEEK</td>\n",
       "                        <td id=\"T_a4932694_9fbc_11eb_a88f_91b431191c18row2_col1\" class=\"data row2 col1\" >0.002660</td>\n",
       "            </tr>\n",
       "            <tr>\n",
       "                        <th id=\"T_a4932694_9fbc_11eb_a88f_91b431191c18level0_row3\" class=\"row_heading level0 row3\" >3</th>\n",
       "                        <td id=\"T_a4932694_9fbc_11eb_a88f_91b431191c18row3_col0\" class=\"data row3 col0\" >AIRLINE</td>\n",
       "                        <td id=\"T_a4932694_9fbc_11eb_a88f_91b431191c18row3_col1\" class=\"data row3 col1\" >0.019561</td>\n",
       "            </tr>\n",
       "            <tr>\n",
       "                        <th id=\"T_a4932694_9fbc_11eb_a88f_91b431191c18level0_row4\" class=\"row_heading level0 row4\" >4</th>\n",
       "                        <td id=\"T_a4932694_9fbc_11eb_a88f_91b431191c18row4_col0\" class=\"data row4 col0\" >TAIL_NUM</td>\n",
       "                        <td id=\"T_a4932694_9fbc_11eb_a88f_91b431191c18row4_col1\" class=\"data row4 col1\" >-0.003376</td>\n",
       "            </tr>\n",
       "            <tr>\n",
       "                        <th id=\"T_a4932694_9fbc_11eb_a88f_91b431191c18level0_row5\" class=\"row_heading level0 row5\" >5</th>\n",
       "                        <td id=\"T_a4932694_9fbc_11eb_a88f_91b431191c18row5_col0\" class=\"data row5 col0\" >FLIGHT_MUNBER</td>\n",
       "                        <td id=\"T_a4932694_9fbc_11eb_a88f_91b431191c18row5_col1\" class=\"data row5 col1\" >-0.061524</td>\n",
       "            </tr>\n",
       "            <tr>\n",
       "                        <th id=\"T_a4932694_9fbc_11eb_a88f_91b431191c18level0_row6\" class=\"row_heading level0 row6\" >6</th>\n",
       "                        <td id=\"T_a4932694_9fbc_11eb_a88f_91b431191c18row6_col0\" class=\"data row6 col0\" >ORIGIN</td>\n",
       "                        <td id=\"T_a4932694_9fbc_11eb_a88f_91b431191c18row6_col1\" class=\"data row6 col1\" >-0.010309</td>\n",
       "            </tr>\n",
       "            <tr>\n",
       "                        <th id=\"T_a4932694_9fbc_11eb_a88f_91b431191c18level0_row7\" class=\"row_heading level0 row7\" >7</th>\n",
       "                        <td id=\"T_a4932694_9fbc_11eb_a88f_91b431191c18row7_col0\" class=\"data row7 col0\" >ORIGIN_CITY_NAME</td>\n",
       "                        <td id=\"T_a4932694_9fbc_11eb_a88f_91b431191c18row7_col1\" class=\"data row7 col1\" >-0.012970</td>\n",
       "            </tr>\n",
       "            <tr>\n",
       "                        <th id=\"T_a4932694_9fbc_11eb_a88f_91b431191c18level0_row8\" class=\"row_heading level0 row8\" >8</th>\n",
       "                        <td id=\"T_a4932694_9fbc_11eb_a88f_91b431191c18row8_col0\" class=\"data row8 col0\" >DEST</td>\n",
       "                        <td id=\"T_a4932694_9fbc_11eb_a88f_91b431191c18row8_col1\" class=\"data row8 col1\" >0.033578</td>\n",
       "            </tr>\n",
       "            <tr>\n",
       "                        <th id=\"T_a4932694_9fbc_11eb_a88f_91b431191c18level0_row9\" class=\"row_heading level0 row9\" >9</th>\n",
       "                        <td id=\"T_a4932694_9fbc_11eb_a88f_91b431191c18row9_col0\" class=\"data row9 col0\" >DEST_CITY_NAME</td>\n",
       "                        <td id=\"T_a4932694_9fbc_11eb_a88f_91b431191c18row9_col1\" class=\"data row9 col1\" >-0.010354</td>\n",
       "            </tr>\n",
       "            <tr>\n",
       "                        <th id=\"T_a4932694_9fbc_11eb_a88f_91b431191c18level0_row10\" class=\"row_heading level0 row10\" >10</th>\n",
       "                        <td id=\"T_a4932694_9fbc_11eb_a88f_91b431191c18row10_col0\" class=\"data row10 col0\" >CRS_DEP_TIME</td>\n",
       "                        <td id=\"T_a4932694_9fbc_11eb_a88f_91b431191c18row10_col1\" class=\"data row10 col1\" >0.326470</td>\n",
       "            </tr>\n",
       "            <tr>\n",
       "                        <th id=\"T_a4932694_9fbc_11eb_a88f_91b431191c18level0_row11\" class=\"row_heading level0 row11\" >11</th>\n",
       "                        <td id=\"T_a4932694_9fbc_11eb_a88f_91b431191c18row11_col0\" class=\"data row11 col0\" >CRS_ARR_TIME</td>\n",
       "                        <td id=\"T_a4932694_9fbc_11eb_a88f_91b431191c18row11_col1\" class=\"data row11 col1\" >0.100340</td>\n",
       "            </tr>\n",
       "            <tr>\n",
       "                        <th id=\"T_a4932694_9fbc_11eb_a88f_91b431191c18level0_row12\" class=\"row_heading level0 row12\" >12</th>\n",
       "                        <td id=\"T_a4932694_9fbc_11eb_a88f_91b431191c18row12_col0\" class=\"data row12 col0\" >DISTANCE</td>\n",
       "                        <td id=\"T_a4932694_9fbc_11eb_a88f_91b431191c18row12_col1\" class=\"data row12 col1\" >0.051498</td>\n",
       "            </tr>\n",
       "            <tr>\n",
       "                        <th id=\"T_a4932694_9fbc_11eb_a88f_91b431191c18level0_row13\" class=\"row_heading level0 row13\" >13</th>\n",
       "                        <td id=\"T_a4932694_9fbc_11eb_a88f_91b431191c18row13_col0\" class=\"data row13 col0\" >FIRST_DEP_TIME</td>\n",
       "                        <td id=\"T_a4932694_9fbc_11eb_a88f_91b431191c18row13_col1\" class=\"data row13 col1\" >0.669889</td>\n",
       "            </tr>\n",
       "            <tr>\n",
       "                        <th id=\"T_a4932694_9fbc_11eb_a88f_91b431191c18level0_row14\" class=\"row_heading level0 row14\" >14</th>\n",
       "                        <td id=\"T_a4932694_9fbc_11eb_a88f_91b431191c18row14_col0\" class=\"data row14 col0\" >maxtempC</td>\n",
       "                        <td id=\"T_a4932694_9fbc_11eb_a88f_91b431191c18row14_col1\" class=\"data row14 col1\" >-0.339652</td>\n",
       "            </tr>\n",
       "            <tr>\n",
       "                        <th id=\"T_a4932694_9fbc_11eb_a88f_91b431191c18level0_row15\" class=\"row_heading level0 row15\" >15</th>\n",
       "                        <td id=\"T_a4932694_9fbc_11eb_a88f_91b431191c18row15_col0\" class=\"data row15 col0\" >mintempC</td>\n",
       "                        <td id=\"T_a4932694_9fbc_11eb_a88f_91b431191c18row15_col1\" class=\"data row15 col1\" >-0.183290</td>\n",
       "            </tr>\n",
       "            <tr>\n",
       "                        <th id=\"T_a4932694_9fbc_11eb_a88f_91b431191c18level0_row16\" class=\"row_heading level0 row16\" >16</th>\n",
       "                        <td id=\"T_a4932694_9fbc_11eb_a88f_91b431191c18row16_col0\" class=\"data row16 col0\" >totalSnow_cm</td>\n",
       "                        <td id=\"T_a4932694_9fbc_11eb_a88f_91b431191c18row16_col1\" class=\"data row16 col1\" >0.028131</td>\n",
       "            </tr>\n",
       "            <tr>\n",
       "                        <th id=\"T_a4932694_9fbc_11eb_a88f_91b431191c18level0_row17\" class=\"row_heading level0 row17\" >17</th>\n",
       "                        <td id=\"T_a4932694_9fbc_11eb_a88f_91b431191c18row17_col0\" class=\"data row17 col0\" >sunHour</td>\n",
       "                        <td id=\"T_a4932694_9fbc_11eb_a88f_91b431191c18row17_col1\" class=\"data row17 col1\" >0.004902</td>\n",
       "            </tr>\n",
       "            <tr>\n",
       "                        <th id=\"T_a4932694_9fbc_11eb_a88f_91b431191c18level0_row18\" class=\"row_heading level0 row18\" >18</th>\n",
       "                        <td id=\"T_a4932694_9fbc_11eb_a88f_91b431191c18row18_col0\" class=\"data row18 col0\" >uvIndex</td>\n",
       "                        <td id=\"T_a4932694_9fbc_11eb_a88f_91b431191c18row18_col1\" class=\"data row18 col1\" >0.016212</td>\n",
       "            </tr>\n",
       "            <tr>\n",
       "                        <th id=\"T_a4932694_9fbc_11eb_a88f_91b431191c18level0_row19\" class=\"row_heading level0 row19\" >19</th>\n",
       "                        <td id=\"T_a4932694_9fbc_11eb_a88f_91b431191c18row19_col0\" class=\"data row19 col0\" >moon_illumination</td>\n",
       "                        <td id=\"T_a4932694_9fbc_11eb_a88f_91b431191c18row19_col1\" class=\"data row19 col1\" >0.018098</td>\n",
       "            </tr>\n",
       "            <tr>\n",
       "                        <th id=\"T_a4932694_9fbc_11eb_a88f_91b431191c18level0_row20\" class=\"row_heading level0 row20\" >20</th>\n",
       "                        <td id=\"T_a4932694_9fbc_11eb_a88f_91b431191c18row20_col0\" class=\"data row20 col0\" >tempC</td>\n",
       "                        <td id=\"T_a4932694_9fbc_11eb_a88f_91b431191c18row20_col1\" class=\"data row20 col1\" >0.506568</td>\n",
       "            </tr>\n",
       "            <tr>\n",
       "                        <th id=\"T_a4932694_9fbc_11eb_a88f_91b431191c18level0_row21\" class=\"row_heading level0 row21\" >21</th>\n",
       "                        <td id=\"T_a4932694_9fbc_11eb_a88f_91b431191c18row21_col0\" class=\"data row21 col0\" >windspeedKmph</td>\n",
       "                        <td id=\"T_a4932694_9fbc_11eb_a88f_91b431191c18row21_col1\" class=\"data row21 col1\" >0.187040</td>\n",
       "            </tr>\n",
       "            <tr>\n",
       "                        <th id=\"T_a4932694_9fbc_11eb_a88f_91b431191c18level0_row22\" class=\"row_heading level0 row22\" >22</th>\n",
       "                        <td id=\"T_a4932694_9fbc_11eb_a88f_91b431191c18row22_col0\" class=\"data row22 col0\" >winddirDegree</td>\n",
       "                        <td id=\"T_a4932694_9fbc_11eb_a88f_91b431191c18row22_col1\" class=\"data row22 col1\" >0.028422</td>\n",
       "            </tr>\n",
       "            <tr>\n",
       "                        <th id=\"T_a4932694_9fbc_11eb_a88f_91b431191c18level0_row23\" class=\"row_heading level0 row23\" >23</th>\n",
       "                        <td id=\"T_a4932694_9fbc_11eb_a88f_91b431191c18row23_col0\" class=\"data row23 col0\" >weatherCode_origin</td>\n",
       "                        <td id=\"T_a4932694_9fbc_11eb_a88f_91b431191c18row23_col1\" class=\"data row23 col1\" >0.021584</td>\n",
       "            </tr>\n",
       "            <tr>\n",
       "                        <th id=\"T_a4932694_9fbc_11eb_a88f_91b431191c18level0_row24\" class=\"row_heading level0 row24\" >24</th>\n",
       "                        <td id=\"T_a4932694_9fbc_11eb_a88f_91b431191c18row24_col0\" class=\"data row24 col0\" >precipMM</td>\n",
       "                        <td id=\"T_a4932694_9fbc_11eb_a88f_91b431191c18row24_col1\" class=\"data row24 col1\" >0.045721</td>\n",
       "            </tr>\n",
       "            <tr>\n",
       "                        <th id=\"T_a4932694_9fbc_11eb_a88f_91b431191c18level0_row25\" class=\"row_heading level0 row25\" >25</th>\n",
       "                        <td id=\"T_a4932694_9fbc_11eb_a88f_91b431191c18row25_col0\" class=\"data row25 col0\" >humidity</td>\n",
       "                        <td id=\"T_a4932694_9fbc_11eb_a88f_91b431191c18row25_col1\" class=\"data row25 col1\" >0.094439</td>\n",
       "            </tr>\n",
       "            <tr>\n",
       "                        <th id=\"T_a4932694_9fbc_11eb_a88f_91b431191c18level0_row26\" class=\"row_heading level0 row26\" >26</th>\n",
       "                        <td id=\"T_a4932694_9fbc_11eb_a88f_91b431191c18row26_col0\" class=\"data row26 col0\" >visibility</td>\n",
       "                        <td id=\"T_a4932694_9fbc_11eb_a88f_91b431191c18row26_col1\" class=\"data row26 col1\" >-0.002980</td>\n",
       "            </tr>\n",
       "            <tr>\n",
       "                        <th id=\"T_a4932694_9fbc_11eb_a88f_91b431191c18level0_row27\" class=\"row_heading level0 row27\" >27</th>\n",
       "                        <td id=\"T_a4932694_9fbc_11eb_a88f_91b431191c18row27_col0\" class=\"data row27 col0\" >pressure</td>\n",
       "                        <td id=\"T_a4932694_9fbc_11eb_a88f_91b431191c18row27_col1\" class=\"data row27 col1\" >-0.005823</td>\n",
       "            </tr>\n",
       "            <tr>\n",
       "                        <th id=\"T_a4932694_9fbc_11eb_a88f_91b431191c18level0_row28\" class=\"row_heading level0 row28\" >28</th>\n",
       "                        <td id=\"T_a4932694_9fbc_11eb_a88f_91b431191c18row28_col0\" class=\"data row28 col0\" >cloudcover</td>\n",
       "                        <td id=\"T_a4932694_9fbc_11eb_a88f_91b431191c18row28_col1\" class=\"data row28 col1\" >0.027653</td>\n",
       "            </tr>\n",
       "            <tr>\n",
       "                        <th id=\"T_a4932694_9fbc_11eb_a88f_91b431191c18level0_row29\" class=\"row_heading level0 row29\" >29</th>\n",
       "                        <td id=\"T_a4932694_9fbc_11eb_a88f_91b431191c18row29_col0\" class=\"data row29 col0\" >HeatIndexC</td>\n",
       "                        <td id=\"T_a4932694_9fbc_11eb_a88f_91b431191c18row29_col1\" class=\"data row29 col1\" >0.416515</td>\n",
       "            </tr>\n",
       "            <tr>\n",
       "                        <th id=\"T_a4932694_9fbc_11eb_a88f_91b431191c18level0_row30\" class=\"row_heading level0 row30\" >30</th>\n",
       "                        <td id=\"T_a4932694_9fbc_11eb_a88f_91b431191c18row30_col0\" class=\"data row30 col0\" >DewPointC</td>\n",
       "                        <td id=\"T_a4932694_9fbc_11eb_a88f_91b431191c18row30_col1\" class=\"data row30 col1\" >-0.136857</td>\n",
       "            </tr>\n",
       "            <tr>\n",
       "                        <th id=\"T_a4932694_9fbc_11eb_a88f_91b431191c18level0_row31\" class=\"row_heading level0 row31\" >31</th>\n",
       "                        <td id=\"T_a4932694_9fbc_11eb_a88f_91b431191c18row31_col0\" class=\"data row31 col0\" >WindChillC</td>\n",
       "                        <td id=\"T_a4932694_9fbc_11eb_a88f_91b431191c18row31_col1\" class=\"data row31 col1\" >-0.346118</td>\n",
       "            </tr>\n",
       "            <tr>\n",
       "                        <th id=\"T_a4932694_9fbc_11eb_a88f_91b431191c18level0_row32\" class=\"row_heading level0 row32\" >32</th>\n",
       "                        <td id=\"T_a4932694_9fbc_11eb_a88f_91b431191c18row32_col0\" class=\"data row32 col0\" >WindGustKmph</td>\n",
       "                        <td id=\"T_a4932694_9fbc_11eb_a88f_91b431191c18row32_col1\" class=\"data row32 col1\" >-0.191095</td>\n",
       "            </tr>\n",
       "            <tr>\n",
       "                        <th id=\"T_a4932694_9fbc_11eb_a88f_91b431191c18level0_row33\" class=\"row_heading level0 row33\" >33</th>\n",
       "                        <td id=\"T_a4932694_9fbc_11eb_a88f_91b431191c18row33_col0\" class=\"data row33 col0\" >FeelsLikeC</td>\n",
       "                        <td id=\"T_a4932694_9fbc_11eb_a88f_91b431191c18row33_col1\" class=\"data row33 col1\" >0.073882</td>\n",
       "            </tr>\n",
       "            <tr>\n",
       "                        <th id=\"T_a4932694_9fbc_11eb_a88f_91b431191c18level0_row34\" class=\"row_heading level0 row34\" >34</th>\n",
       "                        <td id=\"T_a4932694_9fbc_11eb_a88f_91b431191c18row34_col0\" class=\"data row34 col0\" >weatherCode_dest</td>\n",
       "                        <td id=\"T_a4932694_9fbc_11eb_a88f_91b431191c18row34_col1\" class=\"data row34 col1\" >0.061794</td>\n",
       "            </tr>\n",
       "            <tr>\n",
       "                        <th id=\"T_a4932694_9fbc_11eb_a88f_91b431191c18level0_row35\" class=\"row_heading level0 row35\" >35</th>\n",
       "                        <td id=\"T_a4932694_9fbc_11eb_a88f_91b431191c18row35_col0\" class=\"data row35 col0\" >COUNT</td>\n",
       "                        <td id=\"T_a4932694_9fbc_11eb_a88f_91b431191c18row35_col1\" class=\"data row35 col1\" >-0.043803</td>\n",
       "            </tr>\n",
       "            <tr>\n",
       "                        <th id=\"T_a4932694_9fbc_11eb_a88f_91b431191c18level0_row36\" class=\"row_heading level0 row36\" >36</th>\n",
       "                        <td id=\"T_a4932694_9fbc_11eb_a88f_91b431191c18row36_col0\" class=\"data row36 col0\" >MEAN_DELAY</td>\n",
       "                        <td id=\"T_a4932694_9fbc_11eb_a88f_91b431191c18row36_col1\" class=\"data row36 col1\" >0.124612</td>\n",
       "            </tr>\n",
       "            <tr>\n",
       "                        <th id=\"T_a4932694_9fbc_11eb_a88f_91b431191c18level0_row37\" class=\"row_heading level0 row37\" >37</th>\n",
       "                        <td id=\"T_a4932694_9fbc_11eb_a88f_91b431191c18row37_col0\" class=\"data row37 col0\" >STD_DELAY</td>\n",
       "                        <td id=\"T_a4932694_9fbc_11eb_a88f_91b431191c18row37_col1\" class=\"data row37 col1\" >-0.034967</td>\n",
       "            </tr>\n",
       "            <tr>\n",
       "                        <th id=\"T_a4932694_9fbc_11eb_a88f_91b431191c18level0_row38\" class=\"row_heading level0 row38\" >38</th>\n",
       "                        <td id=\"T_a4932694_9fbc_11eb_a88f_91b431191c18row38_col0\" class=\"data row38 col0\" >MIN_DELAY</td>\n",
       "                        <td id=\"T_a4932694_9fbc_11eb_a88f_91b431191c18row38_col1\" class=\"data row38 col1\" >-0.038338</td>\n",
       "            </tr>\n",
       "            <tr>\n",
       "                        <th id=\"T_a4932694_9fbc_11eb_a88f_91b431191c18level0_row39\" class=\"row_heading level0 row39\" >39</th>\n",
       "                        <td id=\"T_a4932694_9fbc_11eb_a88f_91b431191c18row39_col0\" class=\"data row39 col0\" >25%_DELAY</td>\n",
       "                        <td id=\"T_a4932694_9fbc_11eb_a88f_91b431191c18row39_col1\" class=\"data row39 col1\" >-0.035396</td>\n",
       "            </tr>\n",
       "            <tr>\n",
       "                        <th id=\"T_a4932694_9fbc_11eb_a88f_91b431191c18level0_row40\" class=\"row_heading level0 row40\" >40</th>\n",
       "                        <td id=\"T_a4932694_9fbc_11eb_a88f_91b431191c18row40_col0\" class=\"data row40 col0\" >50%_DELAY</td>\n",
       "                        <td id=\"T_a4932694_9fbc_11eb_a88f_91b431191c18row40_col1\" class=\"data row40 col1\" >0.014065</td>\n",
       "            </tr>\n",
       "            <tr>\n",
       "                        <th id=\"T_a4932694_9fbc_11eb_a88f_91b431191c18level0_row41\" class=\"row_heading level0 row41\" >41</th>\n",
       "                        <td id=\"T_a4932694_9fbc_11eb_a88f_91b431191c18row41_col0\" class=\"data row41 col0\" >75%_DELAY</td>\n",
       "                        <td id=\"T_a4932694_9fbc_11eb_a88f_91b431191c18row41_col1\" class=\"data row41 col1\" >-0.043506</td>\n",
       "            </tr>\n",
       "            <tr>\n",
       "                        <th id=\"T_a4932694_9fbc_11eb_a88f_91b431191c18level0_row42\" class=\"row_heading level0 row42\" >42</th>\n",
       "                        <td id=\"T_a4932694_9fbc_11eb_a88f_91b431191c18row42_col0\" class=\"data row42 col0\" >MAX_DELAY</td>\n",
       "                        <td id=\"T_a4932694_9fbc_11eb_a88f_91b431191c18row42_col1\" class=\"data row42 col1\" >-0.012194</td>\n",
       "            </tr>\n",
       "            <tr>\n",
       "                        <th id=\"T_a4932694_9fbc_11eb_a88f_91b431191c18level0_row43\" class=\"row_heading level0 row43\" >43</th>\n",
       "                        <td id=\"T_a4932694_9fbc_11eb_a88f_91b431191c18row43_col0\" class=\"data row43 col0\" >WEEKEND</td>\n",
       "                        <td id=\"T_a4932694_9fbc_11eb_a88f_91b431191c18row43_col1\" class=\"data row43 col1\" >-0.012850</td>\n",
       "            </tr>\n",
       "            <tr>\n",
       "                        <th id=\"T_a4932694_9fbc_11eb_a88f_91b431191c18level0_row44\" class=\"row_heading level0 row44\" >44</th>\n",
       "                        <td id=\"T_a4932694_9fbc_11eb_a88f_91b431191c18row44_col0\" class=\"data row44 col0\" >LATE_AIRLINE_INDEX</td>\n",
       "                        <td id=\"T_a4932694_9fbc_11eb_a88f_91b431191c18row44_col1\" class=\"data row44 col1\" >0.148746</td>\n",
       "            </tr>\n",
       "            <tr>\n",
       "                        <th id=\"T_a4932694_9fbc_11eb_a88f_91b431191c18level0_row45\" class=\"row_heading level0 row45\" >45</th>\n",
       "                        <td id=\"T_a4932694_9fbc_11eb_a88f_91b431191c18row45_col0\" class=\"data row45 col0\" >LATE_TAIL_INDEX</td>\n",
       "                        <td id=\"T_a4932694_9fbc_11eb_a88f_91b431191c18row45_col1\" class=\"data row45 col1\" >0.150703</td>\n",
       "            </tr>\n",
       "            <tr>\n",
       "                        <th id=\"T_a4932694_9fbc_11eb_a88f_91b431191c18level0_row46\" class=\"row_heading level0 row46\" >46</th>\n",
       "                        <td id=\"T_a4932694_9fbc_11eb_a88f_91b431191c18row46_col0\" class=\"data row46 col0\" >LATE_ARR</td>\n",
       "                        <td id=\"T_a4932694_9fbc_11eb_a88f_91b431191c18row46_col1\" class=\"data row46 col1\" >0.895944</td>\n",
       "            </tr>\n",
       "            <tr>\n",
       "                        <th id=\"T_a4932694_9fbc_11eb_a88f_91b431191c18level0_row47\" class=\"row_heading level0 row47\" >47</th>\n",
       "                        <td id=\"T_a4932694_9fbc_11eb_a88f_91b431191c18row47_col0\" class=\"data row47 col0\" >IN_FLIGHTS_H</td>\n",
       "                        <td id=\"T_a4932694_9fbc_11eb_a88f_91b431191c18row47_col1\" class=\"data row47 col1\" >0.020837</td>\n",
       "            </tr>\n",
       "            <tr>\n",
       "                        <th id=\"T_a4932694_9fbc_11eb_a88f_91b431191c18level0_row48\" class=\"row_heading level0 row48\" >48</th>\n",
       "                        <td id=\"T_a4932694_9fbc_11eb_a88f_91b431191c18row48_col0\" class=\"data row48 col0\" >OUT_FLIGHTS_H</td>\n",
       "                        <td id=\"T_a4932694_9fbc_11eb_a88f_91b431191c18row48_col1\" class=\"data row48 col1\" >0.049747</td>\n",
       "            </tr>\n",
       "            <tr>\n",
       "                        <th id=\"T_a4932694_9fbc_11eb_a88f_91b431191c18level0_row49\" class=\"row_heading level0 row49\" >49</th>\n",
       "                        <td id=\"T_a4932694_9fbc_11eb_a88f_91b431191c18row49_col0\" class=\"data row49 col0\" >LATE_DEP_1</td>\n",
       "                        <td id=\"T_a4932694_9fbc_11eb_a88f_91b431191c18row49_col1\" class=\"data row49 col1\" >0.153562</td>\n",
       "            </tr>\n",
       "            <tr>\n",
       "                        <th id=\"T_a4932694_9fbc_11eb_a88f_91b431191c18level0_row50\" class=\"row_heading level0 row50\" >50</th>\n",
       "                        <td id=\"T_a4932694_9fbc_11eb_a88f_91b431191c18row50_col0\" class=\"data row50 col0\" >LATE_DEP_2</td>\n",
       "                        <td id=\"T_a4932694_9fbc_11eb_a88f_91b431191c18row50_col1\" class=\"data row50 col1\" >0.145549</td>\n",
       "            </tr>\n",
       "            <tr>\n",
       "                        <th id=\"T_a4932694_9fbc_11eb_a88f_91b431191c18level0_row51\" class=\"row_heading level0 row51\" >51</th>\n",
       "                        <td id=\"T_a4932694_9fbc_11eb_a88f_91b431191c18row51_col0\" class=\"data row51 col0\" >LATE_DEP_3</td>\n",
       "                        <td id=\"T_a4932694_9fbc_11eb_a88f_91b431191c18row51_col1\" class=\"data row51 col1\" >0.138119</td>\n",
       "            </tr>\n",
       "            <tr>\n",
       "                        <th id=\"T_a4932694_9fbc_11eb_a88f_91b431191c18level0_row52\" class=\"row_heading level0 row52\" >52</th>\n",
       "                        <td id=\"T_a4932694_9fbc_11eb_a88f_91b431191c18row52_col0\" class=\"data row52 col0\" >LATE_DEP_4</td>\n",
       "                        <td id=\"T_a4932694_9fbc_11eb_a88f_91b431191c18row52_col1\" class=\"data row52 col1\" >0.134427</td>\n",
       "            </tr>\n",
       "    </tbody></table>"
      ],
      "text/plain": [
       "<pandas.io.formats.style.Styler at 0x7f63f763a160>"
      ]
     },
     "execution_count": 19,
     "metadata": {},
     "output_type": "execute_result"
    }
   ],
   "source": [
    "logit_feature = pd.DataFrame({\"features\": flights.drop(['DEP_DELAY', 'target', 'LONGEST_ADD_GTIME'], axis=1).columns})\n",
    "tmp = pd.DataFrame({'col': logit.coef_[0]})\n",
    "logit_feature = pd.concat([logit_feature, tmp], axis=1)\n",
    "logit_feature.style.background_gradient()"
   ]
  },
  {
   "cell_type": "code",
   "execution_count": 23,
   "metadata": {},
   "outputs": [],
   "source": [
    "logit_feature.sort_values(by='col', inplace=True)"
   ]
  },
  {
   "cell_type": "code",
   "execution_count": 24,
   "metadata": {},
   "outputs": [],
   "source": [
    "bot = logit_feature.sort_values(by='col').head(5)\n",
    "top = logit_feature.sort_values(by='col').tail(6)"
   ]
  },
  {
   "cell_type": "code",
   "execution_count": 32,
   "metadata": {
    "scrolled": false
   },
   "outputs": [
    {
     "data": {
      "application/vnd.plotly.v1+json": {
       "config": {
        "plotlyServerURL": "https://plot.ly"
       },
       "data": [
        {
         "marker": {
          "color": [
           -0.3461178996842237,
           -0.339651591647934,
           -0.19109543758643197,
           -0.1832903548829392,
           -0.13685740968506213,
           0.18704020177289876,
           0.32646999303517493,
           0.4165147915537985,
           0.5065678371708816,
           0.6698893218225059,
           0.8959443353061963
          ],
          "colorscale": [
           [
            0,
            "rgb(243, 231, 155)"
           ],
           [
            0.16666666666666666,
            "rgb(250, 196, 132)"
           ],
           [
            0.3333333333333333,
            "rgb(248, 160, 126)"
           ],
           [
            0.5,
            "rgb(235, 127, 134)"
           ],
           [
            0.6666666666666666,
            "rgb(206, 102, 147)"
           ],
           [
            0.8333333333333334,
            "rgb(160, 89, 160)"
           ],
           [
            1,
            "rgb(92, 83, 165)"
           ]
          ],
          "showscale": true
         },
         "type": "bar",
         "x": [
          "WindChillC",
          "maxtempC",
          "WindGustKmph",
          "mintempC",
          "DewPointC",
          "windspeedKmph",
          "CRS_DEP_TIME",
          "HeatIndexC",
          "tempC",
          "FIRST_DEP_TIME",
          "LATE_ARR"
         ],
         "y": [
          -0.3461178996842237,
          -0.339651591647934,
          -0.19109543758643197,
          -0.1832903548829392,
          -0.13685740968506213,
          0.18704020177289876,
          0.32646999303517493,
          0.4165147915537985,
          0.5065678371708816,
          0.6698893218225059,
          0.8959443353061963
         ]
        }
       ],
       "layout": {
        "font": {
         "size": 28
        },
        "height": 700,
        "template": {
         "data": {
          "bar": [
           {
            "error_x": {
             "color": "#2a3f5f"
            },
            "error_y": {
             "color": "#2a3f5f"
            },
            "marker": {
             "line": {
              "color": "#E5ECF6",
              "width": 0.5
             }
            },
            "type": "bar"
           }
          ],
          "barpolar": [
           {
            "marker": {
             "line": {
              "color": "#E5ECF6",
              "width": 0.5
             }
            },
            "type": "barpolar"
           }
          ],
          "carpet": [
           {
            "aaxis": {
             "endlinecolor": "#2a3f5f",
             "gridcolor": "white",
             "linecolor": "white",
             "minorgridcolor": "white",
             "startlinecolor": "#2a3f5f"
            },
            "baxis": {
             "endlinecolor": "#2a3f5f",
             "gridcolor": "white",
             "linecolor": "white",
             "minorgridcolor": "white",
             "startlinecolor": "#2a3f5f"
            },
            "type": "carpet"
           }
          ],
          "choropleth": [
           {
            "colorbar": {
             "outlinewidth": 0,
             "ticks": ""
            },
            "type": "choropleth"
           }
          ],
          "contour": [
           {
            "colorbar": {
             "outlinewidth": 0,
             "ticks": ""
            },
            "colorscale": [
             [
              0,
              "#0d0887"
             ],
             [
              0.1111111111111111,
              "#46039f"
             ],
             [
              0.2222222222222222,
              "#7201a8"
             ],
             [
              0.3333333333333333,
              "#9c179e"
             ],
             [
              0.4444444444444444,
              "#bd3786"
             ],
             [
              0.5555555555555556,
              "#d8576b"
             ],
             [
              0.6666666666666666,
              "#ed7953"
             ],
             [
              0.7777777777777778,
              "#fb9f3a"
             ],
             [
              0.8888888888888888,
              "#fdca26"
             ],
             [
              1,
              "#f0f921"
             ]
            ],
            "type": "contour"
           }
          ],
          "contourcarpet": [
           {
            "colorbar": {
             "outlinewidth": 0,
             "ticks": ""
            },
            "type": "contourcarpet"
           }
          ],
          "heatmap": [
           {
            "colorbar": {
             "outlinewidth": 0,
             "ticks": ""
            },
            "colorscale": [
             [
              0,
              "#0d0887"
             ],
             [
              0.1111111111111111,
              "#46039f"
             ],
             [
              0.2222222222222222,
              "#7201a8"
             ],
             [
              0.3333333333333333,
              "#9c179e"
             ],
             [
              0.4444444444444444,
              "#bd3786"
             ],
             [
              0.5555555555555556,
              "#d8576b"
             ],
             [
              0.6666666666666666,
              "#ed7953"
             ],
             [
              0.7777777777777778,
              "#fb9f3a"
             ],
             [
              0.8888888888888888,
              "#fdca26"
             ],
             [
              1,
              "#f0f921"
             ]
            ],
            "type": "heatmap"
           }
          ],
          "heatmapgl": [
           {
            "colorbar": {
             "outlinewidth": 0,
             "ticks": ""
            },
            "colorscale": [
             [
              0,
              "#0d0887"
             ],
             [
              0.1111111111111111,
              "#46039f"
             ],
             [
              0.2222222222222222,
              "#7201a8"
             ],
             [
              0.3333333333333333,
              "#9c179e"
             ],
             [
              0.4444444444444444,
              "#bd3786"
             ],
             [
              0.5555555555555556,
              "#d8576b"
             ],
             [
              0.6666666666666666,
              "#ed7953"
             ],
             [
              0.7777777777777778,
              "#fb9f3a"
             ],
             [
              0.8888888888888888,
              "#fdca26"
             ],
             [
              1,
              "#f0f921"
             ]
            ],
            "type": "heatmapgl"
           }
          ],
          "histogram": [
           {
            "marker": {
             "colorbar": {
              "outlinewidth": 0,
              "ticks": ""
             }
            },
            "type": "histogram"
           }
          ],
          "histogram2d": [
           {
            "colorbar": {
             "outlinewidth": 0,
             "ticks": ""
            },
            "colorscale": [
             [
              0,
              "#0d0887"
             ],
             [
              0.1111111111111111,
              "#46039f"
             ],
             [
              0.2222222222222222,
              "#7201a8"
             ],
             [
              0.3333333333333333,
              "#9c179e"
             ],
             [
              0.4444444444444444,
              "#bd3786"
             ],
             [
              0.5555555555555556,
              "#d8576b"
             ],
             [
              0.6666666666666666,
              "#ed7953"
             ],
             [
              0.7777777777777778,
              "#fb9f3a"
             ],
             [
              0.8888888888888888,
              "#fdca26"
             ],
             [
              1,
              "#f0f921"
             ]
            ],
            "type": "histogram2d"
           }
          ],
          "histogram2dcontour": [
           {
            "colorbar": {
             "outlinewidth": 0,
             "ticks": ""
            },
            "colorscale": [
             [
              0,
              "#0d0887"
             ],
             [
              0.1111111111111111,
              "#46039f"
             ],
             [
              0.2222222222222222,
              "#7201a8"
             ],
             [
              0.3333333333333333,
              "#9c179e"
             ],
             [
              0.4444444444444444,
              "#bd3786"
             ],
             [
              0.5555555555555556,
              "#d8576b"
             ],
             [
              0.6666666666666666,
              "#ed7953"
             ],
             [
              0.7777777777777778,
              "#fb9f3a"
             ],
             [
              0.8888888888888888,
              "#fdca26"
             ],
             [
              1,
              "#f0f921"
             ]
            ],
            "type": "histogram2dcontour"
           }
          ],
          "mesh3d": [
           {
            "colorbar": {
             "outlinewidth": 0,
             "ticks": ""
            },
            "type": "mesh3d"
           }
          ],
          "parcoords": [
           {
            "line": {
             "colorbar": {
              "outlinewidth": 0,
              "ticks": ""
             }
            },
            "type": "parcoords"
           }
          ],
          "pie": [
           {
            "automargin": true,
            "type": "pie"
           }
          ],
          "scatter": [
           {
            "marker": {
             "colorbar": {
              "outlinewidth": 0,
              "ticks": ""
             }
            },
            "type": "scatter"
           }
          ],
          "scatter3d": [
           {
            "line": {
             "colorbar": {
              "outlinewidth": 0,
              "ticks": ""
             }
            },
            "marker": {
             "colorbar": {
              "outlinewidth": 0,
              "ticks": ""
             }
            },
            "type": "scatter3d"
           }
          ],
          "scattercarpet": [
           {
            "marker": {
             "colorbar": {
              "outlinewidth": 0,
              "ticks": ""
             }
            },
            "type": "scattercarpet"
           }
          ],
          "scattergeo": [
           {
            "marker": {
             "colorbar": {
              "outlinewidth": 0,
              "ticks": ""
             }
            },
            "type": "scattergeo"
           }
          ],
          "scattergl": [
           {
            "marker": {
             "colorbar": {
              "outlinewidth": 0,
              "ticks": ""
             }
            },
            "type": "scattergl"
           }
          ],
          "scattermapbox": [
           {
            "marker": {
             "colorbar": {
              "outlinewidth": 0,
              "ticks": ""
             }
            },
            "type": "scattermapbox"
           }
          ],
          "scatterpolar": [
           {
            "marker": {
             "colorbar": {
              "outlinewidth": 0,
              "ticks": ""
             }
            },
            "type": "scatterpolar"
           }
          ],
          "scatterpolargl": [
           {
            "marker": {
             "colorbar": {
              "outlinewidth": 0,
              "ticks": ""
             }
            },
            "type": "scatterpolargl"
           }
          ],
          "scatterternary": [
           {
            "marker": {
             "colorbar": {
              "outlinewidth": 0,
              "ticks": ""
             }
            },
            "type": "scatterternary"
           }
          ],
          "surface": [
           {
            "colorbar": {
             "outlinewidth": 0,
             "ticks": ""
            },
            "colorscale": [
             [
              0,
              "#0d0887"
             ],
             [
              0.1111111111111111,
              "#46039f"
             ],
             [
              0.2222222222222222,
              "#7201a8"
             ],
             [
              0.3333333333333333,
              "#9c179e"
             ],
             [
              0.4444444444444444,
              "#bd3786"
             ],
             [
              0.5555555555555556,
              "#d8576b"
             ],
             [
              0.6666666666666666,
              "#ed7953"
             ],
             [
              0.7777777777777778,
              "#fb9f3a"
             ],
             [
              0.8888888888888888,
              "#fdca26"
             ],
             [
              1,
              "#f0f921"
             ]
            ],
            "type": "surface"
           }
          ],
          "table": [
           {
            "cells": {
             "fill": {
              "color": "#EBF0F8"
             },
             "line": {
              "color": "white"
             }
            },
            "header": {
             "fill": {
              "color": "#C8D4E3"
             },
             "line": {
              "color": "white"
             }
            },
            "type": "table"
           }
          ]
         },
         "layout": {
          "annotationdefaults": {
           "arrowcolor": "#2a3f5f",
           "arrowhead": 0,
           "arrowwidth": 1
          },
          "autotypenumbers": "strict",
          "coloraxis": {
           "colorbar": {
            "outlinewidth": 0,
            "ticks": ""
           }
          },
          "colorscale": {
           "diverging": [
            [
             0,
             "#8e0152"
            ],
            [
             0.1,
             "#c51b7d"
            ],
            [
             0.2,
             "#de77ae"
            ],
            [
             0.3,
             "#f1b6da"
            ],
            [
             0.4,
             "#fde0ef"
            ],
            [
             0.5,
             "#f7f7f7"
            ],
            [
             0.6,
             "#e6f5d0"
            ],
            [
             0.7,
             "#b8e186"
            ],
            [
             0.8,
             "#7fbc41"
            ],
            [
             0.9,
             "#4d9221"
            ],
            [
             1,
             "#276419"
            ]
           ],
           "sequential": [
            [
             0,
             "#0d0887"
            ],
            [
             0.1111111111111111,
             "#46039f"
            ],
            [
             0.2222222222222222,
             "#7201a8"
            ],
            [
             0.3333333333333333,
             "#9c179e"
            ],
            [
             0.4444444444444444,
             "#bd3786"
            ],
            [
             0.5555555555555556,
             "#d8576b"
            ],
            [
             0.6666666666666666,
             "#ed7953"
            ],
            [
             0.7777777777777778,
             "#fb9f3a"
            ],
            [
             0.8888888888888888,
             "#fdca26"
            ],
            [
             1,
             "#f0f921"
            ]
           ],
           "sequentialminus": [
            [
             0,
             "#0d0887"
            ],
            [
             0.1111111111111111,
             "#46039f"
            ],
            [
             0.2222222222222222,
             "#7201a8"
            ],
            [
             0.3333333333333333,
             "#9c179e"
            ],
            [
             0.4444444444444444,
             "#bd3786"
            ],
            [
             0.5555555555555556,
             "#d8576b"
            ],
            [
             0.6666666666666666,
             "#ed7953"
            ],
            [
             0.7777777777777778,
             "#fb9f3a"
            ],
            [
             0.8888888888888888,
             "#fdca26"
            ],
            [
             1,
             "#f0f921"
            ]
           ]
          },
          "colorway": [
           "#636efa",
           "#EF553B",
           "#00cc96",
           "#ab63fa",
           "#FFA15A",
           "#19d3f3",
           "#FF6692",
           "#B6E880",
           "#FF97FF",
           "#FECB52"
          ],
          "font": {
           "color": "#2a3f5f"
          },
          "geo": {
           "bgcolor": "white",
           "lakecolor": "white",
           "landcolor": "#E5ECF6",
           "showlakes": true,
           "showland": true,
           "subunitcolor": "white"
          },
          "hoverlabel": {
           "align": "left"
          },
          "hovermode": "closest",
          "mapbox": {
           "style": "light"
          },
          "paper_bgcolor": "white",
          "plot_bgcolor": "#E5ECF6",
          "polar": {
           "angularaxis": {
            "gridcolor": "white",
            "linecolor": "white",
            "ticks": ""
           },
           "bgcolor": "#E5ECF6",
           "radialaxis": {
            "gridcolor": "white",
            "linecolor": "white",
            "ticks": ""
           }
          },
          "scene": {
           "xaxis": {
            "backgroundcolor": "#E5ECF6",
            "gridcolor": "white",
            "gridwidth": 2,
            "linecolor": "white",
            "showbackground": true,
            "ticks": "",
            "zerolinecolor": "white"
           },
           "yaxis": {
            "backgroundcolor": "#E5ECF6",
            "gridcolor": "white",
            "gridwidth": 2,
            "linecolor": "white",
            "showbackground": true,
            "ticks": "",
            "zerolinecolor": "white"
           },
           "zaxis": {
            "backgroundcolor": "#E5ECF6",
            "gridcolor": "white",
            "gridwidth": 2,
            "linecolor": "white",
            "showbackground": true,
            "ticks": "",
            "zerolinecolor": "white"
           }
          },
          "shapedefaults": {
           "line": {
            "color": "#2a3f5f"
           }
          },
          "ternary": {
           "aaxis": {
            "gridcolor": "white",
            "linecolor": "white",
            "ticks": ""
           },
           "baxis": {
            "gridcolor": "white",
            "linecolor": "white",
            "ticks": ""
           },
           "bgcolor": "#E5ECF6",
           "caxis": {
            "gridcolor": "white",
            "linecolor": "white",
            "ticks": ""
           }
          },
          "title": {
           "x": 0.05
          },
          "xaxis": {
           "automargin": true,
           "gridcolor": "white",
           "linecolor": "white",
           "ticks": "",
           "title": {
            "standoff": 15
           },
           "zerolinecolor": "white",
           "zerolinewidth": 2
          },
          "yaxis": {
           "automargin": true,
           "gridcolor": "white",
           "linecolor": "white",
           "ticks": "",
           "title": {
            "standoff": 15
           },
           "zerolinecolor": "white",
           "zerolinewidth": 2
          }
         }
        },
        "width": 1500,
        "xaxis": {
         "tickangle": 30
        },
        "yaxis": {
         "title": {
          "text": "Вес"
         }
        }
       }
      },
      "text/html": [
       "<div>                            <div id=\"647093f8-ef86-47c9-a8cf-72ede1e7a5c9\" class=\"plotly-graph-div\" style=\"height:700px; width:1500px;\"></div>            <script type=\"text/javascript\">                require([\"plotly\"], function(Plotly) {                    window.PLOTLYENV=window.PLOTLYENV || {};                                    if (document.getElementById(\"647093f8-ef86-47c9-a8cf-72ede1e7a5c9\")) {                    Plotly.newPlot(                        \"647093f8-ef86-47c9-a8cf-72ede1e7a5c9\",                        [{\"marker\": {\"color\": [-0.3461178996842237, -0.339651591647934, -0.19109543758643197, -0.1832903548829392, -0.13685740968506213, 0.18704020177289876, 0.32646999303517493, 0.4165147915537985, 0.5065678371708816, 0.6698893218225059, 0.8959443353061963], \"colorscale\": [[0.0, \"rgb(243, 231, 155)\"], [0.16666666666666666, \"rgb(250, 196, 132)\"], [0.3333333333333333, \"rgb(248, 160, 126)\"], [0.5, \"rgb(235, 127, 134)\"], [0.6666666666666666, \"rgb(206, 102, 147)\"], [0.8333333333333334, \"rgb(160, 89, 160)\"], [1.0, \"rgb(92, 83, 165)\"]], \"showscale\": true}, \"type\": \"bar\", \"x\": [\"WindChillC\", \"maxtempC\", \"WindGustKmph\", \"mintempC\", \"DewPointC\", \"windspeedKmph\", \"CRS_DEP_TIME\", \"HeatIndexC\", \"tempC\", \"FIRST_DEP_TIME\", \"LATE_ARR\"], \"y\": [-0.3461178996842237, -0.339651591647934, -0.19109543758643197, -0.1832903548829392, -0.13685740968506213, 0.18704020177289876, 0.32646999303517493, 0.4165147915537985, 0.5065678371708816, 0.6698893218225059, 0.8959443353061963]}],                        {\"font\": {\"size\": 28}, \"height\": 700, \"template\": {\"data\": {\"bar\": [{\"error_x\": {\"color\": \"#2a3f5f\"}, \"error_y\": {\"color\": \"#2a3f5f\"}, \"marker\": {\"line\": {\"color\": \"#E5ECF6\", \"width\": 0.5}}, \"type\": \"bar\"}], \"barpolar\": [{\"marker\": {\"line\": {\"color\": \"#E5ECF6\", \"width\": 0.5}}, \"type\": \"barpolar\"}], \"carpet\": [{\"aaxis\": {\"endlinecolor\": \"#2a3f5f\", \"gridcolor\": \"white\", \"linecolor\": \"white\", \"minorgridcolor\": \"white\", \"startlinecolor\": \"#2a3f5f\"}, \"baxis\": {\"endlinecolor\": \"#2a3f5f\", \"gridcolor\": \"white\", \"linecolor\": \"white\", \"minorgridcolor\": \"white\", \"startlinecolor\": \"#2a3f5f\"}, \"type\": \"carpet\"}], \"choropleth\": [{\"colorbar\": {\"outlinewidth\": 0, \"ticks\": \"\"}, \"type\": \"choropleth\"}], \"contour\": [{\"colorbar\": {\"outlinewidth\": 0, \"ticks\": \"\"}, \"colorscale\": [[0.0, \"#0d0887\"], [0.1111111111111111, \"#46039f\"], [0.2222222222222222, \"#7201a8\"], [0.3333333333333333, \"#9c179e\"], [0.4444444444444444, \"#bd3786\"], [0.5555555555555556, \"#d8576b\"], [0.6666666666666666, \"#ed7953\"], [0.7777777777777778, \"#fb9f3a\"], [0.8888888888888888, \"#fdca26\"], [1.0, \"#f0f921\"]], \"type\": \"contour\"}], \"contourcarpet\": [{\"colorbar\": {\"outlinewidth\": 0, \"ticks\": \"\"}, \"type\": \"contourcarpet\"}], \"heatmap\": [{\"colorbar\": {\"outlinewidth\": 0, \"ticks\": \"\"}, \"colorscale\": [[0.0, \"#0d0887\"], [0.1111111111111111, \"#46039f\"], [0.2222222222222222, \"#7201a8\"], [0.3333333333333333, \"#9c179e\"], [0.4444444444444444, \"#bd3786\"], [0.5555555555555556, \"#d8576b\"], [0.6666666666666666, \"#ed7953\"], [0.7777777777777778, \"#fb9f3a\"], [0.8888888888888888, \"#fdca26\"], [1.0, \"#f0f921\"]], \"type\": \"heatmap\"}], \"heatmapgl\": [{\"colorbar\": {\"outlinewidth\": 0, \"ticks\": \"\"}, \"colorscale\": [[0.0, \"#0d0887\"], [0.1111111111111111, \"#46039f\"], [0.2222222222222222, \"#7201a8\"], [0.3333333333333333, \"#9c179e\"], [0.4444444444444444, \"#bd3786\"], [0.5555555555555556, \"#d8576b\"], [0.6666666666666666, \"#ed7953\"], [0.7777777777777778, \"#fb9f3a\"], [0.8888888888888888, \"#fdca26\"], [1.0, \"#f0f921\"]], \"type\": \"heatmapgl\"}], \"histogram\": [{\"marker\": {\"colorbar\": {\"outlinewidth\": 0, \"ticks\": \"\"}}, \"type\": \"histogram\"}], \"histogram2d\": [{\"colorbar\": {\"outlinewidth\": 0, \"ticks\": \"\"}, \"colorscale\": [[0.0, \"#0d0887\"], [0.1111111111111111, \"#46039f\"], [0.2222222222222222, \"#7201a8\"], [0.3333333333333333, \"#9c179e\"], [0.4444444444444444, \"#bd3786\"], [0.5555555555555556, \"#d8576b\"], [0.6666666666666666, \"#ed7953\"], [0.7777777777777778, \"#fb9f3a\"], [0.8888888888888888, \"#fdca26\"], [1.0, \"#f0f921\"]], \"type\": \"histogram2d\"}], \"histogram2dcontour\": [{\"colorbar\": {\"outlinewidth\": 0, \"ticks\": \"\"}, \"colorscale\": [[0.0, \"#0d0887\"], [0.1111111111111111, \"#46039f\"], [0.2222222222222222, \"#7201a8\"], [0.3333333333333333, \"#9c179e\"], [0.4444444444444444, \"#bd3786\"], [0.5555555555555556, \"#d8576b\"], [0.6666666666666666, \"#ed7953\"], [0.7777777777777778, \"#fb9f3a\"], [0.8888888888888888, \"#fdca26\"], [1.0, \"#f0f921\"]], \"type\": \"histogram2dcontour\"}], \"mesh3d\": [{\"colorbar\": {\"outlinewidth\": 0, \"ticks\": \"\"}, \"type\": \"mesh3d\"}], \"parcoords\": [{\"line\": {\"colorbar\": {\"outlinewidth\": 0, \"ticks\": \"\"}}, \"type\": \"parcoords\"}], \"pie\": [{\"automargin\": true, \"type\": \"pie\"}], \"scatter\": [{\"marker\": {\"colorbar\": {\"outlinewidth\": 0, \"ticks\": \"\"}}, \"type\": \"scatter\"}], \"scatter3d\": [{\"line\": {\"colorbar\": {\"outlinewidth\": 0, \"ticks\": \"\"}}, \"marker\": {\"colorbar\": {\"outlinewidth\": 0, \"ticks\": \"\"}}, \"type\": \"scatter3d\"}], \"scattercarpet\": [{\"marker\": {\"colorbar\": {\"outlinewidth\": 0, \"ticks\": \"\"}}, \"type\": \"scattercarpet\"}], \"scattergeo\": [{\"marker\": {\"colorbar\": {\"outlinewidth\": 0, \"ticks\": \"\"}}, \"type\": \"scattergeo\"}], \"scattergl\": [{\"marker\": {\"colorbar\": {\"outlinewidth\": 0, \"ticks\": \"\"}}, \"type\": \"scattergl\"}], \"scattermapbox\": [{\"marker\": {\"colorbar\": {\"outlinewidth\": 0, \"ticks\": \"\"}}, \"type\": \"scattermapbox\"}], \"scatterpolar\": [{\"marker\": {\"colorbar\": {\"outlinewidth\": 0, \"ticks\": \"\"}}, \"type\": \"scatterpolar\"}], \"scatterpolargl\": [{\"marker\": {\"colorbar\": {\"outlinewidth\": 0, \"ticks\": \"\"}}, \"type\": \"scatterpolargl\"}], \"scatterternary\": [{\"marker\": {\"colorbar\": {\"outlinewidth\": 0, \"ticks\": \"\"}}, \"type\": \"scatterternary\"}], \"surface\": [{\"colorbar\": {\"outlinewidth\": 0, \"ticks\": \"\"}, \"colorscale\": [[0.0, \"#0d0887\"], [0.1111111111111111, \"#46039f\"], [0.2222222222222222, \"#7201a8\"], [0.3333333333333333, \"#9c179e\"], [0.4444444444444444, \"#bd3786\"], [0.5555555555555556, \"#d8576b\"], [0.6666666666666666, \"#ed7953\"], [0.7777777777777778, \"#fb9f3a\"], [0.8888888888888888, \"#fdca26\"], [1.0, \"#f0f921\"]], \"type\": \"surface\"}], \"table\": [{\"cells\": {\"fill\": {\"color\": \"#EBF0F8\"}, \"line\": {\"color\": \"white\"}}, \"header\": {\"fill\": {\"color\": \"#C8D4E3\"}, \"line\": {\"color\": \"white\"}}, \"type\": \"table\"}]}, \"layout\": {\"annotationdefaults\": {\"arrowcolor\": \"#2a3f5f\", \"arrowhead\": 0, \"arrowwidth\": 1}, \"autotypenumbers\": \"strict\", \"coloraxis\": {\"colorbar\": {\"outlinewidth\": 0, \"ticks\": \"\"}}, \"colorscale\": {\"diverging\": [[0, \"#8e0152\"], [0.1, \"#c51b7d\"], [0.2, \"#de77ae\"], [0.3, \"#f1b6da\"], [0.4, \"#fde0ef\"], [0.5, \"#f7f7f7\"], [0.6, \"#e6f5d0\"], [0.7, \"#b8e186\"], [0.8, \"#7fbc41\"], [0.9, \"#4d9221\"], [1, \"#276419\"]], \"sequential\": [[0.0, \"#0d0887\"], [0.1111111111111111, \"#46039f\"], [0.2222222222222222, \"#7201a8\"], [0.3333333333333333, \"#9c179e\"], [0.4444444444444444, \"#bd3786\"], [0.5555555555555556, \"#d8576b\"], [0.6666666666666666, \"#ed7953\"], [0.7777777777777778, \"#fb9f3a\"], [0.8888888888888888, \"#fdca26\"], [1.0, \"#f0f921\"]], \"sequentialminus\": [[0.0, \"#0d0887\"], [0.1111111111111111, \"#46039f\"], [0.2222222222222222, \"#7201a8\"], [0.3333333333333333, \"#9c179e\"], [0.4444444444444444, \"#bd3786\"], [0.5555555555555556, \"#d8576b\"], [0.6666666666666666, \"#ed7953\"], [0.7777777777777778, \"#fb9f3a\"], [0.8888888888888888, \"#fdca26\"], [1.0, \"#f0f921\"]]}, \"colorway\": [\"#636efa\", \"#EF553B\", \"#00cc96\", \"#ab63fa\", \"#FFA15A\", \"#19d3f3\", \"#FF6692\", \"#B6E880\", \"#FF97FF\", \"#FECB52\"], \"font\": {\"color\": \"#2a3f5f\"}, \"geo\": {\"bgcolor\": \"white\", \"lakecolor\": \"white\", \"landcolor\": \"#E5ECF6\", \"showlakes\": true, \"showland\": true, \"subunitcolor\": \"white\"}, \"hoverlabel\": {\"align\": \"left\"}, \"hovermode\": \"closest\", \"mapbox\": {\"style\": \"light\"}, \"paper_bgcolor\": \"white\", \"plot_bgcolor\": \"#E5ECF6\", \"polar\": {\"angularaxis\": {\"gridcolor\": \"white\", \"linecolor\": \"white\", \"ticks\": \"\"}, \"bgcolor\": \"#E5ECF6\", \"radialaxis\": {\"gridcolor\": \"white\", \"linecolor\": \"white\", \"ticks\": \"\"}}, \"scene\": {\"xaxis\": {\"backgroundcolor\": \"#E5ECF6\", \"gridcolor\": \"white\", \"gridwidth\": 2, \"linecolor\": \"white\", \"showbackground\": true, \"ticks\": \"\", \"zerolinecolor\": \"white\"}, \"yaxis\": {\"backgroundcolor\": \"#E5ECF6\", \"gridcolor\": \"white\", \"gridwidth\": 2, \"linecolor\": \"white\", \"showbackground\": true, \"ticks\": \"\", \"zerolinecolor\": \"white\"}, \"zaxis\": {\"backgroundcolor\": \"#E5ECF6\", \"gridcolor\": \"white\", \"gridwidth\": 2, \"linecolor\": \"white\", \"showbackground\": true, \"ticks\": \"\", \"zerolinecolor\": \"white\"}}, \"shapedefaults\": {\"line\": {\"color\": \"#2a3f5f\"}}, \"ternary\": {\"aaxis\": {\"gridcolor\": \"white\", \"linecolor\": \"white\", \"ticks\": \"\"}, \"baxis\": {\"gridcolor\": \"white\", \"linecolor\": \"white\", \"ticks\": \"\"}, \"bgcolor\": \"#E5ECF6\", \"caxis\": {\"gridcolor\": \"white\", \"linecolor\": \"white\", \"ticks\": \"\"}}, \"title\": {\"x\": 0.05}, \"xaxis\": {\"automargin\": true, \"gridcolor\": \"white\", \"linecolor\": \"white\", \"ticks\": \"\", \"title\": {\"standoff\": 15}, \"zerolinecolor\": \"white\", \"zerolinewidth\": 2}, \"yaxis\": {\"automargin\": true, \"gridcolor\": \"white\", \"linecolor\": \"white\", \"ticks\": \"\", \"title\": {\"standoff\": 15}, \"zerolinecolor\": \"white\", \"zerolinewidth\": 2}}}, \"width\": 1500, \"xaxis\": {\"tickangle\": 30}, \"yaxis\": {\"title\": {\"text\": \"\\u0412\\u0435\\u0441\"}}},                        {\"responsive\": true}                    ).then(function(){\n",
       "                            \n",
       "var gd = document.getElementById('647093f8-ef86-47c9-a8cf-72ede1e7a5c9');\n",
       "var x = new MutationObserver(function (mutations, observer) {{\n",
       "        var display = window.getComputedStyle(gd).display;\n",
       "        if (!display || display === 'none') {{\n",
       "            console.log([gd, 'removed!']);\n",
       "            Plotly.purge(gd);\n",
       "            observer.disconnect();\n",
       "        }}\n",
       "}});\n",
       "\n",
       "// Listen for the removal of the full notebook cells\n",
       "var notebookContainer = gd.closest('#notebook-container');\n",
       "if (notebookContainer) {{\n",
       "    x.observe(notebookContainer, {childList: true});\n",
       "}}\n",
       "\n",
       "// Listen for the clearing of the current output cell\n",
       "var outputEl = gd.closest('.output');\n",
       "if (outputEl) {{\n",
       "    x.observe(outputEl, {childList: true});\n",
       "}}\n",
       "\n",
       "                        })                };                });            </script>        </div>"
      ]
     },
     "metadata": {},
     "output_type": "display_data"
    }
   ],
   "source": [
    "trace = go.Bar(\n",
    "    x=bot.append(top).features,\n",
    "    y=bot.append(top).col,\n",
    "    marker=dict(\n",
    "        color = bot.append(top).col,\n",
    "        colorscale='sunset',\n",
    "        showscale=True\n",
    "    )\n",
    ")\n",
    "\n",
    "data = [trace]\n",
    "layout = go.Layout(xaxis=dict(tickangle=30),\n",
    "                   yaxis = dict(title = 'Вес'),\n",
    "                   width=1500,\n",
    "                   height=700\n",
    "                  )\n",
    "\n",
    "fig = go.Figure(data=data, layout=layout)\n",
    "fig.update_layout(\n",
    "    font=dict(\n",
    "        size=28,\n",
    "    )\n",
    ")\n",
    "fig.show()"
   ]
  },
  {
   "cell_type": "code",
   "execution_count": null,
   "metadata": {},
   "outputs": [],
   "source": []
  },
  {
   "cell_type": "code",
   "execution_count": 19,
   "metadata": {
    "scrolled": true
   },
   "outputs": [
    {
     "data": {
      "text/plain": [
       "{'MONTH': 0.0003979091725721135,\n",
       " 'DAY': -0.013670600062808373,\n",
       " 'DAY_OF_WEEK': 0.0026806015490646855,\n",
       " 'AIRLINE': 0.018517467426937648,\n",
       " 'TAIL_NUM': -0.003388495685222229,\n",
       " 'FLIGHT_MUNBER': -0.0620309503521954,\n",
       " 'ORIGIN': -0.010332544618512827,\n",
       " 'ORIGIN_CITY_NAME': -0.012967877575765084,\n",
       " 'DEST': 0.033790020085875,\n",
       " 'DEST_CITY_NAME': -0.010369710166303203,\n",
       " 'CRS_DEP_TIME': 0.3308882635197552,\n",
       " 'CRS_ARR_TIME': 0.10109695559592288,\n",
       " 'DISTANCE': 0.051555203836813196,\n",
       " 'FIRST_DEP_TIME': 0.05276147813117536,\n",
       " 'LONGEST_ADD_GTIME': 1.316581662433643,\n",
       " 'maxtempC': -0.3457556569687187,\n",
       " 'mintempC': -0.1866787413426417,\n",
       " 'totalSnow_cm': 0.02815662904808601,\n",
       " 'sunHour': 0.004596649426403422,\n",
       " 'uvIndex': 0.015880858578297453,\n",
       " 'moon_illumination': 0.01816867200080102,\n",
       " 'tempC': 0.5106408987855785,\n",
       " 'windspeedKmph': 0.1917044641634214,\n",
       " 'winddirDegree': 0.028665036619953604,\n",
       " 'weatherCode_origin': 0.02191009550692335,\n",
       " 'precipMM': 0.04602411266354075,\n",
       " 'humidity': 0.09128185194031402,\n",
       " 'visibility': -0.002692563382562297,\n",
       " 'pressure': -0.005670123586176441,\n",
       " 'cloudcover': 0.028004416460430052,\n",
       " 'HeatIndexC': 0.41568407186471035,\n",
       " 'DewPointC': -0.1322228080484838,\n",
       " 'WindChillC': -0.34642088178068936,\n",
       " 'WindGustKmph': -0.19567809481294648,\n",
       " 'FeelsLikeC': 0.07641165509787481,\n",
       " 'weatherCode_dest': 0.061834946011488964,\n",
       " 'COUNT': -0.044073141204292794,\n",
       " 'MEAN_DELAY': 0.12412144949006877,\n",
       " 'STD_DELAY': -0.03485907340572244,\n",
       " 'MIN_DELAY': -0.03811794831051754,\n",
       " '25%_DELAY': -0.0355324305951481,\n",
       " '50%_DELAY': 0.014167006239246577,\n",
       " '75%_DELAY': -0.043262055628556104,\n",
       " 'MAX_DELAY': -0.012101979693058852,\n",
       " 'WEEKEND': -0.01296772166747256,\n",
       " 'LATE_AIRLINE_INDEX': 0.1490312081415028,\n",
       " 'LATE_TAIL_INDEX': 0.15046811448773156,\n",
       " 'LATE_ARR': 0.8976309640016603,\n",
       " 'IN_FLIGHTS_H': 0.02052809895568002,\n",
       " 'OUT_FLIGHTS_H': 0.050614569309200545,\n",
       " 'LATE_DEP_1': 0.15354384474876495,\n",
       " 'LATE_DEP_2': 0.145638558035439,\n",
       " 'LATE_DEP_3': 0.13810209327351936,\n",
       " 'LATE_DEP_4': 0.13439908635015382}"
      ]
     },
     "execution_count": 19,
     "metadata": {},
     "output_type": "execute_result"
    }
   ],
   "source": [
    "dict(zip(logit_feature.features, logit_feature.col))"
   ]
  },
  {
   "cell_type": "code",
   "execution_count": null,
   "metadata": {},
   "outputs": [],
   "source": []
  },
  {
   "cell_type": "code",
   "execution_count": null,
   "metadata": {},
   "outputs": [],
   "source": []
  },
  {
   "cell_type": "code",
   "execution_count": null,
   "metadata": {},
   "outputs": [],
   "source": []
  },
  {
   "cell_type": "code",
   "execution_count": 33,
   "metadata": {
    "scrolled": true
   },
   "outputs": [
    {
     "name": "stdout",
     "output_type": "stream",
     "text": [
      "[23:46:29] WARNING: ../src/learner.cc:1061: Starting in XGBoost 1.3.0, the default evaluation metric used with the objective 'binary:logistic' was changed from 'error' to 'logloss'. Explicitly set eval_metric if you'd like to restore the old behavior.\n",
      "              precision    recall  f1-score   support\n",
      "\n",
      "           0       0.89      0.96      0.92    968190\n",
      "           1       0.72      0.49      0.58    216504\n",
      "\n",
      "    accuracy                           0.87   1184694\n",
      "   macro avg       0.81      0.72      0.75   1184694\n",
      "weighted avg       0.86      0.87      0.86   1184694\n",
      "\n",
      "CPU times: user 1h 47min 35s, sys: 46.4 s, total: 1h 48min 21s\n",
      "Wall time: 19min 3s\n"
     ]
    }
   ],
   "source": [
    "%%time\n",
    "grad = fit_model(XGBClassifier(random_state=42, n_jobs=6, use_label_encoder=False),\n",
    "                 flights.drop(['DEP_DELAY', 'target', 'LONGEST_ADD_GTIME'], axis=1),\n",
    "                 flights.target)"
   ]
  },
  {
   "cell_type": "code",
   "execution_count": 34,
   "metadata": {
    "scrolled": true
   },
   "outputs": [
    {
     "data": {
      "text/html": [
       "<style  type=\"text/css\" >\n",
       "#T_853f8da6_9fc0_11eb_a88f_91b431191c18row0_col1,#T_853f8da6_9fc0_11eb_a88f_91b431191c18row8_col1,#T_853f8da6_9fc0_11eb_a88f_91b431191c18row9_col1,#T_853f8da6_9fc0_11eb_a88f_91b431191c18row11_col1,#T_853f8da6_9fc0_11eb_a88f_91b431191c18row12_col1,#T_853f8da6_9fc0_11eb_a88f_91b431191c18row15_col1,#T_853f8da6_9fc0_11eb_a88f_91b431191c18row19_col1,#T_853f8da6_9fc0_11eb_a88f_91b431191c18row25_col1,#T_853f8da6_9fc0_11eb_a88f_91b431191c18row30_col1,#T_853f8da6_9fc0_11eb_a88f_91b431191c18row34_col1,#T_853f8da6_9fc0_11eb_a88f_91b431191c18row41_col1{\n",
       "            background-color:  #fdf5fa;\n",
       "            color:  #000000;\n",
       "        }#T_853f8da6_9fc0_11eb_a88f_91b431191c18row1_col1,#T_853f8da6_9fc0_11eb_a88f_91b431191c18row2_col1,#T_853f8da6_9fc0_11eb_a88f_91b431191c18row5_col1,#T_853f8da6_9fc0_11eb_a88f_91b431191c18row7_col1,#T_853f8da6_9fc0_11eb_a88f_91b431191c18row14_col1,#T_853f8da6_9fc0_11eb_a88f_91b431191c18row16_col1,#T_853f8da6_9fc0_11eb_a88f_91b431191c18row17_col1,#T_853f8da6_9fc0_11eb_a88f_91b431191c18row23_col1,#T_853f8da6_9fc0_11eb_a88f_91b431191c18row24_col1,#T_853f8da6_9fc0_11eb_a88f_91b431191c18row31_col1,#T_853f8da6_9fc0_11eb_a88f_91b431191c18row38_col1{\n",
       "            background-color:  #fef6fa;\n",
       "            color:  #000000;\n",
       "        }#T_853f8da6_9fc0_11eb_a88f_91b431191c18row3_col1,#T_853f8da6_9fc0_11eb_a88f_91b431191c18row48_col1{\n",
       "            background-color:  #faf3f9;\n",
       "            color:  #000000;\n",
       "        }#T_853f8da6_9fc0_11eb_a88f_91b431191c18row4_col1,#T_853f8da6_9fc0_11eb_a88f_91b431191c18row21_col1,#T_853f8da6_9fc0_11eb_a88f_91b431191c18row22_col1,#T_853f8da6_9fc0_11eb_a88f_91b431191c18row33_col1,#T_853f8da6_9fc0_11eb_a88f_91b431191c18row37_col1,#T_853f8da6_9fc0_11eb_a88f_91b431191c18row40_col1,#T_853f8da6_9fc0_11eb_a88f_91b431191c18row42_col1,#T_853f8da6_9fc0_11eb_a88f_91b431191c18row43_col1{\n",
       "            background-color:  #fff7fb;\n",
       "            color:  #000000;\n",
       "        }#T_853f8da6_9fc0_11eb_a88f_91b431191c18row6_col1,#T_853f8da6_9fc0_11eb_a88f_91b431191c18row18_col1,#T_853f8da6_9fc0_11eb_a88f_91b431191c18row20_col1,#T_853f8da6_9fc0_11eb_a88f_91b431191c18row27_col1,#T_853f8da6_9fc0_11eb_a88f_91b431191c18row28_col1,#T_853f8da6_9fc0_11eb_a88f_91b431191c18row29_col1,#T_853f8da6_9fc0_11eb_a88f_91b431191c18row32_col1,#T_853f8da6_9fc0_11eb_a88f_91b431191c18row39_col1{\n",
       "            background-color:  #fef6fb;\n",
       "            color:  #000000;\n",
       "        }#T_853f8da6_9fc0_11eb_a88f_91b431191c18row10_col1{\n",
       "            background-color:  #dbdaeb;\n",
       "            color:  #000000;\n",
       "        }#T_853f8da6_9fc0_11eb_a88f_91b431191c18row13_col1{\n",
       "            background-color:  #9ab8d8;\n",
       "            color:  #000000;\n",
       "        }#T_853f8da6_9fc0_11eb_a88f_91b431191c18row26_col1,#T_853f8da6_9fc0_11eb_a88f_91b431191c18row45_col1{\n",
       "            background-color:  #fcf4fa;\n",
       "            color:  #000000;\n",
       "        }#T_853f8da6_9fc0_11eb_a88f_91b431191c18row35_col1{\n",
       "            background-color:  #f8f1f8;\n",
       "            color:  #000000;\n",
       "        }#T_853f8da6_9fc0_11eb_a88f_91b431191c18row36_col1{\n",
       "            background-color:  #fbf3f9;\n",
       "            color:  #000000;\n",
       "        }#T_853f8da6_9fc0_11eb_a88f_91b431191c18row44_col1,#T_853f8da6_9fc0_11eb_a88f_91b431191c18row47_col1{\n",
       "            background-color:  #fbf4f9;\n",
       "            color:  #000000;\n",
       "        }#T_853f8da6_9fc0_11eb_a88f_91b431191c18row46_col1{\n",
       "            background-color:  #023858;\n",
       "            color:  #f1f1f1;\n",
       "        }#T_853f8da6_9fc0_11eb_a88f_91b431191c18row49_col1{\n",
       "            background-color:  #e1dfed;\n",
       "            color:  #000000;\n",
       "        }#T_853f8da6_9fc0_11eb_a88f_91b431191c18row50_col1,#T_853f8da6_9fc0_11eb_a88f_91b431191c18row52_col1{\n",
       "            background-color:  #e3e0ee;\n",
       "            color:  #000000;\n",
       "        }#T_853f8da6_9fc0_11eb_a88f_91b431191c18row51_col1{\n",
       "            background-color:  #eee8f3;\n",
       "            color:  #000000;\n",
       "        }</style><table id=\"T_853f8da6_9fc0_11eb_a88f_91b431191c18\" ><thead>    <tr>        <th class=\"blank level0\" ></th>        <th class=\"col_heading level0 col0\" >features</th>        <th class=\"col_heading level0 col1\" >col</th>    </tr></thead><tbody>\n",
       "                <tr>\n",
       "                        <th id=\"T_853f8da6_9fc0_11eb_a88f_91b431191c18level0_row0\" class=\"row_heading level0 row0\" >0</th>\n",
       "                        <td id=\"T_853f8da6_9fc0_11eb_a88f_91b431191c18row0_col0\" class=\"data row0 col0\" >MONTH</td>\n",
       "                        <td id=\"T_853f8da6_9fc0_11eb_a88f_91b431191c18row0_col1\" class=\"data row0 col1\" >0.006782</td>\n",
       "            </tr>\n",
       "            <tr>\n",
       "                        <th id=\"T_853f8da6_9fc0_11eb_a88f_91b431191c18level0_row1\" class=\"row_heading level0 row1\" >1</th>\n",
       "                        <td id=\"T_853f8da6_9fc0_11eb_a88f_91b431191c18row1_col0\" class=\"data row1 col0\" >DAY</td>\n",
       "                        <td id=\"T_853f8da6_9fc0_11eb_a88f_91b431191c18row1_col1\" class=\"data row1 col1\" >0.004037</td>\n",
       "            </tr>\n",
       "            <tr>\n",
       "                        <th id=\"T_853f8da6_9fc0_11eb_a88f_91b431191c18level0_row2\" class=\"row_heading level0 row2\" >2</th>\n",
       "                        <td id=\"T_853f8da6_9fc0_11eb_a88f_91b431191c18row2_col0\" class=\"data row2 col0\" >DAY_OF_WEEK</td>\n",
       "                        <td id=\"T_853f8da6_9fc0_11eb_a88f_91b431191c18row2_col1\" class=\"data row2 col1\" >0.003805</td>\n",
       "            </tr>\n",
       "            <tr>\n",
       "                        <th id=\"T_853f8da6_9fc0_11eb_a88f_91b431191c18level0_row3\" class=\"row_heading level0 row3\" >3</th>\n",
       "                        <td id=\"T_853f8da6_9fc0_11eb_a88f_91b431191c18row3_col0\" class=\"data row3 col0\" >AIRLINE</td>\n",
       "                        <td id=\"T_853f8da6_9fc0_11eb_a88f_91b431191c18row3_col1\" class=\"data row3 col1\" >0.012127</td>\n",
       "            </tr>\n",
       "            <tr>\n",
       "                        <th id=\"T_853f8da6_9fc0_11eb_a88f_91b431191c18level0_row4\" class=\"row_heading level0 row4\" >4</th>\n",
       "                        <td id=\"T_853f8da6_9fc0_11eb_a88f_91b431191c18row4_col0\" class=\"data row4 col0\" >TAIL_NUM</td>\n",
       "                        <td id=\"T_853f8da6_9fc0_11eb_a88f_91b431191c18row4_col1\" class=\"data row4 col1\" >0.000787</td>\n",
       "            </tr>\n",
       "            <tr>\n",
       "                        <th id=\"T_853f8da6_9fc0_11eb_a88f_91b431191c18level0_row5\" class=\"row_heading level0 row5\" >5</th>\n",
       "                        <td id=\"T_853f8da6_9fc0_11eb_a88f_91b431191c18row5_col0\" class=\"data row5 col0\" >FLIGHT_MUNBER</td>\n",
       "                        <td id=\"T_853f8da6_9fc0_11eb_a88f_91b431191c18row5_col1\" class=\"data row5 col1\" >0.002913</td>\n",
       "            </tr>\n",
       "            <tr>\n",
       "                        <th id=\"T_853f8da6_9fc0_11eb_a88f_91b431191c18level0_row6\" class=\"row_heading level0 row6\" >6</th>\n",
       "                        <td id=\"T_853f8da6_9fc0_11eb_a88f_91b431191c18row6_col0\" class=\"data row6 col0\" >ORIGIN</td>\n",
       "                        <td id=\"T_853f8da6_9fc0_11eb_a88f_91b431191c18row6_col1\" class=\"data row6 col1\" >0.002708</td>\n",
       "            </tr>\n",
       "            <tr>\n",
       "                        <th id=\"T_853f8da6_9fc0_11eb_a88f_91b431191c18level0_row7\" class=\"row_heading level0 row7\" >7</th>\n",
       "                        <td id=\"T_853f8da6_9fc0_11eb_a88f_91b431191c18row7_col0\" class=\"data row7 col0\" >ORIGIN_CITY_NAME</td>\n",
       "                        <td id=\"T_853f8da6_9fc0_11eb_a88f_91b431191c18row7_col1\" class=\"data row7 col1\" >0.003482</td>\n",
       "            </tr>\n",
       "            <tr>\n",
       "                        <th id=\"T_853f8da6_9fc0_11eb_a88f_91b431191c18level0_row8\" class=\"row_heading level0 row8\" >8</th>\n",
       "                        <td id=\"T_853f8da6_9fc0_11eb_a88f_91b431191c18row8_col0\" class=\"data row8 col0\" >DEST</td>\n",
       "                        <td id=\"T_853f8da6_9fc0_11eb_a88f_91b431191c18row8_col1\" class=\"data row8 col1\" >0.004735</td>\n",
       "            </tr>\n",
       "            <tr>\n",
       "                        <th id=\"T_853f8da6_9fc0_11eb_a88f_91b431191c18level0_row9\" class=\"row_heading level0 row9\" >9</th>\n",
       "                        <td id=\"T_853f8da6_9fc0_11eb_a88f_91b431191c18row9_col0\" class=\"data row9 col0\" >DEST_CITY_NAME</td>\n",
       "                        <td id=\"T_853f8da6_9fc0_11eb_a88f_91b431191c18row9_col1\" class=\"data row9 col1\" >0.004302</td>\n",
       "            </tr>\n",
       "            <tr>\n",
       "                        <th id=\"T_853f8da6_9fc0_11eb_a88f_91b431191c18level0_row10\" class=\"row_heading level0 row10\" >10</th>\n",
       "                        <td id=\"T_853f8da6_9fc0_11eb_a88f_91b431191c18row10_col0\" class=\"data row10 col0\" >CRS_DEP_TIME</td>\n",
       "                        <td id=\"T_853f8da6_9fc0_11eb_a88f_91b431191c18row10_col1\" class=\"data row10 col1\" >0.072260</td>\n",
       "            </tr>\n",
       "            <tr>\n",
       "                        <th id=\"T_853f8da6_9fc0_11eb_a88f_91b431191c18level0_row11\" class=\"row_heading level0 row11\" >11</th>\n",
       "                        <td id=\"T_853f8da6_9fc0_11eb_a88f_91b431191c18row11_col0\" class=\"data row11 col0\" >CRS_ARR_TIME</td>\n",
       "                        <td id=\"T_853f8da6_9fc0_11eb_a88f_91b431191c18row11_col1\" class=\"data row11 col1\" >0.006564</td>\n",
       "            </tr>\n",
       "            <tr>\n",
       "                        <th id=\"T_853f8da6_9fc0_11eb_a88f_91b431191c18level0_row12\" class=\"row_heading level0 row12\" >12</th>\n",
       "                        <td id=\"T_853f8da6_9fc0_11eb_a88f_91b431191c18row12_col0\" class=\"data row12 col0\" >DISTANCE</td>\n",
       "                        <td id=\"T_853f8da6_9fc0_11eb_a88f_91b431191c18row12_col1\" class=\"data row12 col1\" >0.006115</td>\n",
       "            </tr>\n",
       "            <tr>\n",
       "                        <th id=\"T_853f8da6_9fc0_11eb_a88f_91b431191c18level0_row13\" class=\"row_heading level0 row13\" >13</th>\n",
       "                        <td id=\"T_853f8da6_9fc0_11eb_a88f_91b431191c18row13_col0\" class=\"data row13 col0\" >FIRST_DEP_TIME</td>\n",
       "                        <td id=\"T_853f8da6_9fc0_11eb_a88f_91b431191c18row13_col1\" class=\"data row13 col1\" >0.144993</td>\n",
       "            </tr>\n",
       "            <tr>\n",
       "                        <th id=\"T_853f8da6_9fc0_11eb_a88f_91b431191c18level0_row14\" class=\"row_heading level0 row14\" >14</th>\n",
       "                        <td id=\"T_853f8da6_9fc0_11eb_a88f_91b431191c18row14_col0\" class=\"data row14 col0\" >maxtempC</td>\n",
       "                        <td id=\"T_853f8da6_9fc0_11eb_a88f_91b431191c18row14_col1\" class=\"data row14 col1\" >0.003456</td>\n",
       "            </tr>\n",
       "            <tr>\n",
       "                        <th id=\"T_853f8da6_9fc0_11eb_a88f_91b431191c18level0_row15\" class=\"row_heading level0 row15\" >15</th>\n",
       "                        <td id=\"T_853f8da6_9fc0_11eb_a88f_91b431191c18row15_col0\" class=\"data row15 col0\" >mintempC</td>\n",
       "                        <td id=\"T_853f8da6_9fc0_11eb_a88f_91b431191c18row15_col1\" class=\"data row15 col1\" >0.004368</td>\n",
       "            </tr>\n",
       "            <tr>\n",
       "                        <th id=\"T_853f8da6_9fc0_11eb_a88f_91b431191c18level0_row16\" class=\"row_heading level0 row16\" >16</th>\n",
       "                        <td id=\"T_853f8da6_9fc0_11eb_a88f_91b431191c18row16_col0\" class=\"data row16 col0\" >totalSnow_cm</td>\n",
       "                        <td id=\"T_853f8da6_9fc0_11eb_a88f_91b431191c18row16_col1\" class=\"data row16 col1\" >0.003850</td>\n",
       "            </tr>\n",
       "            <tr>\n",
       "                        <th id=\"T_853f8da6_9fc0_11eb_a88f_91b431191c18level0_row17\" class=\"row_heading level0 row17\" >17</th>\n",
       "                        <td id=\"T_853f8da6_9fc0_11eb_a88f_91b431191c18row17_col0\" class=\"data row17 col0\" >sunHour</td>\n",
       "                        <td id=\"T_853f8da6_9fc0_11eb_a88f_91b431191c18row17_col1\" class=\"data row17 col1\" >0.003384</td>\n",
       "            </tr>\n",
       "            <tr>\n",
       "                        <th id=\"T_853f8da6_9fc0_11eb_a88f_91b431191c18level0_row18\" class=\"row_heading level0 row18\" >18</th>\n",
       "                        <td id=\"T_853f8da6_9fc0_11eb_a88f_91b431191c18row18_col0\" class=\"data row18 col0\" >uvIndex</td>\n",
       "                        <td id=\"T_853f8da6_9fc0_11eb_a88f_91b431191c18row18_col1\" class=\"data row18 col1\" >0.001877</td>\n",
       "            </tr>\n",
       "            <tr>\n",
       "                        <th id=\"T_853f8da6_9fc0_11eb_a88f_91b431191c18level0_row19\" class=\"row_heading level0 row19\" >19</th>\n",
       "                        <td id=\"T_853f8da6_9fc0_11eb_a88f_91b431191c18row19_col0\" class=\"data row19 col0\" >moon_illumination</td>\n",
       "                        <td id=\"T_853f8da6_9fc0_11eb_a88f_91b431191c18row19_col1\" class=\"data row19 col1\" >0.004248</td>\n",
       "            </tr>\n",
       "            <tr>\n",
       "                        <th id=\"T_853f8da6_9fc0_11eb_a88f_91b431191c18level0_row20\" class=\"row_heading level0 row20\" >20</th>\n",
       "                        <td id=\"T_853f8da6_9fc0_11eb_a88f_91b431191c18row20_col0\" class=\"data row20 col0\" >tempC</td>\n",
       "                        <td id=\"T_853f8da6_9fc0_11eb_a88f_91b431191c18row20_col1\" class=\"data row20 col1\" >0.001615</td>\n",
       "            </tr>\n",
       "            <tr>\n",
       "                        <th id=\"T_853f8da6_9fc0_11eb_a88f_91b431191c18level0_row21\" class=\"row_heading level0 row21\" >21</th>\n",
       "                        <td id=\"T_853f8da6_9fc0_11eb_a88f_91b431191c18row21_col0\" class=\"data row21 col0\" >windspeedKmph</td>\n",
       "                        <td id=\"T_853f8da6_9fc0_11eb_a88f_91b431191c18row21_col1\" class=\"data row21 col1\" >0.001376</td>\n",
       "            </tr>\n",
       "            <tr>\n",
       "                        <th id=\"T_853f8da6_9fc0_11eb_a88f_91b431191c18level0_row22\" class=\"row_heading level0 row22\" >22</th>\n",
       "                        <td id=\"T_853f8da6_9fc0_11eb_a88f_91b431191c18row22_col0\" class=\"data row22 col0\" >winddirDegree</td>\n",
       "                        <td id=\"T_853f8da6_9fc0_11eb_a88f_91b431191c18row22_col1\" class=\"data row22 col1\" >0.001202</td>\n",
       "            </tr>\n",
       "            <tr>\n",
       "                        <th id=\"T_853f8da6_9fc0_11eb_a88f_91b431191c18level0_row23\" class=\"row_heading level0 row23\" >23</th>\n",
       "                        <td id=\"T_853f8da6_9fc0_11eb_a88f_91b431191c18row23_col0\" class=\"data row23 col0\" >weatherCode_origin</td>\n",
       "                        <td id=\"T_853f8da6_9fc0_11eb_a88f_91b431191c18row23_col1\" class=\"data row23 col1\" >0.003397</td>\n",
       "            </tr>\n",
       "            <tr>\n",
       "                        <th id=\"T_853f8da6_9fc0_11eb_a88f_91b431191c18level0_row24\" class=\"row_heading level0 row24\" >24</th>\n",
       "                        <td id=\"T_853f8da6_9fc0_11eb_a88f_91b431191c18row24_col0\" class=\"data row24 col0\" >precipMM</td>\n",
       "                        <td id=\"T_853f8da6_9fc0_11eb_a88f_91b431191c18row24_col1\" class=\"data row24 col1\" >0.003821</td>\n",
       "            </tr>\n",
       "            <tr>\n",
       "                        <th id=\"T_853f8da6_9fc0_11eb_a88f_91b431191c18level0_row25\" class=\"row_heading level0 row25\" >25</th>\n",
       "                        <td id=\"T_853f8da6_9fc0_11eb_a88f_91b431191c18row25_col0\" class=\"data row25 col0\" >humidity</td>\n",
       "                        <td id=\"T_853f8da6_9fc0_11eb_a88f_91b431191c18row25_col1\" class=\"data row25 col1\" >0.005733</td>\n",
       "            </tr>\n",
       "            <tr>\n",
       "                        <th id=\"T_853f8da6_9fc0_11eb_a88f_91b431191c18level0_row26\" class=\"row_heading level0 row26\" >26</th>\n",
       "                        <td id=\"T_853f8da6_9fc0_11eb_a88f_91b431191c18row26_col0\" class=\"data row26 col0\" >visibility</td>\n",
       "                        <td id=\"T_853f8da6_9fc0_11eb_a88f_91b431191c18row26_col1\" class=\"data row26 col1\" >0.007109</td>\n",
       "            </tr>\n",
       "            <tr>\n",
       "                        <th id=\"T_853f8da6_9fc0_11eb_a88f_91b431191c18level0_row27\" class=\"row_heading level0 row27\" >27</th>\n",
       "                        <td id=\"T_853f8da6_9fc0_11eb_a88f_91b431191c18row27_col0\" class=\"data row27 col0\" >pressure</td>\n",
       "                        <td id=\"T_853f8da6_9fc0_11eb_a88f_91b431191c18row27_col1\" class=\"data row27 col1\" >0.001895</td>\n",
       "            </tr>\n",
       "            <tr>\n",
       "                        <th id=\"T_853f8da6_9fc0_11eb_a88f_91b431191c18level0_row28\" class=\"row_heading level0 row28\" >28</th>\n",
       "                        <td id=\"T_853f8da6_9fc0_11eb_a88f_91b431191c18row28_col0\" class=\"data row28 col0\" >cloudcover</td>\n",
       "                        <td id=\"T_853f8da6_9fc0_11eb_a88f_91b431191c18row28_col1\" class=\"data row28 col1\" >0.002159</td>\n",
       "            </tr>\n",
       "            <tr>\n",
       "                        <th id=\"T_853f8da6_9fc0_11eb_a88f_91b431191c18level0_row29\" class=\"row_heading level0 row29\" >29</th>\n",
       "                        <td id=\"T_853f8da6_9fc0_11eb_a88f_91b431191c18row29_col0\" class=\"data row29 col0\" >HeatIndexC</td>\n",
       "                        <td id=\"T_853f8da6_9fc0_11eb_a88f_91b431191c18row29_col1\" class=\"data row29 col1\" >0.001578</td>\n",
       "            </tr>\n",
       "            <tr>\n",
       "                        <th id=\"T_853f8da6_9fc0_11eb_a88f_91b431191c18level0_row30\" class=\"row_heading level0 row30\" >30</th>\n",
       "                        <td id=\"T_853f8da6_9fc0_11eb_a88f_91b431191c18row30_col0\" class=\"data row30 col0\" >DewPointC</td>\n",
       "                        <td id=\"T_853f8da6_9fc0_11eb_a88f_91b431191c18row30_col1\" class=\"data row30 col1\" >0.004301</td>\n",
       "            </tr>\n",
       "            <tr>\n",
       "                        <th id=\"T_853f8da6_9fc0_11eb_a88f_91b431191c18level0_row31\" class=\"row_heading level0 row31\" >31</th>\n",
       "                        <td id=\"T_853f8da6_9fc0_11eb_a88f_91b431191c18row31_col0\" class=\"data row31 col0\" >WindChillC</td>\n",
       "                        <td id=\"T_853f8da6_9fc0_11eb_a88f_91b431191c18row31_col1\" class=\"data row31 col1\" >0.003376</td>\n",
       "            </tr>\n",
       "            <tr>\n",
       "                        <th id=\"T_853f8da6_9fc0_11eb_a88f_91b431191c18level0_row32\" class=\"row_heading level0 row32\" >32</th>\n",
       "                        <td id=\"T_853f8da6_9fc0_11eb_a88f_91b431191c18row32_col0\" class=\"data row32 col0\" >WindGustKmph</td>\n",
       "                        <td id=\"T_853f8da6_9fc0_11eb_a88f_91b431191c18row32_col1\" class=\"data row32 col1\" >0.001457</td>\n",
       "            </tr>\n",
       "            <tr>\n",
       "                        <th id=\"T_853f8da6_9fc0_11eb_a88f_91b431191c18level0_row33\" class=\"row_heading level0 row33\" >33</th>\n",
       "                        <td id=\"T_853f8da6_9fc0_11eb_a88f_91b431191c18row33_col0\" class=\"data row33 col0\" >FeelsLikeC</td>\n",
       "                        <td id=\"T_853f8da6_9fc0_11eb_a88f_91b431191c18row33_col1\" class=\"data row33 col1\" >0.000893</td>\n",
       "            </tr>\n",
       "            <tr>\n",
       "                        <th id=\"T_853f8da6_9fc0_11eb_a88f_91b431191c18level0_row34\" class=\"row_heading level0 row34\" >34</th>\n",
       "                        <td id=\"T_853f8da6_9fc0_11eb_a88f_91b431191c18row34_col0\" class=\"data row34 col0\" >weatherCode_dest</td>\n",
       "                        <td id=\"T_853f8da6_9fc0_11eb_a88f_91b431191c18row34_col1\" class=\"data row34 col1\" >0.006234</td>\n",
       "            </tr>\n",
       "            <tr>\n",
       "                        <th id=\"T_853f8da6_9fc0_11eb_a88f_91b431191c18level0_row35\" class=\"row_heading level0 row35\" >35</th>\n",
       "                        <td id=\"T_853f8da6_9fc0_11eb_a88f_91b431191c18row35_col0\" class=\"data row35 col0\" >COUNT</td>\n",
       "                        <td id=\"T_853f8da6_9fc0_11eb_a88f_91b431191c18row35_col1\" class=\"data row35 col1\" >0.015564</td>\n",
       "            </tr>\n",
       "            <tr>\n",
       "                        <th id=\"T_853f8da6_9fc0_11eb_a88f_91b431191c18level0_row36\" class=\"row_heading level0 row36\" >36</th>\n",
       "                        <td id=\"T_853f8da6_9fc0_11eb_a88f_91b431191c18row36_col0\" class=\"data row36 col0\" >MEAN_DELAY</td>\n",
       "                        <td id=\"T_853f8da6_9fc0_11eb_a88f_91b431191c18row36_col1\" class=\"data row36 col1\" >0.009961</td>\n",
       "            </tr>\n",
       "            <tr>\n",
       "                        <th id=\"T_853f8da6_9fc0_11eb_a88f_91b431191c18level0_row37\" class=\"row_heading level0 row37\" >37</th>\n",
       "                        <td id=\"T_853f8da6_9fc0_11eb_a88f_91b431191c18row37_col0\" class=\"data row37 col0\" >STD_DELAY</td>\n",
       "                        <td id=\"T_853f8da6_9fc0_11eb_a88f_91b431191c18row37_col1\" class=\"data row37 col1\" >0.000815</td>\n",
       "            </tr>\n",
       "            <tr>\n",
       "                        <th id=\"T_853f8da6_9fc0_11eb_a88f_91b431191c18level0_row38\" class=\"row_heading level0 row38\" >38</th>\n",
       "                        <td id=\"T_853f8da6_9fc0_11eb_a88f_91b431191c18row38_col0\" class=\"data row38 col0\" >MIN_DELAY</td>\n",
       "                        <td id=\"T_853f8da6_9fc0_11eb_a88f_91b431191c18row38_col1\" class=\"data row38 col1\" >0.002889</td>\n",
       "            </tr>\n",
       "            <tr>\n",
       "                        <th id=\"T_853f8da6_9fc0_11eb_a88f_91b431191c18level0_row39\" class=\"row_heading level0 row39\" >39</th>\n",
       "                        <td id=\"T_853f8da6_9fc0_11eb_a88f_91b431191c18row39_col0\" class=\"data row39 col0\" >25%_DELAY</td>\n",
       "                        <td id=\"T_853f8da6_9fc0_11eb_a88f_91b431191c18row39_col1\" class=\"data row39 col1\" >0.002541</td>\n",
       "            </tr>\n",
       "            <tr>\n",
       "                        <th id=\"T_853f8da6_9fc0_11eb_a88f_91b431191c18level0_row40\" class=\"row_heading level0 row40\" >40</th>\n",
       "                        <td id=\"T_853f8da6_9fc0_11eb_a88f_91b431191c18row40_col0\" class=\"data row40 col0\" >50%_DELAY</td>\n",
       "                        <td id=\"T_853f8da6_9fc0_11eb_a88f_91b431191c18row40_col1\" class=\"data row40 col1\" >0.000735</td>\n",
       "            </tr>\n",
       "            <tr>\n",
       "                        <th id=\"T_853f8da6_9fc0_11eb_a88f_91b431191c18level0_row41\" class=\"row_heading level0 row41\" >41</th>\n",
       "                        <td id=\"T_853f8da6_9fc0_11eb_a88f_91b431191c18row41_col0\" class=\"data row41 col0\" >75%_DELAY</td>\n",
       "                        <td id=\"T_853f8da6_9fc0_11eb_a88f_91b431191c18row41_col1\" class=\"data row41 col1\" >0.004293</td>\n",
       "            </tr>\n",
       "            <tr>\n",
       "                        <th id=\"T_853f8da6_9fc0_11eb_a88f_91b431191c18level0_row42\" class=\"row_heading level0 row42\" >42</th>\n",
       "                        <td id=\"T_853f8da6_9fc0_11eb_a88f_91b431191c18row42_col0\" class=\"data row42 col0\" >MAX_DELAY</td>\n",
       "                        <td id=\"T_853f8da6_9fc0_11eb_a88f_91b431191c18row42_col1\" class=\"data row42 col1\" >0.001023</td>\n",
       "            </tr>\n",
       "            <tr>\n",
       "                        <th id=\"T_853f8da6_9fc0_11eb_a88f_91b431191c18level0_row43\" class=\"row_heading level0 row43\" >43</th>\n",
       "                        <td id=\"T_853f8da6_9fc0_11eb_a88f_91b431191c18row43_col0\" class=\"data row43 col0\" >WEEKEND</td>\n",
       "                        <td id=\"T_853f8da6_9fc0_11eb_a88f_91b431191c18row43_col1\" class=\"data row43 col1\" >0.000000</td>\n",
       "            </tr>\n",
       "            <tr>\n",
       "                        <th id=\"T_853f8da6_9fc0_11eb_a88f_91b431191c18level0_row44\" class=\"row_heading level0 row44\" >44</th>\n",
       "                        <td id=\"T_853f8da6_9fc0_11eb_a88f_91b431191c18row44_col0\" class=\"data row44 col0\" >LATE_AIRLINE_INDEX</td>\n",
       "                        <td id=\"T_853f8da6_9fc0_11eb_a88f_91b431191c18row44_col1\" class=\"data row44 col1\" >0.009061</td>\n",
       "            </tr>\n",
       "            <tr>\n",
       "                        <th id=\"T_853f8da6_9fc0_11eb_a88f_91b431191c18level0_row45\" class=\"row_heading level0 row45\" >45</th>\n",
       "                        <td id=\"T_853f8da6_9fc0_11eb_a88f_91b431191c18row45_col0\" class=\"data row45 col0\" >LATE_TAIL_INDEX</td>\n",
       "                        <td id=\"T_853f8da6_9fc0_11eb_a88f_91b431191c18row45_col1\" class=\"data row45 col1\" >0.007191</td>\n",
       "            </tr>\n",
       "            <tr>\n",
       "                        <th id=\"T_853f8da6_9fc0_11eb_a88f_91b431191c18level0_row46\" class=\"row_heading level0 row46\" >46</th>\n",
       "                        <td id=\"T_853f8da6_9fc0_11eb_a88f_91b431191c18row46_col0\" class=\"data row46 col0\" >LATE_ARR</td>\n",
       "                        <td id=\"T_853f8da6_9fc0_11eb_a88f_91b431191c18row46_col1\" class=\"data row46 col1\" >0.360285</td>\n",
       "            </tr>\n",
       "            <tr>\n",
       "                        <th id=\"T_853f8da6_9fc0_11eb_a88f_91b431191c18level0_row47\" class=\"row_heading level0 row47\" >47</th>\n",
       "                        <td id=\"T_853f8da6_9fc0_11eb_a88f_91b431191c18row47_col0\" class=\"data row47 col0\" >IN_FLIGHTS_H</td>\n",
       "                        <td id=\"T_853f8da6_9fc0_11eb_a88f_91b431191c18row47_col1\" class=\"data row47 col1\" >0.008867</td>\n",
       "            </tr>\n",
       "            <tr>\n",
       "                        <th id=\"T_853f8da6_9fc0_11eb_a88f_91b431191c18level0_row48\" class=\"row_heading level0 row48\" >48</th>\n",
       "                        <td id=\"T_853f8da6_9fc0_11eb_a88f_91b431191c18row48_col0\" class=\"data row48 col0\" >OUT_FLIGHTS_H</td>\n",
       "                        <td id=\"T_853f8da6_9fc0_11eb_a88f_91b431191c18row48_col1\" class=\"data row48 col1\" >0.011497</td>\n",
       "            </tr>\n",
       "            <tr>\n",
       "                        <th id=\"T_853f8da6_9fc0_11eb_a88f_91b431191c18level0_row49\" class=\"row_heading level0 row49\" >49</th>\n",
       "                        <td id=\"T_853f8da6_9fc0_11eb_a88f_91b431191c18row49_col0\" class=\"data row49 col0\" >LATE_DEP_1</td>\n",
       "                        <td id=\"T_853f8da6_9fc0_11eb_a88f_91b431191c18row49_col1\" class=\"data row49 col1\" >0.061946</td>\n",
       "            </tr>\n",
       "            <tr>\n",
       "                        <th id=\"T_853f8da6_9fc0_11eb_a88f_91b431191c18level0_row50\" class=\"row_heading level0 row50\" >50</th>\n",
       "                        <td id=\"T_853f8da6_9fc0_11eb_a88f_91b431191c18row50_col0\" class=\"data row50 col0\" >LATE_DEP_2</td>\n",
       "                        <td id=\"T_853f8da6_9fc0_11eb_a88f_91b431191c18row50_col1\" class=\"data row50 col1\" >0.059678</td>\n",
       "            </tr>\n",
       "            <tr>\n",
       "                        <th id=\"T_853f8da6_9fc0_11eb_a88f_91b431191c18level0_row51\" class=\"row_heading level0 row51\" >51</th>\n",
       "                        <td id=\"T_853f8da6_9fc0_11eb_a88f_91b431191c18row51_col0\" class=\"data row51 col0\" >LATE_DEP_3</td>\n",
       "                        <td id=\"T_853f8da6_9fc0_11eb_a88f_91b431191c18row51_col1\" class=\"data row51 col1\" >0.041550</td>\n",
       "            </tr>\n",
       "            <tr>\n",
       "                        <th id=\"T_853f8da6_9fc0_11eb_a88f_91b431191c18level0_row52\" class=\"row_heading level0 row52\" >52</th>\n",
       "                        <td id=\"T_853f8da6_9fc0_11eb_a88f_91b431191c18row52_col0\" class=\"data row52 col0\" >LATE_DEP_4</td>\n",
       "                        <td id=\"T_853f8da6_9fc0_11eb_a88f_91b431191c18row52_col1\" class=\"data row52 col1\" >0.059168</td>\n",
       "            </tr>\n",
       "    </tbody></table>"
      ],
      "text/plain": [
       "<pandas.io.formats.style.Styler at 0x7f63f7718a60>"
      ]
     },
     "execution_count": 34,
     "metadata": {},
     "output_type": "execute_result"
    }
   ],
   "source": [
    "grad_feature = pd.DataFrame({\"features\": flights.drop(['DEP_DELAY', 'target', 'LONGEST_ADD_GTIME'], axis=1).columns})\n",
    "tmp = pd.DataFrame({'col': grad.feature_importances_})\n",
    "grad_feature = pd.concat([grad_feature, tmp], axis=1)\n",
    "grad_feature.style.background_gradient()"
   ]
  },
  {
   "cell_type": "code",
   "execution_count": 35,
   "metadata": {},
   "outputs": [],
   "source": [
    "grad_feature.sort_values(by='col', inplace=True)"
   ]
  },
  {
   "cell_type": "code",
   "execution_count": 36,
   "metadata": {},
   "outputs": [],
   "source": [
    "top = grad_feature.sort_values(by='col').tail(9)"
   ]
  },
  {
   "cell_type": "code",
   "execution_count": 37,
   "metadata": {},
   "outputs": [
    {
     "data": {
      "application/vnd.plotly.v1+json": {
       "config": {
        "plotlyServerURL": "https://plot.ly"
       },
       "data": [
        {
         "marker": {
          "color": [
           0.01212705485522747,
           0.015563998371362686,
           0.041550297290086746,
           0.05916754901409149,
           0.05967751145362854,
           0.06194620952010155,
           0.07225995510816574,
           0.1449933648109436,
           0.360284686088562
          ],
          "colorscale": [
           [
            0,
            "rgb(253, 237, 176)"
           ],
           [
            0.09090909090909091,
            "rgb(250, 205, 145)"
           ],
           [
            0.18181818181818182,
            "rgb(246, 173, 119)"
           ],
           [
            0.2727272727272727,
            "rgb(240, 142, 98)"
           ],
           [
            0.36363636363636365,
            "rgb(231, 109, 84)"
           ],
           [
            0.45454545454545453,
            "rgb(216, 80, 83)"
           ],
           [
            0.5454545454545454,
            "rgb(195, 56, 90)"
           ],
           [
            0.6363636363636364,
            "rgb(168, 40, 96)"
           ],
           [
            0.7272727272727273,
            "rgb(138, 29, 99)"
           ],
           [
            0.8181818181818182,
            "rgb(107, 24, 93)"
           ],
           [
            0.9090909090909091,
            "rgb(76, 21, 80)"
           ],
           [
            1,
            "rgb(47, 15, 61)"
           ]
          ],
          "showscale": true
         },
         "type": "bar",
         "x": [
          "AIRLINE",
          "COUNT",
          "LATE_DEP_3",
          "LATE_DEP_4",
          "LATE_DEP_2",
          "LATE_DEP_1",
          "CRS_DEP_TIME",
          "FIRST_DEP_TIME",
          "LATE_ARR"
         ],
         "y": [
          0.01212705485522747,
          0.015563998371362686,
          0.041550297290086746,
          0.05916754901409149,
          0.05967751145362854,
          0.06194620952010155,
          0.07225995510816574,
          0.1449933648109436,
          0.360284686088562
         ]
        }
       ],
       "layout": {
        "font": {
         "size": 28
        },
        "height": 700,
        "template": {
         "data": {
          "bar": [
           {
            "error_x": {
             "color": "#2a3f5f"
            },
            "error_y": {
             "color": "#2a3f5f"
            },
            "marker": {
             "line": {
              "color": "#E5ECF6",
              "width": 0.5
             }
            },
            "type": "bar"
           }
          ],
          "barpolar": [
           {
            "marker": {
             "line": {
              "color": "#E5ECF6",
              "width": 0.5
             }
            },
            "type": "barpolar"
           }
          ],
          "carpet": [
           {
            "aaxis": {
             "endlinecolor": "#2a3f5f",
             "gridcolor": "white",
             "linecolor": "white",
             "minorgridcolor": "white",
             "startlinecolor": "#2a3f5f"
            },
            "baxis": {
             "endlinecolor": "#2a3f5f",
             "gridcolor": "white",
             "linecolor": "white",
             "minorgridcolor": "white",
             "startlinecolor": "#2a3f5f"
            },
            "type": "carpet"
           }
          ],
          "choropleth": [
           {
            "colorbar": {
             "outlinewidth": 0,
             "ticks": ""
            },
            "type": "choropleth"
           }
          ],
          "contour": [
           {
            "colorbar": {
             "outlinewidth": 0,
             "ticks": ""
            },
            "colorscale": [
             [
              0,
              "#0d0887"
             ],
             [
              0.1111111111111111,
              "#46039f"
             ],
             [
              0.2222222222222222,
              "#7201a8"
             ],
             [
              0.3333333333333333,
              "#9c179e"
             ],
             [
              0.4444444444444444,
              "#bd3786"
             ],
             [
              0.5555555555555556,
              "#d8576b"
             ],
             [
              0.6666666666666666,
              "#ed7953"
             ],
             [
              0.7777777777777778,
              "#fb9f3a"
             ],
             [
              0.8888888888888888,
              "#fdca26"
             ],
             [
              1,
              "#f0f921"
             ]
            ],
            "type": "contour"
           }
          ],
          "contourcarpet": [
           {
            "colorbar": {
             "outlinewidth": 0,
             "ticks": ""
            },
            "type": "contourcarpet"
           }
          ],
          "heatmap": [
           {
            "colorbar": {
             "outlinewidth": 0,
             "ticks": ""
            },
            "colorscale": [
             [
              0,
              "#0d0887"
             ],
             [
              0.1111111111111111,
              "#46039f"
             ],
             [
              0.2222222222222222,
              "#7201a8"
             ],
             [
              0.3333333333333333,
              "#9c179e"
             ],
             [
              0.4444444444444444,
              "#bd3786"
             ],
             [
              0.5555555555555556,
              "#d8576b"
             ],
             [
              0.6666666666666666,
              "#ed7953"
             ],
             [
              0.7777777777777778,
              "#fb9f3a"
             ],
             [
              0.8888888888888888,
              "#fdca26"
             ],
             [
              1,
              "#f0f921"
             ]
            ],
            "type": "heatmap"
           }
          ],
          "heatmapgl": [
           {
            "colorbar": {
             "outlinewidth": 0,
             "ticks": ""
            },
            "colorscale": [
             [
              0,
              "#0d0887"
             ],
             [
              0.1111111111111111,
              "#46039f"
             ],
             [
              0.2222222222222222,
              "#7201a8"
             ],
             [
              0.3333333333333333,
              "#9c179e"
             ],
             [
              0.4444444444444444,
              "#bd3786"
             ],
             [
              0.5555555555555556,
              "#d8576b"
             ],
             [
              0.6666666666666666,
              "#ed7953"
             ],
             [
              0.7777777777777778,
              "#fb9f3a"
             ],
             [
              0.8888888888888888,
              "#fdca26"
             ],
             [
              1,
              "#f0f921"
             ]
            ],
            "type": "heatmapgl"
           }
          ],
          "histogram": [
           {
            "marker": {
             "colorbar": {
              "outlinewidth": 0,
              "ticks": ""
             }
            },
            "type": "histogram"
           }
          ],
          "histogram2d": [
           {
            "colorbar": {
             "outlinewidth": 0,
             "ticks": ""
            },
            "colorscale": [
             [
              0,
              "#0d0887"
             ],
             [
              0.1111111111111111,
              "#46039f"
             ],
             [
              0.2222222222222222,
              "#7201a8"
             ],
             [
              0.3333333333333333,
              "#9c179e"
             ],
             [
              0.4444444444444444,
              "#bd3786"
             ],
             [
              0.5555555555555556,
              "#d8576b"
             ],
             [
              0.6666666666666666,
              "#ed7953"
             ],
             [
              0.7777777777777778,
              "#fb9f3a"
             ],
             [
              0.8888888888888888,
              "#fdca26"
             ],
             [
              1,
              "#f0f921"
             ]
            ],
            "type": "histogram2d"
           }
          ],
          "histogram2dcontour": [
           {
            "colorbar": {
             "outlinewidth": 0,
             "ticks": ""
            },
            "colorscale": [
             [
              0,
              "#0d0887"
             ],
             [
              0.1111111111111111,
              "#46039f"
             ],
             [
              0.2222222222222222,
              "#7201a8"
             ],
             [
              0.3333333333333333,
              "#9c179e"
             ],
             [
              0.4444444444444444,
              "#bd3786"
             ],
             [
              0.5555555555555556,
              "#d8576b"
             ],
             [
              0.6666666666666666,
              "#ed7953"
             ],
             [
              0.7777777777777778,
              "#fb9f3a"
             ],
             [
              0.8888888888888888,
              "#fdca26"
             ],
             [
              1,
              "#f0f921"
             ]
            ],
            "type": "histogram2dcontour"
           }
          ],
          "mesh3d": [
           {
            "colorbar": {
             "outlinewidth": 0,
             "ticks": ""
            },
            "type": "mesh3d"
           }
          ],
          "parcoords": [
           {
            "line": {
             "colorbar": {
              "outlinewidth": 0,
              "ticks": ""
             }
            },
            "type": "parcoords"
           }
          ],
          "pie": [
           {
            "automargin": true,
            "type": "pie"
           }
          ],
          "scatter": [
           {
            "marker": {
             "colorbar": {
              "outlinewidth": 0,
              "ticks": ""
             }
            },
            "type": "scatter"
           }
          ],
          "scatter3d": [
           {
            "line": {
             "colorbar": {
              "outlinewidth": 0,
              "ticks": ""
             }
            },
            "marker": {
             "colorbar": {
              "outlinewidth": 0,
              "ticks": ""
             }
            },
            "type": "scatter3d"
           }
          ],
          "scattercarpet": [
           {
            "marker": {
             "colorbar": {
              "outlinewidth": 0,
              "ticks": ""
             }
            },
            "type": "scattercarpet"
           }
          ],
          "scattergeo": [
           {
            "marker": {
             "colorbar": {
              "outlinewidth": 0,
              "ticks": ""
             }
            },
            "type": "scattergeo"
           }
          ],
          "scattergl": [
           {
            "marker": {
             "colorbar": {
              "outlinewidth": 0,
              "ticks": ""
             }
            },
            "type": "scattergl"
           }
          ],
          "scattermapbox": [
           {
            "marker": {
             "colorbar": {
              "outlinewidth": 0,
              "ticks": ""
             }
            },
            "type": "scattermapbox"
           }
          ],
          "scatterpolar": [
           {
            "marker": {
             "colorbar": {
              "outlinewidth": 0,
              "ticks": ""
             }
            },
            "type": "scatterpolar"
           }
          ],
          "scatterpolargl": [
           {
            "marker": {
             "colorbar": {
              "outlinewidth": 0,
              "ticks": ""
             }
            },
            "type": "scatterpolargl"
           }
          ],
          "scatterternary": [
           {
            "marker": {
             "colorbar": {
              "outlinewidth": 0,
              "ticks": ""
             }
            },
            "type": "scatterternary"
           }
          ],
          "surface": [
           {
            "colorbar": {
             "outlinewidth": 0,
             "ticks": ""
            },
            "colorscale": [
             [
              0,
              "#0d0887"
             ],
             [
              0.1111111111111111,
              "#46039f"
             ],
             [
              0.2222222222222222,
              "#7201a8"
             ],
             [
              0.3333333333333333,
              "#9c179e"
             ],
             [
              0.4444444444444444,
              "#bd3786"
             ],
             [
              0.5555555555555556,
              "#d8576b"
             ],
             [
              0.6666666666666666,
              "#ed7953"
             ],
             [
              0.7777777777777778,
              "#fb9f3a"
             ],
             [
              0.8888888888888888,
              "#fdca26"
             ],
             [
              1,
              "#f0f921"
             ]
            ],
            "type": "surface"
           }
          ],
          "table": [
           {
            "cells": {
             "fill": {
              "color": "#EBF0F8"
             },
             "line": {
              "color": "white"
             }
            },
            "header": {
             "fill": {
              "color": "#C8D4E3"
             },
             "line": {
              "color": "white"
             }
            },
            "type": "table"
           }
          ]
         },
         "layout": {
          "annotationdefaults": {
           "arrowcolor": "#2a3f5f",
           "arrowhead": 0,
           "arrowwidth": 1
          },
          "autotypenumbers": "strict",
          "coloraxis": {
           "colorbar": {
            "outlinewidth": 0,
            "ticks": ""
           }
          },
          "colorscale": {
           "diverging": [
            [
             0,
             "#8e0152"
            ],
            [
             0.1,
             "#c51b7d"
            ],
            [
             0.2,
             "#de77ae"
            ],
            [
             0.3,
             "#f1b6da"
            ],
            [
             0.4,
             "#fde0ef"
            ],
            [
             0.5,
             "#f7f7f7"
            ],
            [
             0.6,
             "#e6f5d0"
            ],
            [
             0.7,
             "#b8e186"
            ],
            [
             0.8,
             "#7fbc41"
            ],
            [
             0.9,
             "#4d9221"
            ],
            [
             1,
             "#276419"
            ]
           ],
           "sequential": [
            [
             0,
             "#0d0887"
            ],
            [
             0.1111111111111111,
             "#46039f"
            ],
            [
             0.2222222222222222,
             "#7201a8"
            ],
            [
             0.3333333333333333,
             "#9c179e"
            ],
            [
             0.4444444444444444,
             "#bd3786"
            ],
            [
             0.5555555555555556,
             "#d8576b"
            ],
            [
             0.6666666666666666,
             "#ed7953"
            ],
            [
             0.7777777777777778,
             "#fb9f3a"
            ],
            [
             0.8888888888888888,
             "#fdca26"
            ],
            [
             1,
             "#f0f921"
            ]
           ],
           "sequentialminus": [
            [
             0,
             "#0d0887"
            ],
            [
             0.1111111111111111,
             "#46039f"
            ],
            [
             0.2222222222222222,
             "#7201a8"
            ],
            [
             0.3333333333333333,
             "#9c179e"
            ],
            [
             0.4444444444444444,
             "#bd3786"
            ],
            [
             0.5555555555555556,
             "#d8576b"
            ],
            [
             0.6666666666666666,
             "#ed7953"
            ],
            [
             0.7777777777777778,
             "#fb9f3a"
            ],
            [
             0.8888888888888888,
             "#fdca26"
            ],
            [
             1,
             "#f0f921"
            ]
           ]
          },
          "colorway": [
           "#636efa",
           "#EF553B",
           "#00cc96",
           "#ab63fa",
           "#FFA15A",
           "#19d3f3",
           "#FF6692",
           "#B6E880",
           "#FF97FF",
           "#FECB52"
          ],
          "font": {
           "color": "#2a3f5f"
          },
          "geo": {
           "bgcolor": "white",
           "lakecolor": "white",
           "landcolor": "#E5ECF6",
           "showlakes": true,
           "showland": true,
           "subunitcolor": "white"
          },
          "hoverlabel": {
           "align": "left"
          },
          "hovermode": "closest",
          "mapbox": {
           "style": "light"
          },
          "paper_bgcolor": "white",
          "plot_bgcolor": "#E5ECF6",
          "polar": {
           "angularaxis": {
            "gridcolor": "white",
            "linecolor": "white",
            "ticks": ""
           },
           "bgcolor": "#E5ECF6",
           "radialaxis": {
            "gridcolor": "white",
            "linecolor": "white",
            "ticks": ""
           }
          },
          "scene": {
           "xaxis": {
            "backgroundcolor": "#E5ECF6",
            "gridcolor": "white",
            "gridwidth": 2,
            "linecolor": "white",
            "showbackground": true,
            "ticks": "",
            "zerolinecolor": "white"
           },
           "yaxis": {
            "backgroundcolor": "#E5ECF6",
            "gridcolor": "white",
            "gridwidth": 2,
            "linecolor": "white",
            "showbackground": true,
            "ticks": "",
            "zerolinecolor": "white"
           },
           "zaxis": {
            "backgroundcolor": "#E5ECF6",
            "gridcolor": "white",
            "gridwidth": 2,
            "linecolor": "white",
            "showbackground": true,
            "ticks": "",
            "zerolinecolor": "white"
           }
          },
          "shapedefaults": {
           "line": {
            "color": "#2a3f5f"
           }
          },
          "ternary": {
           "aaxis": {
            "gridcolor": "white",
            "linecolor": "white",
            "ticks": ""
           },
           "baxis": {
            "gridcolor": "white",
            "linecolor": "white",
            "ticks": ""
           },
           "bgcolor": "#E5ECF6",
           "caxis": {
            "gridcolor": "white",
            "linecolor": "white",
            "ticks": ""
           }
          },
          "title": {
           "x": 0.05
          },
          "xaxis": {
           "automargin": true,
           "gridcolor": "white",
           "linecolor": "white",
           "ticks": "",
           "title": {
            "standoff": 15
           },
           "zerolinecolor": "white",
           "zerolinewidth": 2
          },
          "yaxis": {
           "automargin": true,
           "gridcolor": "white",
           "linecolor": "white",
           "ticks": "",
           "title": {
            "standoff": 15
           },
           "zerolinecolor": "white",
           "zerolinewidth": 2
          }
         }
        },
        "width": 1500,
        "xaxis": {
         "tickangle": 30
        },
        "yaxis": {
         "title": {
          "text": "Вес"
         }
        }
       }
      },
      "text/html": [
       "<div>                            <div id=\"39bf3831-3749-4027-afa5-9fcff0379c43\" class=\"plotly-graph-div\" style=\"height:700px; width:1500px;\"></div>            <script type=\"text/javascript\">                require([\"plotly\"], function(Plotly) {                    window.PLOTLYENV=window.PLOTLYENV || {};                                    if (document.getElementById(\"39bf3831-3749-4027-afa5-9fcff0379c43\")) {                    Plotly.newPlot(                        \"39bf3831-3749-4027-afa5-9fcff0379c43\",                        [{\"marker\": {\"color\": [0.01212705485522747, 0.015563998371362686, 0.041550297290086746, 0.05916754901409149, 0.05967751145362854, 0.06194620952010155, 0.07225995510816574, 0.1449933648109436, 0.360284686088562], \"colorscale\": [[0.0, \"rgb(253, 237, 176)\"], [0.09090909090909091, \"rgb(250, 205, 145)\"], [0.18181818181818182, \"rgb(246, 173, 119)\"], [0.2727272727272727, \"rgb(240, 142, 98)\"], [0.36363636363636365, \"rgb(231, 109, 84)\"], [0.45454545454545453, \"rgb(216, 80, 83)\"], [0.5454545454545454, \"rgb(195, 56, 90)\"], [0.6363636363636364, \"rgb(168, 40, 96)\"], [0.7272727272727273, \"rgb(138, 29, 99)\"], [0.8181818181818182, \"rgb(107, 24, 93)\"], [0.9090909090909091, \"rgb(76, 21, 80)\"], [1.0, \"rgb(47, 15, 61)\"]], \"showscale\": true}, \"type\": \"bar\", \"x\": [\"AIRLINE\", \"COUNT\", \"LATE_DEP_3\", \"LATE_DEP_4\", \"LATE_DEP_2\", \"LATE_DEP_1\", \"CRS_DEP_TIME\", \"FIRST_DEP_TIME\", \"LATE_ARR\"], \"y\": [0.01212705485522747, 0.015563998371362686, 0.041550297290086746, 0.05916754901409149, 0.05967751145362854, 0.06194620952010155, 0.07225995510816574, 0.1449933648109436, 0.360284686088562]}],                        {\"font\": {\"size\": 28}, \"height\": 700, \"template\": {\"data\": {\"bar\": [{\"error_x\": {\"color\": \"#2a3f5f\"}, \"error_y\": {\"color\": \"#2a3f5f\"}, \"marker\": {\"line\": {\"color\": \"#E5ECF6\", \"width\": 0.5}}, \"type\": \"bar\"}], \"barpolar\": [{\"marker\": {\"line\": {\"color\": \"#E5ECF6\", \"width\": 0.5}}, \"type\": \"barpolar\"}], \"carpet\": [{\"aaxis\": {\"endlinecolor\": \"#2a3f5f\", \"gridcolor\": \"white\", \"linecolor\": \"white\", \"minorgridcolor\": \"white\", \"startlinecolor\": \"#2a3f5f\"}, \"baxis\": {\"endlinecolor\": \"#2a3f5f\", \"gridcolor\": \"white\", \"linecolor\": \"white\", \"minorgridcolor\": \"white\", \"startlinecolor\": \"#2a3f5f\"}, \"type\": \"carpet\"}], \"choropleth\": [{\"colorbar\": {\"outlinewidth\": 0, \"ticks\": \"\"}, \"type\": \"choropleth\"}], \"contour\": [{\"colorbar\": {\"outlinewidth\": 0, \"ticks\": \"\"}, \"colorscale\": [[0.0, \"#0d0887\"], [0.1111111111111111, \"#46039f\"], [0.2222222222222222, \"#7201a8\"], [0.3333333333333333, \"#9c179e\"], [0.4444444444444444, \"#bd3786\"], [0.5555555555555556, \"#d8576b\"], [0.6666666666666666, \"#ed7953\"], [0.7777777777777778, \"#fb9f3a\"], [0.8888888888888888, \"#fdca26\"], [1.0, \"#f0f921\"]], \"type\": \"contour\"}], \"contourcarpet\": [{\"colorbar\": {\"outlinewidth\": 0, \"ticks\": \"\"}, \"type\": \"contourcarpet\"}], \"heatmap\": [{\"colorbar\": {\"outlinewidth\": 0, \"ticks\": \"\"}, \"colorscale\": [[0.0, \"#0d0887\"], [0.1111111111111111, \"#46039f\"], [0.2222222222222222, \"#7201a8\"], [0.3333333333333333, \"#9c179e\"], [0.4444444444444444, \"#bd3786\"], [0.5555555555555556, \"#d8576b\"], [0.6666666666666666, \"#ed7953\"], [0.7777777777777778, \"#fb9f3a\"], [0.8888888888888888, \"#fdca26\"], [1.0, \"#f0f921\"]], \"type\": \"heatmap\"}], \"heatmapgl\": [{\"colorbar\": {\"outlinewidth\": 0, \"ticks\": \"\"}, \"colorscale\": [[0.0, \"#0d0887\"], [0.1111111111111111, \"#46039f\"], [0.2222222222222222, \"#7201a8\"], [0.3333333333333333, \"#9c179e\"], [0.4444444444444444, \"#bd3786\"], [0.5555555555555556, \"#d8576b\"], [0.6666666666666666, \"#ed7953\"], [0.7777777777777778, \"#fb9f3a\"], [0.8888888888888888, \"#fdca26\"], [1.0, \"#f0f921\"]], \"type\": \"heatmapgl\"}], \"histogram\": [{\"marker\": {\"colorbar\": {\"outlinewidth\": 0, \"ticks\": \"\"}}, \"type\": \"histogram\"}], \"histogram2d\": [{\"colorbar\": {\"outlinewidth\": 0, \"ticks\": \"\"}, \"colorscale\": [[0.0, \"#0d0887\"], [0.1111111111111111, \"#46039f\"], [0.2222222222222222, \"#7201a8\"], [0.3333333333333333, \"#9c179e\"], [0.4444444444444444, \"#bd3786\"], [0.5555555555555556, \"#d8576b\"], [0.6666666666666666, \"#ed7953\"], [0.7777777777777778, \"#fb9f3a\"], [0.8888888888888888, \"#fdca26\"], [1.0, \"#f0f921\"]], \"type\": \"histogram2d\"}], \"histogram2dcontour\": [{\"colorbar\": {\"outlinewidth\": 0, \"ticks\": \"\"}, \"colorscale\": [[0.0, \"#0d0887\"], [0.1111111111111111, \"#46039f\"], [0.2222222222222222, \"#7201a8\"], [0.3333333333333333, \"#9c179e\"], [0.4444444444444444, \"#bd3786\"], [0.5555555555555556, \"#d8576b\"], [0.6666666666666666, \"#ed7953\"], [0.7777777777777778, \"#fb9f3a\"], [0.8888888888888888, \"#fdca26\"], [1.0, \"#f0f921\"]], \"type\": \"histogram2dcontour\"}], \"mesh3d\": [{\"colorbar\": {\"outlinewidth\": 0, \"ticks\": \"\"}, \"type\": \"mesh3d\"}], \"parcoords\": [{\"line\": {\"colorbar\": {\"outlinewidth\": 0, \"ticks\": \"\"}}, \"type\": \"parcoords\"}], \"pie\": [{\"automargin\": true, \"type\": \"pie\"}], \"scatter\": [{\"marker\": {\"colorbar\": {\"outlinewidth\": 0, \"ticks\": \"\"}}, \"type\": \"scatter\"}], \"scatter3d\": [{\"line\": {\"colorbar\": {\"outlinewidth\": 0, \"ticks\": \"\"}}, \"marker\": {\"colorbar\": {\"outlinewidth\": 0, \"ticks\": \"\"}}, \"type\": \"scatter3d\"}], \"scattercarpet\": [{\"marker\": {\"colorbar\": {\"outlinewidth\": 0, \"ticks\": \"\"}}, \"type\": \"scattercarpet\"}], \"scattergeo\": [{\"marker\": {\"colorbar\": {\"outlinewidth\": 0, \"ticks\": \"\"}}, \"type\": \"scattergeo\"}], \"scattergl\": [{\"marker\": {\"colorbar\": {\"outlinewidth\": 0, \"ticks\": \"\"}}, \"type\": \"scattergl\"}], \"scattermapbox\": [{\"marker\": {\"colorbar\": {\"outlinewidth\": 0, \"ticks\": \"\"}}, \"type\": \"scattermapbox\"}], \"scatterpolar\": [{\"marker\": {\"colorbar\": {\"outlinewidth\": 0, \"ticks\": \"\"}}, \"type\": \"scatterpolar\"}], \"scatterpolargl\": [{\"marker\": {\"colorbar\": {\"outlinewidth\": 0, \"ticks\": \"\"}}, \"type\": \"scatterpolargl\"}], \"scatterternary\": [{\"marker\": {\"colorbar\": {\"outlinewidth\": 0, \"ticks\": \"\"}}, \"type\": \"scatterternary\"}], \"surface\": [{\"colorbar\": {\"outlinewidth\": 0, \"ticks\": \"\"}, \"colorscale\": [[0.0, \"#0d0887\"], [0.1111111111111111, \"#46039f\"], [0.2222222222222222, \"#7201a8\"], [0.3333333333333333, \"#9c179e\"], [0.4444444444444444, \"#bd3786\"], [0.5555555555555556, \"#d8576b\"], [0.6666666666666666, \"#ed7953\"], [0.7777777777777778, \"#fb9f3a\"], [0.8888888888888888, \"#fdca26\"], [1.0, \"#f0f921\"]], \"type\": \"surface\"}], \"table\": [{\"cells\": {\"fill\": {\"color\": \"#EBF0F8\"}, \"line\": {\"color\": \"white\"}}, \"header\": {\"fill\": {\"color\": \"#C8D4E3\"}, \"line\": {\"color\": \"white\"}}, \"type\": \"table\"}]}, \"layout\": {\"annotationdefaults\": {\"arrowcolor\": \"#2a3f5f\", \"arrowhead\": 0, \"arrowwidth\": 1}, \"autotypenumbers\": \"strict\", \"coloraxis\": {\"colorbar\": {\"outlinewidth\": 0, \"ticks\": \"\"}}, \"colorscale\": {\"diverging\": [[0, \"#8e0152\"], [0.1, \"#c51b7d\"], [0.2, \"#de77ae\"], [0.3, \"#f1b6da\"], [0.4, \"#fde0ef\"], [0.5, \"#f7f7f7\"], [0.6, \"#e6f5d0\"], [0.7, \"#b8e186\"], [0.8, \"#7fbc41\"], [0.9, \"#4d9221\"], [1, \"#276419\"]], \"sequential\": [[0.0, \"#0d0887\"], [0.1111111111111111, \"#46039f\"], [0.2222222222222222, \"#7201a8\"], [0.3333333333333333, \"#9c179e\"], [0.4444444444444444, \"#bd3786\"], [0.5555555555555556, \"#d8576b\"], [0.6666666666666666, \"#ed7953\"], [0.7777777777777778, \"#fb9f3a\"], [0.8888888888888888, \"#fdca26\"], [1.0, \"#f0f921\"]], \"sequentialminus\": [[0.0, \"#0d0887\"], [0.1111111111111111, \"#46039f\"], [0.2222222222222222, \"#7201a8\"], [0.3333333333333333, \"#9c179e\"], [0.4444444444444444, \"#bd3786\"], [0.5555555555555556, \"#d8576b\"], [0.6666666666666666, \"#ed7953\"], [0.7777777777777778, \"#fb9f3a\"], [0.8888888888888888, \"#fdca26\"], [1.0, \"#f0f921\"]]}, \"colorway\": [\"#636efa\", \"#EF553B\", \"#00cc96\", \"#ab63fa\", \"#FFA15A\", \"#19d3f3\", \"#FF6692\", \"#B6E880\", \"#FF97FF\", \"#FECB52\"], \"font\": {\"color\": \"#2a3f5f\"}, \"geo\": {\"bgcolor\": \"white\", \"lakecolor\": \"white\", \"landcolor\": \"#E5ECF6\", \"showlakes\": true, \"showland\": true, \"subunitcolor\": \"white\"}, \"hoverlabel\": {\"align\": \"left\"}, \"hovermode\": \"closest\", \"mapbox\": {\"style\": \"light\"}, \"paper_bgcolor\": \"white\", \"plot_bgcolor\": \"#E5ECF6\", \"polar\": {\"angularaxis\": {\"gridcolor\": \"white\", \"linecolor\": \"white\", \"ticks\": \"\"}, \"bgcolor\": \"#E5ECF6\", \"radialaxis\": {\"gridcolor\": \"white\", \"linecolor\": \"white\", \"ticks\": \"\"}}, \"scene\": {\"xaxis\": {\"backgroundcolor\": \"#E5ECF6\", \"gridcolor\": \"white\", \"gridwidth\": 2, \"linecolor\": \"white\", \"showbackground\": true, \"ticks\": \"\", \"zerolinecolor\": \"white\"}, \"yaxis\": {\"backgroundcolor\": \"#E5ECF6\", \"gridcolor\": \"white\", \"gridwidth\": 2, \"linecolor\": \"white\", \"showbackground\": true, \"ticks\": \"\", \"zerolinecolor\": \"white\"}, \"zaxis\": {\"backgroundcolor\": \"#E5ECF6\", \"gridcolor\": \"white\", \"gridwidth\": 2, \"linecolor\": \"white\", \"showbackground\": true, \"ticks\": \"\", \"zerolinecolor\": \"white\"}}, \"shapedefaults\": {\"line\": {\"color\": \"#2a3f5f\"}}, \"ternary\": {\"aaxis\": {\"gridcolor\": \"white\", \"linecolor\": \"white\", \"ticks\": \"\"}, \"baxis\": {\"gridcolor\": \"white\", \"linecolor\": \"white\", \"ticks\": \"\"}, \"bgcolor\": \"#E5ECF6\", \"caxis\": {\"gridcolor\": \"white\", \"linecolor\": \"white\", \"ticks\": \"\"}}, \"title\": {\"x\": 0.05}, \"xaxis\": {\"automargin\": true, \"gridcolor\": \"white\", \"linecolor\": \"white\", \"ticks\": \"\", \"title\": {\"standoff\": 15}, \"zerolinecolor\": \"white\", \"zerolinewidth\": 2}, \"yaxis\": {\"automargin\": true, \"gridcolor\": \"white\", \"linecolor\": \"white\", \"ticks\": \"\", \"title\": {\"standoff\": 15}, \"zerolinecolor\": \"white\", \"zerolinewidth\": 2}}}, \"width\": 1500, \"xaxis\": {\"tickangle\": 30}, \"yaxis\": {\"title\": {\"text\": \"\\u0412\\u0435\\u0441\"}}},                        {\"responsive\": true}                    ).then(function(){\n",
       "                            \n",
       "var gd = document.getElementById('39bf3831-3749-4027-afa5-9fcff0379c43');\n",
       "var x = new MutationObserver(function (mutations, observer) {{\n",
       "        var display = window.getComputedStyle(gd).display;\n",
       "        if (!display || display === 'none') {{\n",
       "            console.log([gd, 'removed!']);\n",
       "            Plotly.purge(gd);\n",
       "            observer.disconnect();\n",
       "        }}\n",
       "}});\n",
       "\n",
       "// Listen for the removal of the full notebook cells\n",
       "var notebookContainer = gd.closest('#notebook-container');\n",
       "if (notebookContainer) {{\n",
       "    x.observe(notebookContainer, {childList: true});\n",
       "}}\n",
       "\n",
       "// Listen for the clearing of the current output cell\n",
       "var outputEl = gd.closest('.output');\n",
       "if (outputEl) {{\n",
       "    x.observe(outputEl, {childList: true});\n",
       "}}\n",
       "\n",
       "                        })                };                });            </script>        </div>"
      ]
     },
     "metadata": {},
     "output_type": "display_data"
    }
   ],
   "source": [
    "trace = go.Bar(\n",
    "    x=top.features,\n",
    "    y=top.col,\n",
    "    marker=dict(\n",
    "        color = top.col,\n",
    "        colorscale='matter', #RdPu\n",
    "        showscale=True\n",
    "    )\n",
    ")\n",
    "\n",
    "data = [trace]\n",
    "layout = go.Layout(xaxis=dict(tickangle=30),\n",
    "                   yaxis = dict(title = 'Вес'),\n",
    "                   width=1500,\n",
    "                   height=700\n",
    "                  )\n",
    "\n",
    "fig = go.Figure(data=data, layout=layout)\n",
    "fig.update_layout(\n",
    "    font=dict(\n",
    "        size=28,\n",
    "    )\n",
    ")\n",
    "fig.show()"
   ]
  },
  {
   "cell_type": "code",
   "execution_count": null,
   "metadata": {},
   "outputs": [],
   "source": []
  },
  {
   "cell_type": "markdown",
   "metadata": {},
   "source": [
    "Наиболее важным признаком для обеих моделей оказался LATE_ARR - был ли задержан прилёт самолёта с предыдущего рейса. Данный признак действительно имеет важное значение. Однако существуют ещё много факторов, которые не содержатся в исходном наборе данных. Например, время загрузки багажа, время обслуживания самолёта, его техническое состояние, ожидание пассажиров стыковочных рейсов и прочее. Даже погодные условия не так важны. Если случается сильная метель, ураган, грозы, то рейс, скорее всего отменят или перенесут на более поздний срок. Температура, влажность, осадки, давление не является проблемой для современных самолётов"
   ]
  },
  {
   "cell_type": "code",
   "execution_count": 20,
   "metadata": {},
   "outputs": [],
   "source": [
    "X_train, X_test, y_train, y_test = train_test_split(flights.drop(['DEP_DELAY', 'target'], axis=1),\n",
    "                 flights.target, random_state=42, shuffle=True)\n",
    "X_train = scaler.fit_transform(X_train)\n",
    "X_test = scaler.transform(X_test)"
   ]
  },
  {
   "cell_type": "code",
   "execution_count": 19,
   "metadata": {},
   "outputs": [],
   "source": [
    "import keras"
   ]
  },
  {
   "cell_type": "code",
   "execution_count": 20,
   "metadata": {},
   "outputs": [
    {
     "name": "stdout",
     "output_type": "stream",
     "text": [
      "Epoch 1/10\n",
      "14212/14212 [==============================] - 36s 2ms/step - loss: 0.3787 - val_loss: 0.3665\n",
      "Epoch 2/10\n",
      "14212/14212 [==============================] - 33s 2ms/step - loss: 0.3649 - val_loss: 0.3647\n",
      "Epoch 3/10\n",
      "14212/14212 [==============================] - 34s 2ms/step - loss: 0.3616 - val_loss: 0.3638\n",
      "Epoch 4/10\n",
      "14212/14212 [==============================] - 34s 2ms/step - loss: 0.3614 - val_loss: 0.3634\n",
      "Epoch 5/10\n",
      "14212/14212 [==============================] - 32s 2ms/step - loss: 0.3601 - val_loss: 0.3625\n",
      "Epoch 6/10\n",
      "14212/14212 [==============================] - 33s 2ms/step - loss: 0.3609 - val_loss: 0.3625\n",
      "Epoch 7/10\n",
      "14212/14212 [==============================] - 34s 2ms/step - loss: 0.3598 - val_loss: 0.3622\n",
      "Epoch 8/10\n",
      "14212/14212 [==============================] - 33s 2ms/step - loss: 0.3595 - val_loss: 0.3618\n",
      "Epoch 9/10\n",
      "14212/14212 [==============================] - 32s 2ms/step - loss: 0.3596 - val_loss: 0.3620\n",
      "Epoch 10/10\n",
      "14212/14212 [==============================] - 34s 2ms/step - loss: 0.3593 - val_loss: 0.3615\n"
     ]
    }
   ],
   "source": [
    "model = Sequential()\n",
    "model.add(Dense(32, activation='relu', kernel_initializer='he_normal', input_shape=(X_train.shape[1],)))\n",
    "model.add(Dense(32, activation='relu', kernel_initializer='he_normal'))\n",
    "model.add(Dense(32, activation='relu', kernel_initializer='he_normal'))\n",
    "model.add(Dense(32, activation='relu', kernel_initializer='he_normal'))\n",
    "model.add(Dense(1,  activation='sigmoid', kernel_initializer='he_normal'))\n",
    "model.compile(optimizer=keras.optimizers.Adam(learning_rate=0.001), loss='binary_crossentropy')\n",
    "history = model.fit(X_train, y_train, epochs=10, validation_split=0.2, batch_size=128)"
   ]
  },
  {
   "cell_type": "code",
   "execution_count": 21,
   "metadata": {},
   "outputs": [
    {
     "data": {
      "image/png": "[encoded data removed]",
      "text/plain": [
       "<Figure size 432x288 with 1 Axes>"
      ]
     },
     "metadata": {
      "needs_background": "light"
     },
     "output_type": "display_data"
    }
   ],
   "source": [
    "plot_pr_curve(y_test, model.predict(X_test))"
   ]
  },
  {
   "cell_type": "code",
   "execution_count": 22,
   "metadata": {},
   "outputs": [],
   "source": [
    "p_network = model.predict(X_test)"
   ]
  },
  {
   "cell_type": "code",
   "execution_count": 23,
   "metadata": {},
   "outputs": [],
   "source": [
    "def asd(x):\n",
    "    if x > 0.28:\n",
    "        return 1\n",
    "    return 0"
   ]
  },
  {
   "cell_type": "code",
   "execution_count": 24,
   "metadata": {},
   "outputs": [],
   "source": [
    "from tqdm import tqdm"
   ]
  },
  {
   "cell_type": "code",
   "execution_count": 30,
   "metadata": {
    "scrolled": true
   },
   "outputs": [
    {
     "name": "stderr",
     "output_type": "stream",
     "text": [
      "100%|██████████| 757928/757928 [00:02<00:00, 273461.32it/s]\n"
     ]
    },
    {
     "name": "stdout",
     "output_type": "stream",
     "text": [
      "              precision    recall  f1-score   support\n",
      "\n",
      "           0       0.90      0.90      0.90    613014\n",
      "           1       0.58      0.59      0.59    144914\n",
      "\n",
      "    accuracy                           0.84    757928\n",
      "   macro avg       0.74      0.74      0.74    757928\n",
      "weighted avg       0.84      0.84      0.84    757928\n",
      "\n"
     ]
    }
   ],
   "source": [
    "test_score = []\n",
    "for i in tqdm(range(len(y_test))):\n",
    "    test_score.append(asd(p_network[i]))\n",
    "    \n",
    "print(classification_report(y_test, test_score))"
   ]
  },
  {
   "cell_type": "markdown",
   "metadata": {},
   "source": [
    "### Классификатор с голосованием"
   ]
  },
  {
   "cell_type": "code",
   "execution_count": 18,
   "metadata": {},
   "outputs": [
    {
     "name": "stdout",
     "output_type": "stream",
     "text": [
      "[15:06:47] WARNING: ../src/learner.cc:1061: Starting in XGBoost 1.3.0, the default evaluation metric used with the objective 'binary:logistic' was changed from 'error' to 'logloss'. Explicitly set eval_metric if you'd like to restore the old behavior.\n",
      "              precision    recall  f1-score   support\n",
      "\n",
      "           0       0.91      0.92      0.92    968190\n",
      "           1       0.63      0.59      0.61    216504\n",
      "\n",
      "    accuracy                           0.86   1184694\n",
      "   macro avg       0.77      0.76      0.76   1184694\n",
      "weighted avg       0.86      0.86      0.86   1184694\n",
      "\n",
      "CPU times: user 1h 18min 9s, sys: 32.6 s, total: 1h 18min 42s\n",
      "Wall time: 14min 40s\n"
     ]
    }
   ],
   "source": [
    "%%time\n",
    "logit = LogisticRegression(max_iter=200, class_weight='balanced')\n",
    "grad = XGBClassifier(random_state=42, n_jobs=6, use_label_encoder=False)\n",
    "vot_clf = fit_model(VotingClassifier(estimators=[('logit', logit), ('grad', grad)], voting='soft'), \n",
    "                  flights.drop(['DEP_DELAY', 'target'], axis=1),\n",
    "                  flights.target)"
   ]
  },
  {
   "cell_type": "code",
   "execution_count": 21,
   "metadata": {},
   "outputs": [
    {
     "data": {
      "image/png": "[encoded data removed]",
      "text/plain": [
       "<Figure size 432x288 with 1 Axes>"
      ]
     },
     "metadata": {
      "needs_background": "light"
     },
     "output_type": "display_data"
    }
   ],
   "source": [
    "plot_pr_curve(y_test, vot_clf.predict_proba(X_test)[:,1])"
   ]
  },
  {
   "cell_type": "markdown",
   "metadata": {},
   "source": [
    "Результат не превзошёл градиентный бустинг. Это обосновано тем, что оба классификатора показывают достаточно слабое качество. Поэтому нужно сосредоточится на новых признаках для повышения качества отдельных моделей, а не на ансамблеваемом обучении"
   ]
  },
  {
   "cell_type": "markdown",
   "metadata": {},
   "source": [
    "### Визуализация классификации"
   ]
  },
  {
   "cell_type": "code",
   "execution_count": 19,
   "metadata": {},
   "outputs": [],
   "source": [
    "def plot_scatter(model, X, y):\n",
    "    train_x, test_x, train_y, test_y = train_test_split(X, y, shuffle=True, random_state=42)\n",
    "    train_x = scaler.fit_transform(train_x.drop('DEP_DELAY', axis=1))\n",
    "    model.fit(train_x, train_y)\n",
    "    preds = model.predict(scaler.transform(test_x.drop('DEP_DELAY', axis=1)))\n",
    "    test_x['preds'] = preds\n",
    "    test_x['test'] = test_y\n",
    "    \n",
    "    plt.figure(figsize=(10,7))\n",
    "    sns.scatterplot(x=range(len(test_x.iloc[:150,:])), y=test_x.iloc[:150, :]['DEP_DELAY'], \n",
    "                hue=test_x.iloc[:150, :]['preds'], style=test_y[:150])\n",
    "    return model, X_test"
   ]
  },
  {
   "cell_type": "code",
   "execution_count": 20,
   "metadata": {},
   "outputs": [
    {
     "name": "stderr",
     "output_type": "stream",
     "text": [
      "<ipython-input-19-efccbb49f695>:6: SettingWithCopyWarning: \n",
      "A value is trying to be set on a copy of a slice from a DataFrame.\n",
      "Try using .loc[row_indexer,col_indexer] = value instead\n",
      "\n",
      "See the caveats in the documentation: https://pandas.pydata.org/pandas-docs/stable/user_guide/indexing.html#returning-a-view-versus-a-copy\n",
      "  test_x['preds'] = preds\n",
      "<ipython-input-19-efccbb49f695>:7: SettingWithCopyWarning: \n",
      "A value is trying to be set on a copy of a slice from a DataFrame.\n",
      "Try using .loc[row_indexer,col_indexer] = value instead\n",
      "\n",
      "See the caveats in the documentation: https://pandas.pydata.org/pandas-docs/stable/user_guide/indexing.html#returning-a-view-versus-a-copy\n",
      "  test_x['test'] = test_y\n"
     ]
    },
    {
     "name": "stdout",
     "output_type": "stream",
     "text": [
      "CPU times: user 59.2 s, sys: 10.5 s, total: 1min 9s\n",
      "Wall time: 1min 16s\n"
     ]
    },
    {
     "data": {
      "image/png": "[encoded data removed]",
      "text/plain": [
       "<Figure size 720x504 with 1 Axes>"
      ]
     },
     "metadata": {
      "needs_background": "light"
     },
     "output_type": "display_data"
    }
   ],
   "source": [
    "%%time\n",
    "logit, _ = plot_scatter(LogisticRegression(max_iter=200),\n",
    "            flights.drop(columns=['DEP_DELAY_GROUP', 'target']),\n",
    "            flights.target)"
   ]
  },
  {
   "cell_type": "code",
   "execution_count": 21,
   "metadata": {
    "scrolled": false
   },
   "outputs": [
    {
     "name": "stdout",
     "output_type": "stream",
     "text": [
      "[20:45:47] WARNING: ../src/learner.cc:1061: Starting in XGBoost 1.3.0, the default evaluation metric used with the objective 'binary:logistic' was changed from 'error' to 'logloss'. Explicitly set eval_metric if you'd like to restore the old behavior.\n"
     ]
    },
    {
     "name": "stderr",
     "output_type": "stream",
     "text": [
      "<ipython-input-19-efccbb49f695>:6: SettingWithCopyWarning: \n",
      "A value is trying to be set on a copy of a slice from a DataFrame.\n",
      "Try using .loc[row_indexer,col_indexer] = value instead\n",
      "\n",
      "See the caveats in the documentation: https://pandas.pydata.org/pandas-docs/stable/user_guide/indexing.html#returning-a-view-versus-a-copy\n",
      "  test_x['preds'] = preds\n",
      "<ipython-input-19-efccbb49f695>:7: SettingWithCopyWarning: \n",
      "A value is trying to be set on a copy of a slice from a DataFrame.\n",
      "Try using .loc[row_indexer,col_indexer] = value instead\n",
      "\n",
      "See the caveats in the documentation: https://pandas.pydata.org/pandas-docs/stable/user_guide/indexing.html#returning-a-view-versus-a-copy\n",
      "  test_x['test'] = test_y\n"
     ]
    },
    {
     "name": "stdout",
     "output_type": "stream",
     "text": [
      "CPU times: user 1h 15min 51s, sys: 25 s, total: 1h 16min 16s\n",
      "Wall time: 10min 8s\n"
     ]
    },
    {
     "data": {
      "image/png": "[encoded data removed]",
      "text/plain": [
       "<Figure size 720x504 with 1 Axes>"
      ]
     },
     "metadata": {
      "needs_background": "light"
     },
     "output_type": "display_data"
    }
   ],
   "source": [
    "%%time\n",
    "grad, _ = plot_scatter(XGBClassifier(random_state=42, n_jobs=6, use_label_encoder=False),\n",
    "            flights.drop(columns=['DEP_DELAY_GROUP', 'target']),\n",
    "            flights.target)"
   ]
  },
  {
   "cell_type": "markdown",
   "metadata": {},
   "source": [
    "## Анализ результатов"
   ]
  },
  {
   "cell_type": "markdown",
   "metadata": {},
   "source": [
    "Добавление новых признаков лучшим образом сказалось на качестве классификации. Но данных всё же не хватает для большой уверенности распознания больших задержек отправления. Такие важные данные как время технического обслуживания самолёта, время ожидания стыковочного рейса, время загрузки багажа, загруженность ВВП, скорее всего, не удастся раздобыть."
   ]
  }
 ],
 "metadata": {
  "kernelspec": {
   "display_name": "Python 3",
   "language": "python",
   "name": "python3"
  },
  "language_info": {
   "codemirror_mode": {
    "name": "ipython",
    "version": 3
   },
   "file_extension": ".py",
   "mimetype": "text/x-python",
   "name": "python",
   "nbconvert_exporter": "python",
   "pygments_lexer": "ipython3",
   "version": "3.8.5"
  }
 },
 "nbformat": 4,
 "nbformat_minor": 4
}
